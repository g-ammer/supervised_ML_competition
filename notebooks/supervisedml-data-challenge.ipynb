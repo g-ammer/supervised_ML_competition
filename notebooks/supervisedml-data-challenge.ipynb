{
 "cells": [
  {
   "cell_type": "markdown",
   "metadata": {},
   "source": [
    "# Supervised Machine Learning competition\n",
    "## Multi-class classification"
   ]
  },
  {
   "cell_type": "code",
   "execution_count": 18,
   "metadata": {
    "_cell_guid": "b1076dfc-b9ad-4769-8c92-a6c4dae69d19",
    "_uuid": "8f2839f25d086af736a60e9eeb907d3b93b6e0e5"
   },
   "outputs": [],
   "source": [
    "import numpy as np\n",
    "import pandas as pd\n",
    "import seaborn as sns\n",
    "import matplotlib.pyplot as plt\n",
    "%matplotlib inline\n",
    "\n",
    "import sklearn\n",
    "from sklearn.metrics import classification_report, confusion_matrix\n",
    "from sklearn.model_selection import cross_val_score\n",
    "\n",
    "from flaml import AutoML\n",
    "from catboost import CatBoostClassifier, Pool\n",
    "\n",
    "from hyperopt import hp, fmin, tpe, STATUS_OK, Trials"
   ]
  },
  {
   "cell_type": "markdown",
   "metadata": {},
   "source": [
    "Import data and store in DataFrames"
   ]
  },
  {
   "cell_type": "code",
   "execution_count": 2,
   "metadata": {},
   "outputs": [],
   "source": [
    "df_feat_test = pd.read_csv('../data/raw/features_test.csv')\n",
    "df_targ_train = pd.read_csv('../data/raw/target_train.csv')\n",
    "df_feat_train = pd.read_csv('../data/raw/features_train.csv')"
   ]
  },
  {
   "cell_type": "code",
   "execution_count": 4,
   "metadata": {},
   "outputs": [],
   "source": [
    "X_test_raw = df_feat_test\n",
    "X_train_raw = df_feat_train\n",
    "y_train = df_targ_train['Expected']\n",
    "\n",
    "X_train = X_train_raw.drop(columns = ['Id'])\n",
    "X_test = X_test_raw.drop(columns = ['Id'])"
   ]
  },
  {
   "cell_type": "markdown",
   "metadata": {},
   "source": [
    "Data inspection"
   ]
  },
  {
   "cell_type": "code",
   "execution_count": 5,
   "metadata": {
    "jupyter": {
     "source_hidden": true
    }
   },
   "outputs": [
    {
     "data": {
      "text/plain": [
       "((20000, 120), (10000, 120), (10000,))"
      ]
     },
     "execution_count": 5,
     "metadata": {},
     "output_type": "execute_result"
    }
   ],
   "source": [
    "X_test.shape, X_train.shape, y_train.shape"
   ]
  },
  {
   "cell_type": "code",
   "execution_count": 7,
   "metadata": {},
   "outputs": [
    {
     "name": "stdout",
     "output_type": "stream",
     "text": [
      "<class 'pandas.core.frame.DataFrame'>\n",
      "RangeIndex: 10000 entries, 0 to 9999\n",
      "Columns: 120 entries, 0 to 119\n",
      "dtypes: float64(120)\n",
      "memory usage: 9.2 MB\n"
     ]
    }
   ],
   "source": [
    "X_train.info()"
   ]
  },
  {
   "cell_type": "code",
   "execution_count": 6,
   "metadata": {},
   "outputs": [
    {
     "data": {
      "text/html": [
       "<div>\n",
       "<style scoped>\n",
       "    .dataframe tbody tr th:only-of-type {\n",
       "        vertical-align: middle;\n",
       "    }\n",
       "\n",
       "    .dataframe tbody tr th {\n",
       "        vertical-align: top;\n",
       "    }\n",
       "\n",
       "    .dataframe thead th {\n",
       "        text-align: right;\n",
       "    }\n",
       "</style>\n",
       "<table border=\"1\" class=\"dataframe\">\n",
       "  <thead>\n",
       "    <tr style=\"text-align: right;\">\n",
       "      <th></th>\n",
       "      <th>0</th>\n",
       "      <th>1</th>\n",
       "      <th>2</th>\n",
       "      <th>3</th>\n",
       "      <th>4</th>\n",
       "      <th>5</th>\n",
       "      <th>6</th>\n",
       "      <th>7</th>\n",
       "      <th>8</th>\n",
       "      <th>9</th>\n",
       "      <th>...</th>\n",
       "      <th>110</th>\n",
       "      <th>111</th>\n",
       "      <th>112</th>\n",
       "      <th>113</th>\n",
       "      <th>114</th>\n",
       "      <th>115</th>\n",
       "      <th>116</th>\n",
       "      <th>117</th>\n",
       "      <th>118</th>\n",
       "      <th>119</th>\n",
       "    </tr>\n",
       "  </thead>\n",
       "  <tbody>\n",
       "    <tr>\n",
       "      <th>count</th>\n",
       "      <td>1.000000e+04</td>\n",
       "      <td>10000.000000</td>\n",
       "      <td>1.000000e+04</td>\n",
       "      <td>10000.000000</td>\n",
       "      <td>1.000000e+04</td>\n",
       "      <td>1.000000e+04</td>\n",
       "      <td>10000.000000</td>\n",
       "      <td>10000.000000</td>\n",
       "      <td>10000.000000</td>\n",
       "      <td>10000.000000</td>\n",
       "      <td>...</td>\n",
       "      <td>10000.000000</td>\n",
       "      <td>10000.000000</td>\n",
       "      <td>10000.000000</td>\n",
       "      <td>10000.000000</td>\n",
       "      <td>10000.000000</td>\n",
       "      <td>10000.000000</td>\n",
       "      <td>10000.000000</td>\n",
       "      <td>10000.000000</td>\n",
       "      <td>10000.000000</td>\n",
       "      <td>10000.000000</td>\n",
       "    </tr>\n",
       "    <tr>\n",
       "      <th>mean</th>\n",
       "      <td>1.000206e+00</td>\n",
       "      <td>1.653294</td>\n",
       "      <td>1.323895e+01</td>\n",
       "      <td>1.631063</td>\n",
       "      <td>1.004520e+00</td>\n",
       "      <td>1.011949e+00</td>\n",
       "      <td>0.520059</td>\n",
       "      <td>1.657632</td>\n",
       "      <td>-0.002513</td>\n",
       "      <td>1.671704</td>\n",
       "      <td>...</td>\n",
       "      <td>1.648705</td>\n",
       "      <td>0.497571</td>\n",
       "      <td>0.493227</td>\n",
       "      <td>1.635187</td>\n",
       "      <td>-0.000071</td>\n",
       "      <td>-0.026737</td>\n",
       "      <td>0.013010</td>\n",
       "      <td>1.620603</td>\n",
       "      <td>0.503886</td>\n",
       "      <td>1.667950</td>\n",
       "    </tr>\n",
       "    <tr>\n",
       "      <th>std</th>\n",
       "      <td>1.423822e+00</td>\n",
       "      <td>2.278088</td>\n",
       "      <td>1.870323e+01</td>\n",
       "      <td>2.040002</td>\n",
       "      <td>1.409997e+00</td>\n",
       "      <td>1.444751e+00</td>\n",
       "      <td>31.791384</td>\n",
       "      <td>2.116264</td>\n",
       "      <td>10.060025</td>\n",
       "      <td>2.251833</td>\n",
       "      <td>...</td>\n",
       "      <td>2.188790</td>\n",
       "      <td>0.285955</td>\n",
       "      <td>0.290153</td>\n",
       "      <td>1.975617</td>\n",
       "      <td>0.997596</td>\n",
       "      <td>10.082855</td>\n",
       "      <td>9.968787</td>\n",
       "      <td>2.117979</td>\n",
       "      <td>0.285662</td>\n",
       "      <td>2.203032</td>\n",
       "    </tr>\n",
       "    <tr>\n",
       "      <th>min</th>\n",
       "      <td>1.282517e-08</td>\n",
       "      <td>0.024358</td>\n",
       "      <td>7.274511e-07</td>\n",
       "      <td>0.020518</td>\n",
       "      <td>3.379589e-11</td>\n",
       "      <td>1.348884e-07</td>\n",
       "      <td>-129.141171</td>\n",
       "      <td>0.019514</td>\n",
       "      <td>-37.427526</td>\n",
       "      <td>0.028163</td>\n",
       "      <td>...</td>\n",
       "      <td>0.022037</td>\n",
       "      <td>0.000128</td>\n",
       "      <td>0.000217</td>\n",
       "      <td>0.016691</td>\n",
       "      <td>-3.885360</td>\n",
       "      <td>-34.580159</td>\n",
       "      <td>-40.925480</td>\n",
       "      <td>0.016396</td>\n",
       "      <td>0.000139</td>\n",
       "      <td>0.029379</td>\n",
       "    </tr>\n",
       "    <tr>\n",
       "      <th>25%</th>\n",
       "      <td>1.040056e-01</td>\n",
       "      <td>0.509503</td>\n",
       "      <td>1.318718e+00</td>\n",
       "      <td>0.512428</td>\n",
       "      <td>1.042731e-01</td>\n",
       "      <td>1.005381e-01</td>\n",
       "      <td>-21.037225</td>\n",
       "      <td>0.507242</td>\n",
       "      <td>-6.698098</td>\n",
       "      <td>0.512798</td>\n",
       "      <td>...</td>\n",
       "      <td>0.510389</td>\n",
       "      <td>0.252094</td>\n",
       "      <td>0.241741</td>\n",
       "      <td>0.511563</td>\n",
       "      <td>-0.677989</td>\n",
       "      <td>-6.804569</td>\n",
       "      <td>-6.904905</td>\n",
       "      <td>0.504073</td>\n",
       "      <td>0.260493</td>\n",
       "      <td>0.513686</td>\n",
       "    </tr>\n",
       "    <tr>\n",
       "      <th>50%</th>\n",
       "      <td>4.602140e-01</td>\n",
       "      <td>0.995946</td>\n",
       "      <td>6.109321e+00</td>\n",
       "      <td>0.994325</td>\n",
       "      <td>4.558152e-01</td>\n",
       "      <td>4.490724e-01</td>\n",
       "      <td>0.351341</td>\n",
       "      <td>0.998968</td>\n",
       "      <td>0.081728</td>\n",
       "      <td>0.996833</td>\n",
       "      <td>...</td>\n",
       "      <td>0.990977</td>\n",
       "      <td>0.496045</td>\n",
       "      <td>0.488491</td>\n",
       "      <td>0.999822</td>\n",
       "      <td>-0.006377</td>\n",
       "      <td>-0.109698</td>\n",
       "      <td>0.155250</td>\n",
       "      <td>1.002604</td>\n",
       "      <td>0.503294</td>\n",
       "      <td>1.003636</td>\n",
       "    </tr>\n",
       "    <tr>\n",
       "      <th>75%</th>\n",
       "      <td>1.295762e+00</td>\n",
       "      <td>1.943914</td>\n",
       "      <td>1.758705e+01</td>\n",
       "      <td>1.933788</td>\n",
       "      <td>1.339252e+00</td>\n",
       "      <td>1.336866e+00</td>\n",
       "      <td>21.714889</td>\n",
       "      <td>1.982386</td>\n",
       "      <td>6.818884</td>\n",
       "      <td>1.984666</td>\n",
       "      <td>...</td>\n",
       "      <td>1.944777</td>\n",
       "      <td>0.744041</td>\n",
       "      <td>0.747421</td>\n",
       "      <td>1.988738</td>\n",
       "      <td>0.669345</td>\n",
       "      <td>6.765366</td>\n",
       "      <td>6.820834</td>\n",
       "      <td>1.932612</td>\n",
       "      <td>0.748390</td>\n",
       "      <td>1.941041</td>\n",
       "    </tr>\n",
       "    <tr>\n",
       "      <th>max</th>\n",
       "      <td>1.601254e+01</td>\n",
       "      <td>72.033830</td>\n",
       "      <td>2.681004e+02</td>\n",
       "      <td>33.933547</td>\n",
       "      <td>1.684319e+01</td>\n",
       "      <td>1.812245e+01</td>\n",
       "      <td>118.399310</td>\n",
       "      <td>37.265489</td>\n",
       "      <td>38.392229</td>\n",
       "      <td>45.191073</td>\n",
       "      <td>...</td>\n",
       "      <td>36.698799</td>\n",
       "      <td>0.999973</td>\n",
       "      <td>0.999895</td>\n",
       "      <td>26.936000</td>\n",
       "      <td>3.737129</td>\n",
       "      <td>36.371289</td>\n",
       "      <td>34.679957</td>\n",
       "      <td>44.943499</td>\n",
       "      <td>0.999985</td>\n",
       "      <td>45.467996</td>\n",
       "    </tr>\n",
       "  </tbody>\n",
       "</table>\n",
       "<p>8 rows × 120 columns</p>\n",
       "</div>"
      ],
      "text/plain": [
       "                  0             1             2             3             4  \\\n",
       "count  1.000000e+04  10000.000000  1.000000e+04  10000.000000  1.000000e+04   \n",
       "mean   1.000206e+00      1.653294  1.323895e+01      1.631063  1.004520e+00   \n",
       "std    1.423822e+00      2.278088  1.870323e+01      2.040002  1.409997e+00   \n",
       "min    1.282517e-08      0.024358  7.274511e-07      0.020518  3.379589e-11   \n",
       "25%    1.040056e-01      0.509503  1.318718e+00      0.512428  1.042731e-01   \n",
       "50%    4.602140e-01      0.995946  6.109321e+00      0.994325  4.558152e-01   \n",
       "75%    1.295762e+00      1.943914  1.758705e+01      1.933788  1.339252e+00   \n",
       "max    1.601254e+01     72.033830  2.681004e+02     33.933547  1.684319e+01   \n",
       "\n",
       "                  5             6             7             8             9  \\\n",
       "count  1.000000e+04  10000.000000  10000.000000  10000.000000  10000.000000   \n",
       "mean   1.011949e+00      0.520059      1.657632     -0.002513      1.671704   \n",
       "std    1.444751e+00     31.791384      2.116264     10.060025      2.251833   \n",
       "min    1.348884e-07   -129.141171      0.019514    -37.427526      0.028163   \n",
       "25%    1.005381e-01    -21.037225      0.507242     -6.698098      0.512798   \n",
       "50%    4.490724e-01      0.351341      0.998968      0.081728      0.996833   \n",
       "75%    1.336866e+00     21.714889      1.982386      6.818884      1.984666   \n",
       "max    1.812245e+01    118.399310     37.265489     38.392229     45.191073   \n",
       "\n",
       "       ...           110           111           112           113  \\\n",
       "count  ...  10000.000000  10000.000000  10000.000000  10000.000000   \n",
       "mean   ...      1.648705      0.497571      0.493227      1.635187   \n",
       "std    ...      2.188790      0.285955      0.290153      1.975617   \n",
       "min    ...      0.022037      0.000128      0.000217      0.016691   \n",
       "25%    ...      0.510389      0.252094      0.241741      0.511563   \n",
       "50%    ...      0.990977      0.496045      0.488491      0.999822   \n",
       "75%    ...      1.944777      0.744041      0.747421      1.988738   \n",
       "max    ...     36.698799      0.999973      0.999895     26.936000   \n",
       "\n",
       "                114           115           116           117           118  \\\n",
       "count  10000.000000  10000.000000  10000.000000  10000.000000  10000.000000   \n",
       "mean      -0.000071     -0.026737      0.013010      1.620603      0.503886   \n",
       "std        0.997596     10.082855      9.968787      2.117979      0.285662   \n",
       "min       -3.885360    -34.580159    -40.925480      0.016396      0.000139   \n",
       "25%       -0.677989     -6.804569     -6.904905      0.504073      0.260493   \n",
       "50%       -0.006377     -0.109698      0.155250      1.002604      0.503294   \n",
       "75%        0.669345      6.765366      6.820834      1.932612      0.748390   \n",
       "max        3.737129     36.371289     34.679957     44.943499      0.999985   \n",
       "\n",
       "                119  \n",
       "count  10000.000000  \n",
       "mean       1.667950  \n",
       "std        2.203032  \n",
       "min        0.029379  \n",
       "25%        0.513686  \n",
       "50%        1.003636  \n",
       "75%        1.941041  \n",
       "max       45.467996  \n",
       "\n",
       "[8 rows x 120 columns]"
      ]
     },
     "execution_count": 6,
     "metadata": {},
     "output_type": "execute_result"
    }
   ],
   "source": [
    "X_train.describe()"
   ]
  },
  {
   "cell_type": "code",
   "execution_count": 8,
   "metadata": {},
   "outputs": [
    {
     "data": {
      "text/plain": [
       "array([0], dtype=int64)"
      ]
     },
     "execution_count": 8,
     "metadata": {},
     "output_type": "execute_result"
    }
   ],
   "source": [
    "X_train.isnull().sum().unique()"
   ]
  },
  {
   "cell_type": "code",
   "execution_count": 14,
   "metadata": {},
   "outputs": [
    {
     "name": "stderr",
     "output_type": "stream",
     "text": [
      "C:\\Users\\gammer\\AppData\\Local\\anaconda3\\envs\\MLOps-dev\\Lib\\site-packages\\seaborn\\matrix.py:560: UserWarning: Clustering large matrix with scipy. Installing `fastcluster` may give better performance.\n",
      "  warnings.warn(msg)\n",
      "C:\\Users\\gammer\\AppData\\Local\\anaconda3\\envs\\MLOps-dev\\Lib\\site-packages\\seaborn\\matrix.py:560: UserWarning: Clustering large matrix with scipy. Installing `fastcluster` may give better performance.\n",
      "  warnings.warn(msg)\n"
     ]
    },
    {
     "data": {
      "image/png": "[encoded data removed]",
      "text/plain": [
       "<Figure size 700x700 with 4 Axes>"
      ]
     },
     "metadata": {},
     "output_type": "display_data"
    }
   ],
   "source": [
    "sns_plot = sns.clustermap(X_train.corr(), cmap=\"rocket_r\", figsize=(7,7))"
   ]
  },
  {
   "cell_type": "code",
   "execution_count": 15,
   "metadata": {},
   "outputs": [
    {
     "data": {
      "text/plain": [
       "0   0     1.000000\n",
       "42  20    0.225950\n",
       "37  86    0.173106\n",
       "6   11    0.151067\n",
       "42  98    0.127878\n",
       "            ...   \n",
       "74  37   -0.116483\n",
       "37  98   -0.117223\n",
       "50  11   -0.126067\n",
       "86  74   -0.136069\n",
       "60  42   -0.156317\n",
       "Length: 7141, dtype: float64"
      ]
     },
     "execution_count": 15,
     "metadata": {},
     "output_type": "execute_result"
    }
   ],
   "source": [
    "X_train.corr().unstack().sort_values(ascending=False).drop_duplicates()"
   ]
  },
  {
   "cell_type": "code",
   "execution_count": null,
   "metadata": {
    "execution": {
     "iopub.execute_input": "2024-03-13T14:14:07.261964Z",
     "iopub.status.busy": "2024-03-13T14:14:07.261564Z",
     "iopub.status.idle": "2024-03-13T14:14:07.271146Z",
     "shell.execute_reply": "2024-03-13T14:14:07.269211Z",
     "shell.execute_reply.started": "2024-03-13T14:14:07.261935Z"
    }
   },
   "outputs": [],
   "source": [
    "model_Cat = CatBoostClassifier(\n",
    "         early_stopping_rounds = 10,\n",
    "         learning_rate = 0.06692273485930686,\n",
    "         n_estimators = 200,\n",
    "         thread_count = -1,\n",
    "         verbose = False,\n",
    "         random_seed = 10242048,\n",
    "         #od_type = \"Iter\",\n",
    "         #od_wait = 10\n",
    ")"
   ]
  },
  {
   "cell_type": "code",
   "execution_count": null,
   "metadata": {
    "execution": {
     "iopub.execute_input": "2024-03-13T14:14:09.201842Z",
     "iopub.status.busy": "2024-03-13T14:14:09.201345Z",
     "iopub.status.idle": "2024-03-13T14:15:03.698344Z",
     "shell.execute_reply": "2024-03-13T14:15:03.697014Z",
     "shell.execute_reply.started": "2024-03-13T14:14:09.201806Z"
    }
   },
   "outputs": [],
   "source": [
    "feats = model_Cat.select_features(X_train, y_train,\n",
    "                         features_for_select=list(range(120)),\n",
    "                         num_features_to_select=16)"
   ]
  },
  {
   "cell_type": "code",
   "execution_count": null,
   "metadata": {
    "execution": {
     "iopub.execute_input": "2024-03-13T14:15:27.595280Z",
     "iopub.status.busy": "2024-03-13T14:15:27.594836Z",
     "iopub.status.idle": "2024-03-13T14:15:27.605006Z",
     "shell.execute_reply": "2024-03-13T14:15:27.603365Z",
     "shell.execute_reply.started": "2024-03-13T14:15:27.595246Z"
    }
   },
   "outputs": [],
   "source": [
    "X_train_red = X_train.iloc[:,feats['selected_features']]\n",
    "X_train_red.shape"
   ]
  },
  {
   "cell_type": "code",
   "execution_count": null,
   "metadata": {
    "execution": {
     "iopub.execute_input": "2024-03-13T13:41:54.023883Z",
     "iopub.status.busy": "2024-03-13T13:41:54.023280Z",
     "iopub.status.idle": "2024-03-13T13:41:54.030554Z",
     "shell.execute_reply": "2024-03-13T13:41:54.029092Z",
     "shell.execute_reply.started": "2024-03-13T13:41:54.023838Z"
    }
   },
   "outputs": [],
   "source": [
    "automl = AutoML()"
   ]
  },
  {
   "cell_type": "code",
   "execution_count": null,
   "metadata": {
    "execution": {
     "iopub.execute_input": "2024-03-13T15:29:45.643325Z",
     "iopub.status.busy": "2024-03-13T15:29:45.641638Z",
     "iopub.status.idle": "2024-03-13T15:29:45.650296Z",
     "shell.execute_reply": "2024-03-13T15:29:45.648921Z",
     "shell.execute_reply.started": "2024-03-13T15:29:45.643257Z"
    }
   },
   "outputs": [],
   "source": [
    "automl_settings = {\n",
    "    \"time_budget\": 1200, # 20 mins to try and select best model\n",
    "    \"metric\": 'macro_f1',\n",
    "    \"task\": 'classification',\n",
    "    \"log_file_name\": 'mylog.log',\n",
    "    \"eval_method\": 'cv',\n",
    "    \"n_splits\": 5\n",
    "}"
   ]
  },
  {
   "cell_type": "code",
   "execution_count": null,
   "metadata": {
    "execution": {
     "iopub.execute_input": "2024-03-13T15:29:49.391682Z",
     "iopub.status.busy": "2024-03-13T15:29:49.391281Z",
     "iopub.status.idle": "2024-03-13T15:49:59.072112Z",
     "shell.execute_reply": "2024-03-13T15:49:59.070950Z",
     "shell.execute_reply.started": "2024-03-13T15:29:49.391652Z"
    }
   },
   "outputs": [],
   "source": [
    "automl.fit(X_train=X_train_red, y_train=y_train.values,\n",
    "           **automl_settings)"
   ]
  },
  {
   "cell_type": "code",
   "execution_count": null,
   "metadata": {
    "execution": {
     "iopub.execute_input": "2024-03-13T15:53:14.431623Z",
     "iopub.status.busy": "2024-03-13T15:53:14.431008Z",
     "iopub.status.idle": "2024-03-13T15:53:14.440950Z",
     "shell.execute_reply": "2024-03-13T15:53:14.439231Z",
     "shell.execute_reply.started": "2024-03-13T15:53:14.431582Z"
    }
   },
   "outputs": [],
   "source": [
    "automl.best_estimator"
   ]
  },
  {
   "cell_type": "code",
   "execution_count": null,
   "metadata": {
    "execution": {
     "iopub.execute_input": "2024-03-13T15:53:15.732040Z",
     "iopub.status.busy": "2024-03-13T15:53:15.731567Z",
     "iopub.status.idle": "2024-03-13T15:53:15.740547Z",
     "shell.execute_reply": "2024-03-13T15:53:15.739176Z",
     "shell.execute_reply.started": "2024-03-13T15:53:15.732008Z"
    }
   },
   "outputs": [],
   "source": [
    "automl.best_config"
   ]
  },
  {
   "cell_type": "code",
   "execution_count": null,
   "metadata": {
    "execution": {
     "iopub.execute_input": "2024-03-13T15:53:22.093861Z",
     "iopub.status.busy": "2024-03-13T15:53:22.093398Z",
     "iopub.status.idle": "2024-03-13T15:53:22.103195Z",
     "shell.execute_reply": "2024-03-13T15:53:22.101335Z",
     "shell.execute_reply.started": "2024-03-13T15:53:22.093830Z"
    }
   },
   "outputs": [],
   "source": [
    "automl.model.get_params()"
   ]
  },
  {
   "cell_type": "code",
   "execution_count": null,
   "metadata": {
    "execution": {
     "iopub.execute_input": "2024-03-13T15:53:35.799125Z",
     "iopub.status.busy": "2024-03-13T15:53:35.798670Z",
     "iopub.status.idle": "2024-03-13T15:53:36.219787Z",
     "shell.execute_reply": "2024-03-13T15:53:36.217716Z",
     "shell.execute_reply.started": "2024-03-13T15:53:35.799093Z"
    }
   },
   "outputs": [],
   "source": [
    "predictions = automl.predict(X_train_red)\n",
    "cf = confusion_matrix(y_train, predictions)\n",
    "print(classification_report(y_train, predictions))\n",
    "sns.heatmap(cf, annot=True);"
   ]
  },
  {
   "cell_type": "markdown",
   "metadata": {},
   "source": [
    "# Use FLAML ensemble approach"
   ]
  },
  {
   "cell_type": "code",
   "execution_count": null,
   "metadata": {
    "collapsed": true,
    "execution": {
     "iopub.execute_input": "2024-03-13T14:33:11.615187Z",
     "iopub.status.busy": "2024-03-13T14:33:11.614191Z",
     "iopub.status.idle": "2024-03-13T14:47:38.220726Z",
     "shell.execute_reply": "2024-03-13T14:47:38.219609Z",
     "shell.execute_reply.started": "2024-03-13T14:33:11.615137Z"
    },
    "jupyter": {
     "outputs_hidden": true
    }
   },
   "outputs": [],
   "source": [
    "automl_ens = AutoML()\n",
    "\n",
    "automl_ens.fit(X_train=X_train_red, y_train=y_train.values, ensemble=True,\n",
    "           **automl_settings)"
   ]
  },
  {
   "cell_type": "code",
   "execution_count": null,
   "metadata": {
    "execution": {
     "iopub.execute_input": "2024-03-13T14:50:43.538087Z",
     "iopub.status.busy": "2024-03-13T14:50:43.537619Z",
     "iopub.status.idle": "2024-03-13T14:50:43.547182Z",
     "shell.execute_reply": "2024-03-13T14:50:43.545881Z",
     "shell.execute_reply.started": "2024-03-13T14:50:43.538057Z"
    }
   },
   "outputs": [],
   "source": [
    "automl_ens.best_estimator"
   ]
  },
  {
   "cell_type": "code",
   "execution_count": null,
   "metadata": {
    "execution": {
     "iopub.execute_input": "2024-03-13T14:50:44.834101Z",
     "iopub.status.busy": "2024-03-13T14:50:44.833655Z",
     "iopub.status.idle": "2024-03-13T14:50:44.845403Z",
     "shell.execute_reply": "2024-03-13T14:50:44.843586Z",
     "shell.execute_reply.started": "2024-03-13T14:50:44.834070Z"
    }
   },
   "outputs": [],
   "source": [
    "automl_ens.model"
   ]
  },
  {
   "cell_type": "code",
   "execution_count": null,
   "metadata": {
    "execution": {
     "iopub.execute_input": "2024-03-13T14:50:52.113676Z",
     "iopub.status.busy": "2024-03-13T14:50:52.113158Z",
     "iopub.status.idle": "2024-03-13T14:50:53.765676Z",
     "shell.execute_reply": "2024-03-13T14:50:53.764226Z",
     "shell.execute_reply.started": "2024-03-13T14:50:52.113637Z"
    }
   },
   "outputs": [],
   "source": [
    "predictions = automl_ens.model.predict(X_train_red)\n",
    "cf = confusion_matrix(y_train, predictions)\n",
    "print(classification_report(y_train, predictions))\n",
    "sns.heatmap(cf, annot=True);"
   ]
  },
  {
   "cell_type": "markdown",
   "metadata": {},
   "source": [
    "## Continue with CatBoost algorithm"
   ]
  },
  {
   "cell_type": "code",
   "execution_count": 99,
   "metadata": {
    "execution": {
     "iopub.execute_input": "2024-03-13T16:05:15.543223Z",
     "iopub.status.busy": "2024-03-13T16:05:15.542711Z",
     "iopub.status.idle": "2024-03-13T16:05:15.551123Z",
     "shell.execute_reply": "2024-03-13T16:05:15.549409Z",
     "shell.execute_reply.started": "2024-03-13T16:05:15.543186Z"
    }
   },
   "outputs": [],
   "source": [
    "model_Cat = CatBoostClassifier(\n",
    "         early_stopping_rounds = 13,\n",
    "         learning_rate = 0.04171721859304757,\n",
    "         n_estimators = 2500,\n",
    "         thread_count = -1,\n",
    "         verbose = False,\n",
    "         random_seed = 10242048,\n",
    "         #od_type = \"Iter\",\n",
    "         #od_wait = 10\n",
    ")"
   ]
  },
  {
   "cell_type": "code",
   "execution_count": 100,
   "metadata": {
    "execution": {
     "iopub.execute_input": "2024-03-13T16:05:17.604528Z",
     "iopub.status.busy": "2024-03-13T16:05:17.604039Z",
     "iopub.status.idle": "2024-03-13T16:05:46.492801Z",
     "shell.execute_reply": "2024-03-13T16:05:46.490096Z",
     "shell.execute_reply.started": "2024-03-13T16:05:17.604492Z"
    }
   },
   "outputs": [
    {
     "data": {
      "text/plain": [
       "<catboost.core.CatBoostClassifier at 0x7b114e0323e0>"
      ]
     },
     "execution_count": 100,
     "metadata": {},
     "output_type": "execute_result"
    }
   ],
   "source": [
    "model_Cat.fit(X_train_red, y_train)"
   ]
  },
  {
   "cell_type": "code",
   "execution_count": 101,
   "metadata": {
    "execution": {
     "iopub.execute_input": "2024-03-13T16:05:46.496436Z",
     "iopub.status.busy": "2024-03-13T16:05:46.495500Z",
     "iopub.status.idle": "2024-03-13T16:08:05.712402Z",
     "shell.execute_reply": "2024-03-13T16:08:05.711434Z",
     "shell.execute_reply.started": "2024-03-13T16:05:46.496396Z"
    }
   },
   "outputs": [
    {
     "name": "stdout",
     "output_type": "stream",
     "text": [
      "[0.6900797  0.68053531 0.68903492 0.71367006 0.70220594]\n",
      "0.6951051868677635\n"
     ]
    }
   ],
   "source": [
    "cv_score = cross_val_score(model_Cat, X_train_red, y_train,\n",
    "                           cv=5, scoring='f1_macro')\n",
    "print(cv_score)\n",
    "print(np.mean(cv_score))"
   ]
  },
  {
   "cell_type": "code",
   "execution_count": null,
   "metadata": {
    "execution": {
     "iopub.execute_input": "2024-03-13T15:01:34.326664Z",
     "iopub.status.busy": "2024-03-13T15:01:34.326199Z",
     "iopub.status.idle": "2024-03-13T15:01:34.403194Z",
     "shell.execute_reply": "2024-03-13T15:01:34.401726Z",
     "shell.execute_reply.started": "2024-03-13T15:01:34.326629Z"
    }
   },
   "outputs": [],
   "source": [
    "list_feat_imp = model_Cat.get_feature_importance(data=Pool(X_train_red, label=y_train))"
   ]
  },
  {
   "cell_type": "code",
   "execution_count": null,
   "metadata": {
    "execution": {
     "iopub.execute_input": "2024-03-13T15:01:35.797351Z",
     "iopub.status.busy": "2024-03-13T15:01:35.796666Z",
     "iopub.status.idle": "2024-03-13T15:01:36.087085Z",
     "shell.execute_reply": "2024-03-13T15:01:36.085425Z",
     "shell.execute_reply.started": "2024-03-13T15:01:35.797293Z"
    }
   },
   "outputs": [],
   "source": [
    "plt.hist(list_feat_imp);"
   ]
  },
  {
   "cell_type": "code",
   "execution_count": null,
   "metadata": {
    "execution": {
     "iopub.execute_input": "2024-03-13T15:01:40.009839Z",
     "iopub.status.busy": "2024-03-13T15:01:40.009332Z",
     "iopub.status.idle": "2024-03-13T15:01:40.025132Z",
     "shell.execute_reply": "2024-03-13T15:01:40.023599Z",
     "shell.execute_reply.started": "2024-03-13T15:01:40.009801Z"
    }
   },
   "outputs": [],
   "source": [
    "list_feat_imp[list_feat_imp>1]"
   ]
  },
  {
   "cell_type": "markdown",
   "metadata": {},
   "source": [
    "## Finetune CatBoost using GridSearchCV"
   ]
  },
  {
   "cell_type": "code",
   "execution_count": null,
   "metadata": {
    "execution": {
     "iopub.execute_input": "2024-03-11T17:44:13.014887Z",
     "iopub.status.busy": "2024-03-11T17:44:13.014498Z",
     "iopub.status.idle": "2024-03-11T17:44:13.023832Z",
     "shell.execute_reply": "2024-03-11T17:44:13.022235Z",
     "shell.execute_reply.started": "2024-03-11T17:44:13.014857Z"
    }
   },
   "outputs": [],
   "source": [
    "from sklearn.model_selection import GridSearchCV\n",
    "\n",
    "catboost_tune = CatBoostClassifier(random_seed = 10242048,\n",
    "                                   verbose = False,\n",
    "                                   thread_count = -1)\n",
    "                                  \n",
    "\n",
    "grid_search = {\n",
    "            'early_stopping_rounds': [10, 13],\n",
    "            'min_data_in_leaf': [500],\n",
    "            'learning_rate': [0.175],\n",
    "            'n_estimators': [150],\n",
    "            'l2_leaf_reg': [4]}\n",
    "\n",
    "\n",
    "grid_search_obj = GridSearchCV(estimator=catboost_tune,\n",
    "                               param_grid=grid_search,\n",
    "                               scoring='f1_macro', cv=3, verbose=5, n_jobs=-1)\n",
    "\n",
    "#grid_search_obj.fit(X_Train,Y_Train)\n",
    "\n"
   ]
  },
  {
   "cell_type": "code",
   "execution_count": null,
   "metadata": {
    "execution": {
     "iopub.execute_input": "2024-03-11T17:44:15.016619Z",
     "iopub.status.busy": "2024-03-11T17:44:15.016129Z",
     "iopub.status.idle": "2024-03-11T17:44:22.251419Z",
     "shell.execute_reply": "2024-03-11T17:44:22.250284Z",
     "shell.execute_reply.started": "2024-03-11T17:44:15.016587Z"
    }
   },
   "outputs": [],
   "source": [
    "grid_search_obj.fit(X_train_red,y_train)"
   ]
  },
  {
   "cell_type": "code",
   "execution_count": null,
   "metadata": {
    "execution": {
     "iopub.execute_input": "2024-03-11T17:44:26.352920Z",
     "iopub.status.busy": "2024-03-11T17:44:26.352509Z",
     "iopub.status.idle": "2024-03-11T17:44:26.400550Z",
     "shell.execute_reply": "2024-03-11T17:44:26.399436Z",
     "shell.execute_reply.started": "2024-03-11T17:44:26.352881Z"
    }
   },
   "outputs": [],
   "source": [
    "predictioncat = grid_search_obj.best_estimator_.predict(X_train_red)\n",
    "print(confusion_matrix(y_train,predictioncat))\n",
    "print(classification_report(y_train,predictioncat))"
   ]
  },
  {
   "cell_type": "code",
   "execution_count": null,
   "metadata": {
    "execution": {
     "iopub.execute_input": "2024-03-11T17:44:26.751536Z",
     "iopub.status.busy": "2024-03-11T17:44:26.751119Z",
     "iopub.status.idle": "2024-03-11T17:44:26.772940Z",
     "shell.execute_reply": "2024-03-11T17:44:26.771457Z",
     "shell.execute_reply.started": "2024-03-11T17:44:26.751504Z"
    }
   },
   "outputs": [],
   "source": [
    "pd.set_option('display.max_colwidth', None)\n",
    "\n",
    "cv_result_df = pd.DataFrame({\n",
    "    'Model Rank': grid_search_obj.cv_results_['rank_test_score'],\n",
    "    'Model Hyperparams': grid_search_obj.cv_results_['params'],\n",
    "    'Avg CV F1-macro': grid_search_obj.cv_results_['mean_test_score'],\n",
    "    'Std Dev CV F1-macro': grid_search_obj.cv_results_['std_test_score'],\n",
    "    'CV Fold 1 F1-macro': grid_search_obj.cv_results_['split0_test_score'],\n",
    "    'CV Fold 2 F1-macro': grid_search_obj.cv_results_['split1_test_score'],\n",
    "    'CV Fold 3 F1-macro': grid_search_obj.cv_results_['split2_test_score']\n",
    "})\n",
    "\n",
    "\n",
    "cv_result_df.sort_values(by=['Model Rank'], ascending=True)"
   ]
  },
  {
   "cell_type": "markdown",
   "metadata": {},
   "source": [
    "## Use Hyperopt for Bayesian hyperparameter tuning"
   ]
  },
  {
   "cell_type": "code",
   "execution_count": null,
   "metadata": {
    "execution": {
     "iopub.execute_input": "2024-03-13T15:03:23.720674Z",
     "iopub.status.busy": "2024-03-13T15:03:23.720062Z",
     "iopub.status.idle": "2024-03-13T15:03:24.314048Z",
     "shell.execute_reply": "2024-03-13T15:03:24.312868Z",
     "shell.execute_reply.started": "2024-03-13T15:03:23.720633Z"
    }
   },
   "outputs": [],
   "source": [
    "from hyperopt import hp, fmin, tpe, STATUS_OK, Trials"
   ]
  },
  {
   "cell_type": "code",
   "execution_count": null,
   "metadata": {
    "execution": {
     "iopub.execute_input": "2024-03-13T15:12:04.163229Z",
     "iopub.status.busy": "2024-03-13T15:12:04.162751Z",
     "iopub.status.idle": "2024-03-13T15:19:34.385855Z",
     "shell.execute_reply": "2024-03-13T15:19:34.384381Z",
     "shell.execute_reply.started": "2024-03-13T15:12:04.163197Z"
    }
   },
   "outputs": [],
   "source": [
    "space = {\n",
    "    'learning_rate':  hp.choice('learning_rate', [0.04, 0.06]),\n",
    "    'n_estimators': hp.choice('n_estimators', [600, 860, 1000]),\n",
    "    'l2_leaf_reg' : hp.choice('l2_leaf_reg', [30, 100])\n",
    "}\n",
    "\n",
    "def objective(space):\n",
    "    cat_model_opt = CatBoostClassifier(\n",
    "\n",
    "                                        learning_rate = space['learning_rate'],\n",
    "                                        n_estimators = space['n_estimators'],\n",
    "                                        l2_leaf_reg = space['l2_leaf_reg'],\n",
    "                                        min_data_in_leaf = 300,\n",
    "                                        early_stopping_rounds = 13,\n",
    "                                        random_seed = 10242048,\n",
    "                                        verbose = False,\n",
    "                                        thread_count = -1)\n",
    "    \n",
    "   \n",
    "       \n",
    "    f1 = cross_val_score(cat_model_opt, X_train_red, y_train, cv=5, scoring='f1_macro').mean()\n",
    "\n",
    "    # We aim to maximize accuracy, therefore we return it as a negative value\n",
    "    return {'loss': -f1, 'status': STATUS_OK }\n",
    "\n",
    "trials = Trials()\n",
    "\n",
    "best = fmin(fn=objective,\n",
    "            space=space,\n",
    "            algo=tpe.suggest, # Tree parzen estimator\n",
    "            max_evals=10,\n",
    "            trials=trials)\n",
    "best"
   ]
  },
  {
   "cell_type": "code",
   "execution_count": null,
   "metadata": {
    "execution": {
     "iopub.execute_input": "2024-03-13T15:21:10.245179Z",
     "iopub.status.busy": "2024-03-13T15:21:10.244708Z",
     "iopub.status.idle": "2024-03-13T15:21:17.034410Z",
     "shell.execute_reply": "2024-03-13T15:21:17.033185Z",
     "shell.execute_reply.started": "2024-03-13T15:21:10.245147Z"
    }
   },
   "outputs": [],
   "source": [
    "depth = {0: 6}\n",
    "lrate = {0: 0.02, 1: 0.04, 2:0.06}\n",
    "n_est = {0: 600, 1:860, 2:1000}\n",
    "l2_reg = {0: 10, 1: 30, 2: 100}\n",
    "\n",
    "optimal_cat = CatBoostClassifier(\n",
    "                                       learning_rate = lrate[best['learning_rate']],\n",
    "                                       l2_leaf_reg = l2_reg[best['l2_leaf_reg']],\n",
    "                                       n_estimators = n_est[best['n_estimators']],\n",
    "                                       min_data_in_leaf = 500,\n",
    "                                        early_stopping_rounds = 5,\n",
    "                                        random_seed = 10242048,\n",
    "                                        verbose = False,\n",
    "                                        thread_count = -1,\n",
    "                                      ).fit(X_train_red,y_train)"
   ]
  },
  {
   "cell_type": "code",
   "execution_count": null,
   "metadata": {
    "execution": {
     "iopub.execute_input": "2024-03-13T15:21:19.360075Z",
     "iopub.status.busy": "2024-03-13T15:21:19.359562Z",
     "iopub.status.idle": "2024-03-13T15:21:19.430333Z",
     "shell.execute_reply": "2024-03-13T15:21:19.428867Z",
     "shell.execute_reply.started": "2024-03-13T15:21:19.360034Z"
    }
   },
   "outputs": [],
   "source": [
    "prediction_best_cat = optimal_cat.predict(X_train_red)\n",
    "print(confusion_matrix(y_train,prediction_best_cat))\n",
    "print(classification_report(y_train,prediction_best_cat))"
   ]
  },
  {
   "cell_type": "code",
   "execution_count": null,
   "metadata": {
    "execution": {
     "iopub.execute_input": "2024-03-13T15:20:36.079068Z",
     "iopub.status.busy": "2024-03-13T15:20:36.078602Z",
     "iopub.status.idle": "2024-03-13T15:20:36.091575Z",
     "shell.execute_reply": "2024-03-13T15:20:36.089633Z",
     "shell.execute_reply.started": "2024-03-13T15:20:36.079033Z"
    }
   },
   "outputs": [],
   "source": [
    "X_test_red = X_test.iloc[:,feats['selected_features']]\n",
    "X_train_red.shape"
   ]
  },
  {
   "cell_type": "code",
   "execution_count": null,
   "metadata": {
    "execution": {
     "iopub.execute_input": "2024-03-13T15:56:25.741023Z",
     "iopub.status.busy": "2024-03-13T15:56:25.740543Z",
     "iopub.status.idle": "2024-03-13T15:56:25.845000Z",
     "shell.execute_reply": "2024-03-13T15:56:25.843551Z",
     "shell.execute_reply.started": "2024-03-13T15:56:25.740984Z"
    }
   },
   "outputs": [],
   "source": [
    "y_pred_automl = automl.predict(X_test_red)"
   ]
  },
  {
   "cell_type": "code",
   "execution_count": null,
   "metadata": {
    "execution": {
     "iopub.execute_input": "2024-03-13T15:56:28.152418Z",
     "iopub.status.busy": "2024-03-13T15:56:28.151918Z",
     "iopub.status.idle": "2024-03-13T15:56:28.164054Z",
     "shell.execute_reply": "2024-03-13T15:56:28.162404Z",
     "shell.execute_reply.started": "2024-03-13T15:56:28.152384Z"
    }
   },
   "outputs": [],
   "source": [
    "df_pred_automl = pd.DataFrame()\n",
    "df_pred_automl['Id']=X_test_raw['Id']\n",
    "df_pred_automl.set_index('Id', inplace=True)\n",
    "df_pred_automl['Predicted'] = y_pred_automl.ravel()"
   ]
  },
  {
   "cell_type": "code",
   "execution_count": null,
   "metadata": {
    "execution": {
     "iopub.execute_input": "2024-03-13T15:56:33.595160Z",
     "iopub.status.busy": "2024-03-13T15:56:33.594718Z",
     "iopub.status.idle": "2024-03-13T15:56:33.622102Z",
     "shell.execute_reply": "2024-03-13T15:56:33.620567Z",
     "shell.execute_reply.started": "2024-03-13T15:56:33.595128Z"
    }
   },
   "outputs": [],
   "source": [
    "df_pred_automl.to_csv('df_pred_automl_2.csv')"
   ]
  },
  {
   "cell_type": "code",
   "execution_count": 102,
   "metadata": {
    "execution": {
     "iopub.execute_input": "2024-03-13T16:08:39.621862Z",
     "iopub.status.busy": "2024-03-13T16:08:39.621391Z",
     "iopub.status.idle": "2024-03-13T16:08:39.866836Z",
     "shell.execute_reply": "2024-03-13T16:08:39.865367Z",
     "shell.execute_reply.started": "2024-03-13T16:08:39.621831Z"
    }
   },
   "outputs": [],
   "source": [
    "y_pred_cat = model_Cat.predict(X_test_red)"
   ]
  },
  {
   "cell_type": "code",
   "execution_count": 103,
   "metadata": {
    "execution": {
     "iopub.execute_input": "2024-03-13T16:08:41.426618Z",
     "iopub.status.busy": "2024-03-13T16:08:41.426214Z",
     "iopub.status.idle": "2024-03-13T16:08:41.437932Z",
     "shell.execute_reply": "2024-03-13T16:08:41.436353Z",
     "shell.execute_reply.started": "2024-03-13T16:08:41.426590Z"
    }
   },
   "outputs": [],
   "source": [
    "df_pred_cat = pd.DataFrame()\n",
    "df_pred_cat['Id']=X_test_raw['Id']\n",
    "df_pred_cat.set_index('Id', inplace=True)\n",
    "df_pred_cat['Predicted'] = y_pred_cat.ravel()"
   ]
  },
  {
   "cell_type": "code",
   "execution_count": 104,
   "metadata": {
    "execution": {
     "iopub.execute_input": "2024-03-13T16:08:44.643913Z",
     "iopub.status.busy": "2024-03-13T16:08:44.643542Z",
     "iopub.status.idle": "2024-03-13T16:08:44.671693Z",
     "shell.execute_reply": "2024-03-13T16:08:44.668876Z",
     "shell.execute_reply.started": "2024-03-13T16:08:44.643885Z"
    }
   },
   "outputs": [],
   "source": [
    "df_pred_cat.to_csv('df_pred_cat4.csv')"
   ]
  },
  {
   "cell_type": "code",
   "execution_count": null,
   "metadata": {
    "execution": {
     "iopub.execute_input": "2024-03-11T17:57:07.966470Z",
     "iopub.status.busy": "2024-03-11T17:57:07.966032Z",
     "iopub.status.idle": "2024-03-11T17:57:08.009158Z",
     "shell.execute_reply": "2024-03-11T17:57:08.007977Z",
     "shell.execute_reply.started": "2024-03-11T17:57:07.966434Z"
    }
   },
   "outputs": [],
   "source": [
    "y_pred_opt_cat = optimal_cat.predict(X_test_red)"
   ]
  },
  {
   "cell_type": "code",
   "execution_count": null,
   "metadata": {
    "execution": {
     "iopub.execute_input": "2024-03-11T16:37:01.438617Z",
     "iopub.status.busy": "2024-03-11T16:37:01.438210Z",
     "iopub.status.idle": "2024-03-11T16:37:01.444846Z",
     "shell.execute_reply": "2024-03-11T16:37:01.443750Z",
     "shell.execute_reply.started": "2024-03-11T16:37:01.438589Z"
    }
   },
   "outputs": [],
   "source": [
    "comp = pd.DataFrame(red_prediction == red_prediction_2)"
   ]
  },
  {
   "cell_type": "code",
   "execution_count": null,
   "metadata": {
    "execution": {
     "iopub.execute_input": "2024-03-11T16:37:08.043417Z",
     "iopub.status.busy": "2024-03-11T16:37:08.042984Z",
     "iopub.status.idle": "2024-03-11T16:37:08.053010Z",
     "shell.execute_reply": "2024-03-11T16:37:08.051769Z",
     "shell.execute_reply.started": "2024-03-11T16:37:08.043382Z"
    }
   },
   "outputs": [],
   "source": [
    "comp.sum()"
   ]
  }
 ],
 "metadata": {
  "kaggle": {
   "accelerator": "none",
   "dataSources": [
    {
     "databundleVersionId": 4294648,
     "sourceId": 39157,
     "sourceType": "competition"
    }
   ],
   "dockerImageVersionId": 30664,
   "isGpuEnabled": false,
   "isInternetEnabled": true,
   "language": "python",
   "sourceType": "notebook"
  },
  "kernelspec": {
   "display_name": "Python 3 (ipykernel)",
   "language": "python",
   "name": "python3"
  },
  "language_info": {
   "codemirror_mode": {
    "name": "ipython",
    "version": 3
   },
   "file_extension": ".py",
   "mimetype": "text/x-python",
   "name": "python",
   "nbconvert_exporter": "python",
   "pygments_lexer": "ipython3",
   "version": "3.11.8"
  }
 },
 "nbformat": 4,
 "nbformat_minor": 4
}
