{
 "cells": [
  {
   "cell_type": "markdown",
   "metadata": {},
   "source": [
    "# Supervised Machine Learning competition\n",
    "## Multi-class classification"
   ]
  },
  {
   "cell_type": "code",
   "execution_count": 2,
   "metadata": {
    "_cell_guid": "b1076dfc-b9ad-4769-8c92-a6c4dae69d19",
    "_uuid": "8f2839f25d086af736a60e9eeb907d3b93b6e0e5"
   },
   "outputs": [],
   "source": [
    "import numpy as np\n",
    "import pandas as pd\n",
    "import seaborn as sns\n",
    "import matplotlib.pyplot as plt\n",
    "%matplotlib inline\n",
    "\n",
    "import sklearn\n",
    "from sklearn.linear_model import LogisticRegression\n",
    "from sklearn.metrics import classification_report, confusion_matrix\n",
    "from sklearn.model_selection import cross_val_score\n",
    "\n",
    "from flaml import AutoML\n",
    "from catboost import CatBoostClassifier, Pool\n",
    "\n",
    "from hyperopt import hp, fmin, tpe, STATUS_OK, Trials"
   ]
  },
  {
   "cell_type": "markdown",
   "metadata": {},
   "source": [
    "Import data and store in DataFrames"
   ]
  },
  {
   "cell_type": "code",
   "execution_count": 3,
   "metadata": {},
   "outputs": [],
   "source": [
    "df_feat_test = pd.read_csv('../data/raw/features_test.csv')\n",
    "df_targ_train = pd.read_csv('../data/raw/target_train.csv')\n",
    "df_feat_train = pd.read_csv('../data/raw/features_train.csv')"
   ]
  },
  {
   "cell_type": "code",
   "execution_count": 4,
   "metadata": {},
   "outputs": [],
   "source": [
    "X_test_raw = df_feat_test.copy()\n",
    "X_train_raw = df_feat_train.copy()\n",
    "y_train = df_targ_train['Expected']\n",
    "\n",
    "X_train = X_train_raw.drop(columns = ['Id'])\n",
    "X_test = X_test_raw.drop(columns = ['Id'])"
   ]
  },
  {
   "cell_type": "markdown",
   "metadata": {},
   "source": [
    "Data inspection"
   ]
  },
  {
   "cell_type": "code",
   "execution_count": 5,
   "metadata": {
    "jupyter": {
     "source_hidden": true
    }
   },
   "outputs": [
    {
     "data": {
      "text/plain": [
       "((20000, 120), (10000, 120), (10000,))"
      ]
     },
     "execution_count": 5,
     "metadata": {},
     "output_type": "execute_result"
    }
   ],
   "source": [
    "X_test.shape, X_train.shape, y_train.shape"
   ]
  },
  {
   "cell_type": "code",
   "execution_count": 6,
   "metadata": {},
   "outputs": [
    {
     "name": "stdout",
     "output_type": "stream",
     "text": [
      "<class 'pandas.core.frame.DataFrame'>\n",
      "RangeIndex: 10000 entries, 0 to 9999\n",
      "Columns: 120 entries, 0 to 119\n",
      "dtypes: float64(120)\n",
      "memory usage: 9.2 MB\n"
     ]
    }
   ],
   "source": [
    "X_train.info()"
   ]
  },
  {
   "cell_type": "code",
   "execution_count": 7,
   "metadata": {},
   "outputs": [
    {
     "data": {
      "text/html": [
       "<div>\n",
       "<style scoped>\n",
       "    .dataframe tbody tr th:only-of-type {\n",
       "        vertical-align: middle;\n",
       "    }\n",
       "\n",
       "    .dataframe tbody tr th {\n",
       "        vertical-align: top;\n",
       "    }\n",
       "\n",
       "    .dataframe thead th {\n",
       "        text-align: right;\n",
       "    }\n",
       "</style>\n",
       "<table border=\"1\" class=\"dataframe\">\n",
       "  <thead>\n",
       "    <tr style=\"text-align: right;\">\n",
       "      <th></th>\n",
       "      <th>0</th>\n",
       "      <th>1</th>\n",
       "      <th>2</th>\n",
       "      <th>3</th>\n",
       "      <th>4</th>\n",
       "      <th>5</th>\n",
       "      <th>6</th>\n",
       "      <th>7</th>\n",
       "      <th>8</th>\n",
       "      <th>9</th>\n",
       "      <th>...</th>\n",
       "      <th>110</th>\n",
       "      <th>111</th>\n",
       "      <th>112</th>\n",
       "      <th>113</th>\n",
       "      <th>114</th>\n",
       "      <th>115</th>\n",
       "      <th>116</th>\n",
       "      <th>117</th>\n",
       "      <th>118</th>\n",
       "      <th>119</th>\n",
       "    </tr>\n",
       "  </thead>\n",
       "  <tbody>\n",
       "    <tr>\n",
       "      <th>count</th>\n",
       "      <td>1.000000e+04</td>\n",
       "      <td>10000.000000</td>\n",
       "      <td>1.000000e+04</td>\n",
       "      <td>10000.000000</td>\n",
       "      <td>1.000000e+04</td>\n",
       "      <td>1.000000e+04</td>\n",
       "      <td>10000.000000</td>\n",
       "      <td>10000.000000</td>\n",
       "      <td>10000.000000</td>\n",
       "      <td>10000.000000</td>\n",
       "      <td>...</td>\n",
       "      <td>10000.000000</td>\n",
       "      <td>10000.000000</td>\n",
       "      <td>10000.000000</td>\n",
       "      <td>10000.000000</td>\n",
       "      <td>10000.000000</td>\n",
       "      <td>10000.000000</td>\n",
       "      <td>10000.000000</td>\n",
       "      <td>10000.000000</td>\n",
       "      <td>10000.000000</td>\n",
       "      <td>10000.000000</td>\n",
       "    </tr>\n",
       "    <tr>\n",
       "      <th>mean</th>\n",
       "      <td>1.000206e+00</td>\n",
       "      <td>1.653294</td>\n",
       "      <td>1.323895e+01</td>\n",
       "      <td>1.631063</td>\n",
       "      <td>1.004520e+00</td>\n",
       "      <td>1.011949e+00</td>\n",
       "      <td>0.520059</td>\n",
       "      <td>1.657632</td>\n",
       "      <td>-0.002513</td>\n",
       "      <td>1.671704</td>\n",
       "      <td>...</td>\n",
       "      <td>1.648705</td>\n",
       "      <td>0.497571</td>\n",
       "      <td>0.493227</td>\n",
       "      <td>1.635187</td>\n",
       "      <td>-0.000071</td>\n",
       "      <td>-0.026737</td>\n",
       "      <td>0.013010</td>\n",
       "      <td>1.620603</td>\n",
       "      <td>0.503886</td>\n",
       "      <td>1.667950</td>\n",
       "    </tr>\n",
       "    <tr>\n",
       "      <th>std</th>\n",
       "      <td>1.423822e+00</td>\n",
       "      <td>2.278088</td>\n",
       "      <td>1.870323e+01</td>\n",
       "      <td>2.040002</td>\n",
       "      <td>1.409997e+00</td>\n",
       "      <td>1.444751e+00</td>\n",
       "      <td>31.791384</td>\n",
       "      <td>2.116264</td>\n",
       "      <td>10.060025</td>\n",
       "      <td>2.251833</td>\n",
       "      <td>...</td>\n",
       "      <td>2.188790</td>\n",
       "      <td>0.285955</td>\n",
       "      <td>0.290153</td>\n",
       "      <td>1.975617</td>\n",
       "      <td>0.997596</td>\n",
       "      <td>10.082855</td>\n",
       "      <td>9.968787</td>\n",
       "      <td>2.117979</td>\n",
       "      <td>0.285662</td>\n",
       "      <td>2.203032</td>\n",
       "    </tr>\n",
       "    <tr>\n",
       "      <th>min</th>\n",
       "      <td>1.282517e-08</td>\n",
       "      <td>0.024358</td>\n",
       "      <td>7.274511e-07</td>\n",
       "      <td>0.020518</td>\n",
       "      <td>3.379589e-11</td>\n",
       "      <td>1.348884e-07</td>\n",
       "      <td>-129.141171</td>\n",
       "      <td>0.019514</td>\n",
       "      <td>-37.427526</td>\n",
       "      <td>0.028163</td>\n",
       "      <td>...</td>\n",
       "      <td>0.022037</td>\n",
       "      <td>0.000128</td>\n",
       "      <td>0.000217</td>\n",
       "      <td>0.016691</td>\n",
       "      <td>-3.885360</td>\n",
       "      <td>-34.580159</td>\n",
       "      <td>-40.925480</td>\n",
       "      <td>0.016396</td>\n",
       "      <td>0.000139</td>\n",
       "      <td>0.029379</td>\n",
       "    </tr>\n",
       "    <tr>\n",
       "      <th>25%</th>\n",
       "      <td>1.040056e-01</td>\n",
       "      <td>0.509503</td>\n",
       "      <td>1.318718e+00</td>\n",
       "      <td>0.512428</td>\n",
       "      <td>1.042731e-01</td>\n",
       "      <td>1.005381e-01</td>\n",
       "      <td>-21.037225</td>\n",
       "      <td>0.507242</td>\n",
       "      <td>-6.698098</td>\n",
       "      <td>0.512798</td>\n",
       "      <td>...</td>\n",
       "      <td>0.510389</td>\n",
       "      <td>0.252094</td>\n",
       "      <td>0.241741</td>\n",
       "      <td>0.511563</td>\n",
       "      <td>-0.677989</td>\n",
       "      <td>-6.804569</td>\n",
       "      <td>-6.904905</td>\n",
       "      <td>0.504073</td>\n",
       "      <td>0.260493</td>\n",
       "      <td>0.513686</td>\n",
       "    </tr>\n",
       "    <tr>\n",
       "      <th>50%</th>\n",
       "      <td>4.602140e-01</td>\n",
       "      <td>0.995946</td>\n",
       "      <td>6.109321e+00</td>\n",
       "      <td>0.994325</td>\n",
       "      <td>4.558152e-01</td>\n",
       "      <td>4.490724e-01</td>\n",
       "      <td>0.351341</td>\n",
       "      <td>0.998968</td>\n",
       "      <td>0.081728</td>\n",
       "      <td>0.996833</td>\n",
       "      <td>...</td>\n",
       "      <td>0.990977</td>\n",
       "      <td>0.496045</td>\n",
       "      <td>0.488491</td>\n",
       "      <td>0.999822</td>\n",
       "      <td>-0.006377</td>\n",
       "      <td>-0.109698</td>\n",
       "      <td>0.155250</td>\n",
       "      <td>1.002604</td>\n",
       "      <td>0.503294</td>\n",
       "      <td>1.003636</td>\n",
       "    </tr>\n",
       "    <tr>\n",
       "      <th>75%</th>\n",
       "      <td>1.295762e+00</td>\n",
       "      <td>1.943914</td>\n",
       "      <td>1.758705e+01</td>\n",
       "      <td>1.933788</td>\n",
       "      <td>1.339252e+00</td>\n",
       "      <td>1.336866e+00</td>\n",
       "      <td>21.714889</td>\n",
       "      <td>1.982386</td>\n",
       "      <td>6.818884</td>\n",
       "      <td>1.984666</td>\n",
       "      <td>...</td>\n",
       "      <td>1.944777</td>\n",
       "      <td>0.744041</td>\n",
       "      <td>0.747421</td>\n",
       "      <td>1.988738</td>\n",
       "      <td>0.669345</td>\n",
       "      <td>6.765366</td>\n",
       "      <td>6.820834</td>\n",
       "      <td>1.932612</td>\n",
       "      <td>0.748390</td>\n",
       "      <td>1.941041</td>\n",
       "    </tr>\n",
       "    <tr>\n",
       "      <th>max</th>\n",
       "      <td>1.601254e+01</td>\n",
       "      <td>72.033830</td>\n",
       "      <td>2.681004e+02</td>\n",
       "      <td>33.933547</td>\n",
       "      <td>1.684319e+01</td>\n",
       "      <td>1.812245e+01</td>\n",
       "      <td>118.399310</td>\n",
       "      <td>37.265489</td>\n",
       "      <td>38.392229</td>\n",
       "      <td>45.191073</td>\n",
       "      <td>...</td>\n",
       "      <td>36.698799</td>\n",
       "      <td>0.999973</td>\n",
       "      <td>0.999895</td>\n",
       "      <td>26.936000</td>\n",
       "      <td>3.737129</td>\n",
       "      <td>36.371289</td>\n",
       "      <td>34.679957</td>\n",
       "      <td>44.943499</td>\n",
       "      <td>0.999985</td>\n",
       "      <td>45.467996</td>\n",
       "    </tr>\n",
       "  </tbody>\n",
       "</table>\n",
       "<p>8 rows × 120 columns</p>\n",
       "</div>"
      ],
      "text/plain": [
       "                  0             1             2             3             4  \\\n",
       "count  1.000000e+04  10000.000000  1.000000e+04  10000.000000  1.000000e+04   \n",
       "mean   1.000206e+00      1.653294  1.323895e+01      1.631063  1.004520e+00   \n",
       "std    1.423822e+00      2.278088  1.870323e+01      2.040002  1.409997e+00   \n",
       "min    1.282517e-08      0.024358  7.274511e-07      0.020518  3.379589e-11   \n",
       "25%    1.040056e-01      0.509503  1.318718e+00      0.512428  1.042731e-01   \n",
       "50%    4.602140e-01      0.995946  6.109321e+00      0.994325  4.558152e-01   \n",
       "75%    1.295762e+00      1.943914  1.758705e+01      1.933788  1.339252e+00   \n",
       "max    1.601254e+01     72.033830  2.681004e+02     33.933547  1.684319e+01   \n",
       "\n",
       "                  5             6             7             8             9  \\\n",
       "count  1.000000e+04  10000.000000  10000.000000  10000.000000  10000.000000   \n",
       "mean   1.011949e+00      0.520059      1.657632     -0.002513      1.671704   \n",
       "std    1.444751e+00     31.791384      2.116264     10.060025      2.251833   \n",
       "min    1.348884e-07   -129.141171      0.019514    -37.427526      0.028163   \n",
       "25%    1.005381e-01    -21.037225      0.507242     -6.698098      0.512798   \n",
       "50%    4.490724e-01      0.351341      0.998968      0.081728      0.996833   \n",
       "75%    1.336866e+00     21.714889      1.982386      6.818884      1.984666   \n",
       "max    1.812245e+01    118.399310     37.265489     38.392229     45.191073   \n",
       "\n",
       "       ...           110           111           112           113  \\\n",
       "count  ...  10000.000000  10000.000000  10000.000000  10000.000000   \n",
       "mean   ...      1.648705      0.497571      0.493227      1.635187   \n",
       "std    ...      2.188790      0.285955      0.290153      1.975617   \n",
       "min    ...      0.022037      0.000128      0.000217      0.016691   \n",
       "25%    ...      0.510389      0.252094      0.241741      0.511563   \n",
       "50%    ...      0.990977      0.496045      0.488491      0.999822   \n",
       "75%    ...      1.944777      0.744041      0.747421      1.988738   \n",
       "max    ...     36.698799      0.999973      0.999895     26.936000   \n",
       "\n",
       "                114           115           116           117           118  \\\n",
       "count  10000.000000  10000.000000  10000.000000  10000.000000  10000.000000   \n",
       "mean      -0.000071     -0.026737      0.013010      1.620603      0.503886   \n",
       "std        0.997596     10.082855      9.968787      2.117979      0.285662   \n",
       "min       -3.885360    -34.580159    -40.925480      0.016396      0.000139   \n",
       "25%       -0.677989     -6.804569     -6.904905      0.504073      0.260493   \n",
       "50%       -0.006377     -0.109698      0.155250      1.002604      0.503294   \n",
       "75%        0.669345      6.765366      6.820834      1.932612      0.748390   \n",
       "max        3.737129     36.371289     34.679957     44.943499      0.999985   \n",
       "\n",
       "                119  \n",
       "count  10000.000000  \n",
       "mean       1.667950  \n",
       "std        2.203032  \n",
       "min        0.029379  \n",
       "25%        0.513686  \n",
       "50%        1.003636  \n",
       "75%        1.941041  \n",
       "max       45.467996  \n",
       "\n",
       "[8 rows x 120 columns]"
      ]
     },
     "execution_count": 7,
     "metadata": {},
     "output_type": "execute_result"
    }
   ],
   "source": [
    "X_train.describe()"
   ]
  },
  {
   "cell_type": "code",
   "execution_count": 8,
   "metadata": {},
   "outputs": [
    {
     "data": {
      "text/plain": [
       "array([0], dtype=int64)"
      ]
     },
     "execution_count": 8,
     "metadata": {},
     "output_type": "execute_result"
    }
   ],
   "source": [
    "X_train.isnull().sum().unique()"
   ]
  },
  {
   "cell_type": "code",
   "execution_count": 14,
   "metadata": {},
   "outputs": [
    {
     "name": "stderr",
     "output_type": "stream",
     "text": [
      "c:\\Users\\gammer\\AppData\\Local\\anaconda3\\envs\\MLOps-dev\\Lib\\site-packages\\seaborn\\matrix.py:560: UserWarning: Clustering large matrix with scipy. Installing `fastcluster` may give better performance.\n",
      "  warnings.warn(msg)\n",
      "c:\\Users\\gammer\\AppData\\Local\\anaconda3\\envs\\MLOps-dev\\Lib\\site-packages\\seaborn\\matrix.py:560: UserWarning: Clustering large matrix with scipy. Installing `fastcluster` may give better performance.\n",
      "  warnings.warn(msg)\n"
     ]
    },
    {
     "data": {
      "image/png": "[encoded data removed]",
      "text/plain": [
       "<Figure size 700x700 with 4 Axes>"
      ]
     },
     "metadata": {},
     "output_type": "display_data"
    }
   ],
   "source": [
    "sns.clustermap(X_train.corr(), cmap = \"seismic\", figsize = (7,7), vmin = -1, vmax = 1)\n",
    "plt.title('Cross-correlation of all features')\n",
    "plt.show()"
   ]
  },
  {
   "cell_type": "code",
   "execution_count": 10,
   "metadata": {},
   "outputs": [
    {
     "data": {
      "image/png": "[encoded data removed]",
      "text/plain": [
       "<Figure size 640x480 with 1 Axes>"
      ]
     },
     "metadata": {},
     "output_type": "display_data"
    }
   ],
   "source": [
    "sns.histplot(X_train.corr().unstack().sort_values(ascending=False).drop_duplicates())\n",
    "plt.xlim(-0.05, 0.05)\n",
    "plt.axvline(0, color = 'C3', linestyle = '--')\n",
    "plt.title('Distribution of correlation coefficients')\n",
    "plt.show()"
   ]
  },
  {
   "cell_type": "markdown",
   "metadata": {},
   "source": [
    "The majority of the features have close to 0 correlation with each other."
   ]
  },
  {
   "cell_type": "markdown",
   "metadata": {},
   "source": [
    "## First use a Logistic Regression model as baseline"
   ]
  },
  {
   "cell_type": "code",
   "execution_count": 11,
   "metadata": {},
   "outputs": [
    {
     "name": "stdout",
     "output_type": "stream",
     "text": [
      "[0.47943215 0.4771819  0.48017851 0.47903136 0.47409433]\n",
      "0.4779836520361115\n"
     ]
    }
   ],
   "source": [
    "log_reg = LogisticRegression(random_state=23, solver='liblinear')\n",
    "\n",
    "cv_log_reg = cross_val_score(log_reg, X_train, y_train, cv = 5, scoring='f1_macro')\n",
    "print(cv_log_reg)\n",
    "print(np.mean(cv_log_reg))"
   ]
  },
  {
   "cell_type": "code",
   "execution_count": 12,
   "metadata": {},
   "outputs": [
    {
     "name": "stdout",
     "output_type": "stream",
     "text": [
      "[[1792  797  752]\n",
      " [ 814 1820  660]\n",
      " [1098  854 1413]]\n",
      "              precision    recall  f1-score   support\n",
      "\n",
      "           0       0.48      0.54      0.51      3341\n",
      "           1       0.52      0.55      0.54      3294\n",
      "           2       0.50      0.42      0.46      3365\n",
      "\n",
      "    accuracy                           0.50     10000\n",
      "   macro avg       0.50      0.50      0.50     10000\n",
      "weighted avg       0.50      0.50      0.50     10000\n",
      "\n"
     ]
    }
   ],
   "source": [
    "log_reg.fit(X_train, y_train)\n",
    "pred_log_reg = log_reg.predict(X_train)\n",
    "print(confusion_matrix(y_train, pred_log_reg))\n",
    "print(classification_report(y_train, pred_log_reg))\n",
    "\n",
    "fig, ax = plt.subplots(figsize=(3,3))\n",
    "sns.heatmap(confusion_matrix(y_train, pred_log_reg), annot=True, vmin=0, ax=ax)\n",
    "plt.show()"
   ]
  },
  {
   "cell_type": "markdown",
   "metadata": {},
   "source": [
    "Logistic regression performs very poorly on this dataset, let's try to find a better model!"
   ]
  },
  {
   "cell_type": "markdown",
   "metadata": {},
   "source": [
    "## Use AutoML from FLAML to search for most promising ML model class"
   ]
  },
  {
   "cell_type": "code",
   "execution_count": 31,
   "metadata": {},
   "outputs": [],
   "source": [
    "automl = AutoML()\n",
    "\n",
    "automl_settings = {\n",
    "                    \"time_budget\": 300, # 5 min. to find best model\n",
    "                    \"metric\": 'macro_f1',\n",
    "                    \"task\": 'classification',\n",
    "                    \"log_file_name\": 'mylog.log',\n",
    "                    \"eval_method\": 'cv',\n",
    "                    \"n_splits\": 5       \n",
    "                    }"
   ]
  },
  {
   "cell_type": "code",
   "execution_count": 32,
   "metadata": {},
   "outputs": [
    {
     "name": "stderr",
     "output_type": "stream",
     "text": [
      "c:\\Users\\gammer\\AppData\\Local\\anaconda3\\envs\\MLOps-dev\\Lib\\site-packages\\sklearn\\linear_model\\_sag.py:350: ConvergenceWarning: The max_iter was reached which means the coef_ did not converge\n",
      "  warnings.warn(\n"
     ]
    }
   ],
   "source": [
    "automl.fit(\n",
    "            X_train = X_train,\n",
    "            y_train = y_train.values,\n",
    "            **automl_settings,\n",
    "            verbose=1\n",
    "            )"
   ]
  },
  {
   "cell_type": "code",
   "execution_count": 45,
   "metadata": {},
   "outputs": [
    {
     "name": "stdout",
     "output_type": "stream",
     "text": [
      "catboost\n",
      "{'early_stopping_rounds': 10, 'learning_rate': 0.09999999999999996, 'n_estimators': 180}\n",
      "Best F1_macro score: 0.6183200233189117\n"
     ]
    }
   ],
   "source": [
    "print(automl.best_estimator)\n",
    "print(automl.best_config)\n",
    "best_f1_macro = 1 - automl.best_loss\n",
    "print('Best F1_macro score:', best_f1_macro )"
   ]
  },
  {
   "cell_type": "markdown",
   "metadata": {},
   "source": [
    "Catboost seems to be the most promising model and performs much better than logistic regression!"
   ]
  },
  {
   "cell_type": "markdown",
   "metadata": {},
   "source": [
    "### Use a CatBoostClassifier for feature selection"
   ]
  },
  {
   "cell_type": "code",
   "execution_count": 29,
   "metadata": {},
   "outputs": [],
   "source": [
    "model_Cat = CatBoostClassifier(\n",
    "                                early_stopping_rounds = 10,\n",
    "                                learning_rate = 0.1,\n",
    "                                n_estimators = 180,\n",
    "                                thread_count = -1,\n",
    "                                verbose = False,\n",
    "                                random_seed = 23\n",
    "                                )"
   ]
  },
  {
   "cell_type": "code",
   "execution_count": 33,
   "metadata": {},
   "outputs": [
    {
     "data": {
      "text/plain": [
       "<catboost.core.CatBoostClassifier at 0x1c440f90350>"
      ]
     },
     "execution_count": 33,
     "metadata": {},
     "output_type": "execute_result"
    }
   ],
   "source": [
    "model_Cat.fit(X_train, y_train)"
   ]
  },
  {
   "cell_type": "code",
   "execution_count": 40,
   "metadata": {},
   "outputs": [
    {
     "name": "stdout",
     "output_type": "stream",
     "text": [
      "[[2585  393  363]\n",
      " [ 357 2584  353]\n",
      " [ 464  359 2542]]\n",
      "              precision    recall  f1-score   support\n",
      "\n",
      "           0       0.76      0.77      0.77      3341\n",
      "           1       0.77      0.78      0.78      3294\n",
      "           2       0.78      0.76      0.77      3365\n",
      "\n",
      "    accuracy                           0.77     10000\n",
      "   macro avg       0.77      0.77      0.77     10000\n",
      "weighted avg       0.77      0.77      0.77     10000\n",
      "\n"
     ]
    },
    {
     "data": {
      "image/png": "[encoded data removed]",
      "text/plain": [
       "<Figure size 300x300 with 2 Axes>"
      ]
     },
     "metadata": {},
     "output_type": "display_data"
    }
   ],
   "source": [
    "pred_model_Cat = model_Cat.predict(X_train)\n",
    "print(confusion_matrix(y_train, pred_model_Cat))\n",
    "print(classification_report(y_train, pred_model_Cat))\n",
    "\n",
    "fig, ax = plt.subplots(figsize=(3,3))\n",
    "sns.heatmap(confusion_matrix(y_train, pred_model_Cat), annot=True, vmin=0, ax=ax)\n",
    "plt.show()"
   ]
  },
  {
   "cell_type": "code",
   "execution_count": 41,
   "metadata": {},
   "outputs": [
    {
     "data": {
      "image/png": "[encoded data removed]",
      "text/plain": [
       "<Figure size 640x480 with 1 Axes>"
      ]
     },
     "metadata": {},
     "output_type": "display_data"
    }
   ],
   "source": [
    "list_feat_imp = model_Cat.get_feature_importance(data = Pool(X_train, label=y_train))\n",
    "sns.histplot(list_feat_imp);"
   ]
  },
  {
   "cell_type": "markdown",
   "metadata": {},
   "source": [
    "Most features have a feature importance score of close to zero! Let's select only those features that have a score > 1!"
   ]
  },
  {
   "cell_type": "code",
   "execution_count": 45,
   "metadata": {},
   "outputs": [
    {
     "data": {
      "text/plain": [
       "104"
      ]
     },
     "execution_count": 45,
     "metadata": {},
     "output_type": "execute_result"
    }
   ],
   "source": [
    "len(list_feat_imp[list_feat_imp<1])"
   ]
  },
  {
   "cell_type": "code",
   "execution_count": 46,
   "metadata": {},
   "outputs": [
    {
     "data": {
      "text/plain": [
       "16"
      ]
     },
     "execution_count": 46,
     "metadata": {},
     "output_type": "execute_result"
    }
   ],
   "source": [
    "len(list_feat_imp[list_feat_imp>1])"
   ]
  },
  {
   "cell_type": "markdown",
   "metadata": {},
   "source": [
    "We are left with 16 relevant features, we eliminate all the other ones"
   ]
  },
  {
   "cell_type": "code",
   "execution_count": 48,
   "metadata": {},
   "outputs": [
    {
     "name": "stdout",
     "output_type": "stream",
     "text": [
      "Step #1 out of 1\n",
      "0:\tlearn: 1.0868056\ttotal: 81.9ms\tremaining: 14.7s\n",
      "1:\tlearn: 1.0751241\ttotal: 147ms\tremaining: 13.1s\n",
      "2:\tlearn: 1.0644163\ttotal: 204ms\tremaining: 12s\n",
      "3:\tlearn: 1.0545905\ttotal: 258ms\tremaining: 11.3s\n",
      "4:\tlearn: 1.0454149\ttotal: 339ms\tremaining: 11.9s\n",
      "5:\tlearn: 1.0398511\ttotal: 405ms\tremaining: 11.7s\n",
      "6:\tlearn: 1.0310068\ttotal: 491ms\tremaining: 12.1s\n",
      "7:\tlearn: 1.0235386\ttotal: 575ms\tremaining: 12.4s\n",
      "8:\tlearn: 1.0173164\ttotal: 634ms\tremaining: 12.1s\n",
      "9:\tlearn: 1.0120345\ttotal: 692ms\tremaining: 11.8s\n",
      "10:\tlearn: 1.0068491\ttotal: 755ms\tremaining: 11.6s\n",
      "11:\tlearn: 1.0025513\ttotal: 824ms\tremaining: 11.5s\n",
      "12:\tlearn: 0.9995746\ttotal: 887ms\tremaining: 11.4s\n",
      "13:\tlearn: 0.9935697\ttotal: 958ms\tremaining: 11.4s\n",
      "14:\tlearn: 0.9918069\ttotal: 1.02s\tremaining: 11.3s\n",
      "15:\tlearn: 0.9847384\ttotal: 1.09s\tremaining: 11.2s\n",
      "16:\tlearn: 0.9801788\ttotal: 1.15s\tremaining: 11s\n",
      "17:\tlearn: 0.9770810\ttotal: 1.23s\tremaining: 11s\n",
      "18:\tlearn: 0.9731869\ttotal: 1.29s\tremaining: 11s\n",
      "19:\tlearn: 0.9694724\ttotal: 1.35s\tremaining: 10.8s\n",
      "20:\tlearn: 0.9660580\ttotal: 1.4s\tremaining: 10.6s\n",
      "21:\tlearn: 0.9609102\ttotal: 1.46s\tremaining: 10.5s\n",
      "22:\tlearn: 0.9575597\ttotal: 1.51s\tremaining: 10.3s\n",
      "23:\tlearn: 0.9521085\ttotal: 1.56s\tremaining: 10.2s\n",
      "24:\tlearn: 0.9495861\ttotal: 1.61s\tremaining: 10s\n",
      "25:\tlearn: 0.9459180\ttotal: 1.66s\tremaining: 9.86s\n",
      "26:\tlearn: 0.9411455\ttotal: 1.74s\tremaining: 9.83s\n",
      "27:\tlearn: 0.9364111\ttotal: 1.79s\tremaining: 9.73s\n",
      "28:\tlearn: 0.9343740\ttotal: 1.84s\tremaining: 9.61s\n",
      "29:\tlearn: 0.9317197\ttotal: 1.9s\tremaining: 9.5s\n",
      "30:\tlearn: 0.9279382\ttotal: 1.96s\tremaining: 9.42s\n",
      "31:\tlearn: 0.9252784\ttotal: 2.02s\tremaining: 9.32s\n",
      "32:\tlearn: 0.9211776\ttotal: 2.07s\tremaining: 9.23s\n",
      "33:\tlearn: 0.9164197\ttotal: 2.13s\tremaining: 9.15s\n",
      "34:\tlearn: 0.9126172\ttotal: 2.19s\tremaining: 9.07s\n",
      "35:\tlearn: 0.9101893\ttotal: 2.25s\tremaining: 9.01s\n",
      "36:\tlearn: 0.9084847\ttotal: 2.31s\tremaining: 8.91s\n",
      "37:\tlearn: 0.9054599\ttotal: 2.37s\tremaining: 8.84s\n",
      "38:\tlearn: 0.9031340\ttotal: 2.42s\tremaining: 8.75s\n",
      "39:\tlearn: 0.9016161\ttotal: 2.47s\tremaining: 8.66s\n",
      "40:\tlearn: 0.8993244\ttotal: 2.52s\tremaining: 8.56s\n",
      "41:\tlearn: 0.8973247\ttotal: 2.58s\tremaining: 8.49s\n",
      "42:\tlearn: 0.8964333\ttotal: 2.64s\tremaining: 8.4s\n",
      "43:\tlearn: 0.8956489\ttotal: 2.69s\tremaining: 8.31s\n",
      "44:\tlearn: 0.8922130\ttotal: 2.75s\tremaining: 8.25s\n",
      "45:\tlearn: 0.8910507\ttotal: 2.81s\tremaining: 8.18s\n",
      "46:\tlearn: 0.8904746\ttotal: 2.85s\tremaining: 8.07s\n",
      "47:\tlearn: 0.8887700\ttotal: 2.91s\tremaining: 8.01s\n",
      "48:\tlearn: 0.8881533\ttotal: 2.96s\tremaining: 7.92s\n",
      "49:\tlearn: 0.8849483\ttotal: 3.02s\tremaining: 7.85s\n",
      "50:\tlearn: 0.8839388\ttotal: 3.07s\tremaining: 7.77s\n",
      "51:\tlearn: 0.8830334\ttotal: 3.12s\tremaining: 7.69s\n",
      "52:\tlearn: 0.8808289\ttotal: 3.18s\tremaining: 7.63s\n",
      "53:\tlearn: 0.8779912\ttotal: 3.24s\tremaining: 7.55s\n",
      "54:\tlearn: 0.8770216\ttotal: 3.29s\tremaining: 7.48s\n",
      "55:\tlearn: 0.8755980\ttotal: 3.35s\tremaining: 7.42s\n",
      "56:\tlearn: 0.8732766\ttotal: 3.41s\tremaining: 7.36s\n",
      "57:\tlearn: 0.8711031\ttotal: 3.47s\tremaining: 7.29s\n",
      "58:\tlearn: 0.8703585\ttotal: 3.52s\tremaining: 7.22s\n",
      "59:\tlearn: 0.8690394\ttotal: 3.58s\tremaining: 7.15s\n",
      "60:\tlearn: 0.8664267\ttotal: 3.63s\tremaining: 7.08s\n",
      "61:\tlearn: 0.8645918\ttotal: 3.69s\tremaining: 7.02s\n",
      "62:\tlearn: 0.8637946\ttotal: 3.74s\tremaining: 6.95s\n",
      "63:\tlearn: 0.8628580\ttotal: 3.8s\tremaining: 6.89s\n",
      "64:\tlearn: 0.8610742\ttotal: 3.87s\tremaining: 6.85s\n",
      "65:\tlearn: 0.8593068\ttotal: 3.93s\tremaining: 6.78s\n",
      "66:\tlearn: 0.8570085\ttotal: 3.99s\tremaining: 6.73s\n",
      "67:\tlearn: 0.8552218\ttotal: 4.05s\tremaining: 6.67s\n",
      "68:\tlearn: 0.8536057\ttotal: 4.1s\tremaining: 6.59s\n",
      "69:\tlearn: 0.8513220\ttotal: 4.15s\tremaining: 6.51s\n",
      "70:\tlearn: 0.8505454\ttotal: 4.2s\tremaining: 6.44s\n",
      "71:\tlearn: 0.8498139\ttotal: 4.25s\tremaining: 6.38s\n",
      "72:\tlearn: 0.8487465\ttotal: 4.3s\tremaining: 6.31s\n",
      "73:\tlearn: 0.8480875\ttotal: 4.36s\tremaining: 6.24s\n",
      "74:\tlearn: 0.8473390\ttotal: 4.41s\tremaining: 6.17s\n",
      "75:\tlearn: 0.8460601\ttotal: 4.46s\tremaining: 6.11s\n",
      "76:\tlearn: 0.8439799\ttotal: 4.52s\tremaining: 6.05s\n",
      "77:\tlearn: 0.8430952\ttotal: 4.57s\tremaining: 5.98s\n",
      "78:\tlearn: 0.8417034\ttotal: 4.63s\tremaining: 5.91s\n",
      "79:\tlearn: 0.8403492\ttotal: 4.68s\tremaining: 5.85s\n",
      "80:\tlearn: 0.8377917\ttotal: 4.74s\tremaining: 5.79s\n",
      "81:\tlearn: 0.8364581\ttotal: 4.79s\tremaining: 5.72s\n",
      "82:\tlearn: 0.8344050\ttotal: 4.84s\tremaining: 5.65s\n",
      "83:\tlearn: 0.8320512\ttotal: 4.89s\tremaining: 5.59s\n",
      "84:\tlearn: 0.8313961\ttotal: 4.99s\tremaining: 5.58s\n",
      "85:\tlearn: 0.8295138\ttotal: 5.06s\tremaining: 5.53s\n",
      "86:\tlearn: 0.8261858\ttotal: 5.12s\tremaining: 5.47s\n",
      "87:\tlearn: 0.8241017\ttotal: 5.18s\tremaining: 5.42s\n",
      "88:\tlearn: 0.8222687\ttotal: 5.23s\tremaining: 5.35s\n",
      "89:\tlearn: 0.8212716\ttotal: 5.28s\tremaining: 5.28s\n",
      "90:\tlearn: 0.8194303\ttotal: 5.33s\tremaining: 5.22s\n",
      "91:\tlearn: 0.8160253\ttotal: 5.39s\tremaining: 5.16s\n",
      "92:\tlearn: 0.8142211\ttotal: 5.45s\tremaining: 5.09s\n",
      "93:\tlearn: 0.8113484\ttotal: 5.5s\tremaining: 5.03s\n",
      "94:\tlearn: 0.8094249\ttotal: 5.56s\tremaining: 4.97s\n",
      "95:\tlearn: 0.8074630\ttotal: 5.62s\tremaining: 4.92s\n",
      "96:\tlearn: 0.8062704\ttotal: 5.67s\tremaining: 4.85s\n",
      "97:\tlearn: 0.8050914\ttotal: 5.73s\tremaining: 4.79s\n",
      "98:\tlearn: 0.8028158\ttotal: 5.79s\tremaining: 4.74s\n",
      "99:\tlearn: 0.8020260\ttotal: 5.85s\tremaining: 4.68s\n",
      "100:\tlearn: 0.7998029\ttotal: 5.91s\tremaining: 4.62s\n",
      "101:\tlearn: 0.7990222\ttotal: 5.97s\tremaining: 4.57s\n",
      "102:\tlearn: 0.7973996\ttotal: 6.04s\tremaining: 4.52s\n",
      "103:\tlearn: 0.7955799\ttotal: 6.11s\tremaining: 4.46s\n",
      "104:\tlearn: 0.7934795\ttotal: 6.16s\tremaining: 4.4s\n",
      "105:\tlearn: 0.7926241\ttotal: 6.22s\tremaining: 4.34s\n",
      "106:\tlearn: 0.7917958\ttotal: 6.27s\tremaining: 4.28s\n",
      "107:\tlearn: 0.7912926\ttotal: 6.32s\tremaining: 4.21s\n",
      "108:\tlearn: 0.7901596\ttotal: 6.37s\tremaining: 4.15s\n",
      "109:\tlearn: 0.7889033\ttotal: 6.42s\tremaining: 4.09s\n",
      "110:\tlearn: 0.7878798\ttotal: 6.47s\tremaining: 4.02s\n",
      "111:\tlearn: 0.7856515\ttotal: 6.53s\tremaining: 3.96s\n",
      "112:\tlearn: 0.7838285\ttotal: 6.58s\tremaining: 3.9s\n",
      "113:\tlearn: 0.7825528\ttotal: 6.63s\tremaining: 3.84s\n",
      "114:\tlearn: 0.7813147\ttotal: 6.68s\tremaining: 3.78s\n",
      "115:\tlearn: 0.7789612\ttotal: 6.73s\tremaining: 3.71s\n",
      "116:\tlearn: 0.7774396\ttotal: 6.78s\tremaining: 3.65s\n",
      "117:\tlearn: 0.7761263\ttotal: 6.83s\tremaining: 3.59s\n",
      "118:\tlearn: 0.7733534\ttotal: 6.88s\tremaining: 3.53s\n",
      "119:\tlearn: 0.7721895\ttotal: 6.93s\tremaining: 3.46s\n",
      "120:\tlearn: 0.7707066\ttotal: 6.99s\tremaining: 3.41s\n",
      "121:\tlearn: 0.7696868\ttotal: 7.04s\tremaining: 3.35s\n",
      "122:\tlearn: 0.7679217\ttotal: 7.09s\tremaining: 3.29s\n",
      "123:\tlearn: 0.7670773\ttotal: 7.14s\tremaining: 3.22s\n",
      "124:\tlearn: 0.7658533\ttotal: 7.19s\tremaining: 3.16s\n",
      "125:\tlearn: 0.7648739\ttotal: 7.25s\tremaining: 3.11s\n",
      "126:\tlearn: 0.7634218\ttotal: 7.3s\tremaining: 3.05s\n",
      "127:\tlearn: 0.7615796\ttotal: 7.35s\tremaining: 2.99s\n",
      "128:\tlearn: 0.7609386\ttotal: 7.4s\tremaining: 2.93s\n",
      "129:\tlearn: 0.7597375\ttotal: 7.45s\tremaining: 2.87s\n",
      "130:\tlearn: 0.7568628\ttotal: 7.51s\tremaining: 2.81s\n",
      "131:\tlearn: 0.7556474\ttotal: 7.57s\tremaining: 2.75s\n",
      "132:\tlearn: 0.7543693\ttotal: 7.63s\tremaining: 2.69s\n",
      "133:\tlearn: 0.7537732\ttotal: 7.68s\tremaining: 2.64s\n",
      "134:\tlearn: 0.7529624\ttotal: 7.74s\tremaining: 2.58s\n",
      "135:\tlearn: 0.7519764\ttotal: 7.8s\tremaining: 2.52s\n",
      "136:\tlearn: 0.7509987\ttotal: 7.85s\tremaining: 2.46s\n",
      "137:\tlearn: 0.7489350\ttotal: 7.9s\tremaining: 2.4s\n",
      "138:\tlearn: 0.7468256\ttotal: 7.96s\tremaining: 2.35s\n",
      "139:\tlearn: 0.7451157\ttotal: 8.01s\tremaining: 2.29s\n",
      "140:\tlearn: 0.7435665\ttotal: 8.06s\tremaining: 2.23s\n",
      "141:\tlearn: 0.7426619\ttotal: 8.11s\tremaining: 2.17s\n",
      "142:\tlearn: 0.7421789\ttotal: 8.17s\tremaining: 2.11s\n",
      "143:\tlearn: 0.7405024\ttotal: 8.23s\tremaining: 2.06s\n",
      "144:\tlearn: 0.7397385\ttotal: 8.28s\tremaining: 2s\n",
      "145:\tlearn: 0.7390025\ttotal: 8.34s\tremaining: 1.94s\n",
      "146:\tlearn: 0.7374886\ttotal: 8.39s\tremaining: 1.88s\n",
      "147:\tlearn: 0.7359252\ttotal: 8.45s\tremaining: 1.83s\n",
      "148:\tlearn: 0.7351483\ttotal: 8.51s\tremaining: 1.77s\n",
      "149:\tlearn: 0.7345032\ttotal: 8.56s\tremaining: 1.71s\n",
      "150:\tlearn: 0.7335969\ttotal: 8.62s\tremaining: 1.66s\n",
      "151:\tlearn: 0.7324792\ttotal: 8.68s\tremaining: 1.6s\n",
      "152:\tlearn: 0.7300584\ttotal: 8.73s\tremaining: 1.54s\n",
      "153:\tlearn: 0.7286429\ttotal: 8.78s\tremaining: 1.48s\n",
      "154:\tlearn: 0.7274123\ttotal: 8.84s\tremaining: 1.43s\n",
      "155:\tlearn: 0.7264047\ttotal: 8.89s\tremaining: 1.37s\n",
      "156:\tlearn: 0.7255504\ttotal: 8.94s\tremaining: 1.31s\n",
      "157:\tlearn: 0.7245186\ttotal: 8.99s\tremaining: 1.25s\n",
      "158:\tlearn: 0.7224049\ttotal: 9.04s\tremaining: 1.19s\n",
      "159:\tlearn: 0.7216784\ttotal: 9.1s\tremaining: 1.14s\n",
      "160:\tlearn: 0.7206731\ttotal: 9.14s\tremaining: 1.08s\n",
      "161:\tlearn: 0.7197088\ttotal: 9.2s\tremaining: 1.02s\n",
      "162:\tlearn: 0.7192355\ttotal: 9.25s\tremaining: 965ms\n",
      "163:\tlearn: 0.7178612\ttotal: 9.3s\tremaining: 907ms\n",
      "164:\tlearn: 0.7172238\ttotal: 9.35s\tremaining: 850ms\n",
      "165:\tlearn: 0.7160723\ttotal: 9.4s\tremaining: 793ms\n",
      "166:\tlearn: 0.7155047\ttotal: 9.45s\tremaining: 736ms\n",
      "167:\tlearn: 0.7148664\ttotal: 9.5s\tremaining: 679ms\n",
      "168:\tlearn: 0.7141897\ttotal: 9.55s\tremaining: 622ms\n",
      "169:\tlearn: 0.7136449\ttotal: 9.61s\tremaining: 565ms\n",
      "170:\tlearn: 0.7124071\ttotal: 9.66s\tremaining: 508ms\n",
      "171:\tlearn: 0.7116590\ttotal: 9.71s\tremaining: 452ms\n",
      "172:\tlearn: 0.7099074\ttotal: 9.77s\tremaining: 395ms\n",
      "173:\tlearn: 0.7090814\ttotal: 9.83s\tremaining: 339ms\n",
      "174:\tlearn: 0.7082817\ttotal: 9.88s\tremaining: 282ms\n",
      "175:\tlearn: 0.7074746\ttotal: 9.93s\tremaining: 226ms\n",
      "176:\tlearn: 0.7060890\ttotal: 9.98s\tremaining: 169ms\n",
      "177:\tlearn: 0.7043454\ttotal: 10s\tremaining: 113ms\n",
      "178:\tlearn: 0.7027510\ttotal: 10.1s\tremaining: 56.3ms\n",
      "179:\tlearn: 0.7020947\ttotal: 10.1s\tremaining: 0us\n",
      "Feature #49 eliminated\n",
      "Feature #99 eliminated\n",
      "Feature #19 eliminated\n",
      "Feature #8 eliminated\n",
      "Feature #94 eliminated\n",
      "Feature #5 eliminated\n",
      "Feature #106 eliminated\n",
      "Feature #44 eliminated\n",
      "Feature #81 eliminated\n",
      "Feature #75 eliminated\n",
      "Feature #15 eliminated\n",
      "Feature #45 eliminated\n",
      "Feature #88 eliminated\n",
      "Feature #1 eliminated\n",
      "Feature #90 eliminated\n",
      "Feature #36 eliminated\n",
      "Feature #68 eliminated\n",
      "Feature #58 eliminated\n",
      "Feature #52 eliminated\n",
      "Feature #92 eliminated\n",
      "Feature #102 eliminated\n",
      "Feature #51 eliminated\n",
      "Feature #110 eliminated\n",
      "Feature #35 eliminated\n",
      "Feature #55 eliminated\n",
      "Feature #59 eliminated\n",
      "Feature #119 eliminated\n",
      "Feature #18 eliminated\n",
      "Feature #73 eliminated\n",
      "Feature #7 eliminated\n",
      "Feature #76 eliminated\n",
      "Feature #80 eliminated\n",
      "Feature #97 eliminated\n",
      "Feature #66 eliminated\n",
      "Feature #29 eliminated\n",
      "Feature #113 eliminated\n",
      "Feature #30 eliminated\n",
      "Feature #118 eliminated\n",
      "Feature #100 eliminated\n",
      "Feature #93 eliminated\n",
      "Feature #56 eliminated\n",
      "Feature #43 eliminated\n",
      "Feature #57 eliminated\n",
      "Feature #54 eliminated\n",
      "Feature #12 eliminated\n",
      "Feature #38 eliminated\n",
      "Feature #117 eliminated\n",
      "Feature #114 eliminated\n",
      "Feature #95 eliminated\n",
      "Feature #79 eliminated\n",
      "Feature #77 eliminated\n",
      "Feature #17 eliminated\n",
      "Feature #32 eliminated\n",
      "Feature #23 eliminated\n",
      "Feature #70 eliminated\n",
      "Feature #3 eliminated\n",
      "Feature #21 eliminated\n",
      "Feature #14 eliminated\n",
      "Feature #41 eliminated\n",
      "Feature #69 eliminated\n",
      "Feature #78 eliminated\n",
      "Feature #16 eliminated\n",
      "Feature #91 eliminated\n",
      "Feature #25 eliminated\n",
      "Feature #85 eliminated\n",
      "Feature #107 eliminated\n",
      "Feature #31 eliminated\n",
      "Feature #22 eliminated\n",
      "Feature #115 eliminated\n",
      "Feature #67 eliminated\n",
      "Feature #84 eliminated\n",
      "Feature #65 eliminated\n",
      "Feature #104 eliminated\n",
      "Feature #46 eliminated\n",
      "Feature #89 eliminated\n",
      "Feature #108 eliminated\n",
      "Feature #96 eliminated\n",
      "Feature #105 eliminated\n",
      "Feature #9 eliminated\n",
      "Feature #28 eliminated\n",
      "Feature #26 eliminated\n",
      "Feature #82 eliminated\n",
      "Feature #64 eliminated\n",
      "Feature #48 eliminated\n",
      "Feature #47 eliminated\n",
      "Feature #10 eliminated\n",
      "Feature #40 eliminated\n",
      "Feature #27 eliminated\n",
      "Feature #111 eliminated\n",
      "Feature #33 eliminated\n",
      "Feature #71 eliminated\n",
      "Feature #83 eliminated\n",
      "Feature #109 eliminated\n",
      "Feature #13 eliminated\n",
      "Feature #101 eliminated\n",
      "Feature #39 eliminated\n",
      "Feature #103 eliminated\n",
      "Feature #116 eliminated\n",
      "Feature #112 eliminated\n",
      "Feature #4 eliminated\n",
      "Feature #0 eliminated\n",
      "Feature #63 eliminated\n",
      "Feature #2 eliminated\n",
      "Feature #53 eliminated\n"
     ]
    }
   ],
   "source": [
    "feats = model_Cat.select_features(\n",
    "                                    X_train,\n",
    "                                    y_train,\n",
    "                                    features_for_select = list(range(120)),\n",
    "                                    num_features_to_select = 16,\n",
    "                                    verbose=1,\n",
    "                                    train_final_model=False,\n",
    "                                    )"
   ]
  },
  {
   "cell_type": "code",
   "execution_count": 49,
   "metadata": {
    "execution": {
     "iopub.execute_input": "2024-03-13T14:15:27.595280Z",
     "iopub.status.busy": "2024-03-13T14:15:27.594836Z",
     "iopub.status.idle": "2024-03-13T14:15:27.605006Z",
     "shell.execute_reply": "2024-03-13T14:15:27.603365Z",
     "shell.execute_reply.started": "2024-03-13T14:15:27.595246Z"
    }
   },
   "outputs": [
    {
     "data": {
      "text/plain": [
       "(10000, 16)"
      ]
     },
     "execution_count": 49,
     "metadata": {},
     "output_type": "execute_result"
    }
   ],
   "source": [
    "# Select best features\n",
    "X_train_red = X_train.iloc[:,feats['selected_features']]\n",
    "X_train_red.shape"
   ]
  },
  {
   "cell_type": "markdown",
   "metadata": {},
   "source": [
    "## Use another round of AutoML to find the best model for the reduced dataset"
   ]
  },
  {
   "cell_type": "code",
   "execution_count": 50,
   "metadata": {
    "execution": {
     "iopub.execute_input": "2024-03-13T15:53:22.093861Z",
     "iopub.status.busy": "2024-03-13T15:53:22.093398Z",
     "iopub.status.idle": "2024-03-13T15:53:22.103195Z",
     "shell.execute_reply": "2024-03-13T15:53:22.101335Z",
     "shell.execute_reply.started": "2024-03-13T15:53:22.093830Z"
    }
   },
   "outputs": [
    {
     "name": "stderr",
     "output_type": "stream",
     "text": [
      "c:\\Users\\gammer\\AppData\\Local\\anaconda3\\envs\\MLOps-dev\\Lib\\site-packages\\sklearn\\linear_model\\_sag.py:350: ConvergenceWarning: The max_iter was reached which means the coef_ did not converge\n",
      "  warnings.warn(\n",
      "c:\\Users\\gammer\\AppData\\Local\\anaconda3\\envs\\MLOps-dev\\Lib\\site-packages\\sklearn\\linear_model\\_sag.py:350: ConvergenceWarning: The max_iter was reached which means the coef_ did not converge\n",
      "  warnings.warn(\n",
      "c:\\Users\\gammer\\AppData\\Local\\anaconda3\\envs\\MLOps-dev\\Lib\\site-packages\\sklearn\\linear_model\\_sag.py:350: ConvergenceWarning: The max_iter was reached which means the coef_ did not converge\n",
      "  warnings.warn(\n",
      "c:\\Users\\gammer\\AppData\\Local\\anaconda3\\envs\\MLOps-dev\\Lib\\site-packages\\sklearn\\linear_model\\_sag.py:350: ConvergenceWarning: The max_iter was reached which means the coef_ did not converge\n",
      "  warnings.warn(\n",
      "c:\\Users\\gammer\\AppData\\Local\\anaconda3\\envs\\MLOps-dev\\Lib\\site-packages\\sklearn\\linear_model\\_sag.py:350: ConvergenceWarning: The max_iter was reached which means the coef_ did not converge\n",
      "  warnings.warn(\n",
      "c:\\Users\\gammer\\AppData\\Local\\anaconda3\\envs\\MLOps-dev\\Lib\\site-packages\\sklearn\\linear_model\\_sag.py:350: ConvergenceWarning: The max_iter was reached which means the coef_ did not converge\n",
      "  warnings.warn(\n",
      "c:\\Users\\gammer\\AppData\\Local\\anaconda3\\envs\\MLOps-dev\\Lib\\site-packages\\sklearn\\linear_model\\_sag.py:350: ConvergenceWarning: The max_iter was reached which means the coef_ did not converge\n",
      "  warnings.warn(\n",
      "c:\\Users\\gammer\\AppData\\Local\\anaconda3\\envs\\MLOps-dev\\Lib\\site-packages\\sklearn\\linear_model\\_sag.py:350: ConvergenceWarning: The max_iter was reached which means the coef_ did not converge\n",
      "  warnings.warn(\n",
      "c:\\Users\\gammer\\AppData\\Local\\anaconda3\\envs\\MLOps-dev\\Lib\\site-packages\\sklearn\\linear_model\\_sag.py:350: ConvergenceWarning: The max_iter was reached which means the coef_ did not converge\n",
      "  warnings.warn(\n",
      "c:\\Users\\gammer\\AppData\\Local\\anaconda3\\envs\\MLOps-dev\\Lib\\site-packages\\sklearn\\linear_model\\_sag.py:350: ConvergenceWarning: The max_iter was reached which means the coef_ did not converge\n",
      "  warnings.warn(\n",
      "c:\\Users\\gammer\\AppData\\Local\\anaconda3\\envs\\MLOps-dev\\Lib\\site-packages\\sklearn\\linear_model\\_sag.py:350: ConvergenceWarning: The max_iter was reached which means the coef_ did not converge\n",
      "  warnings.warn(\n",
      "c:\\Users\\gammer\\AppData\\Local\\anaconda3\\envs\\MLOps-dev\\Lib\\site-packages\\sklearn\\linear_model\\_sag.py:350: ConvergenceWarning: The max_iter was reached which means the coef_ did not converge\n",
      "  warnings.warn(\n",
      "c:\\Users\\gammer\\AppData\\Local\\anaconda3\\envs\\MLOps-dev\\Lib\\site-packages\\sklearn\\linear_model\\_sag.py:350: ConvergenceWarning: The max_iter was reached which means the coef_ did not converge\n",
      "  warnings.warn(\n",
      "c:\\Users\\gammer\\AppData\\Local\\anaconda3\\envs\\MLOps-dev\\Lib\\site-packages\\sklearn\\linear_model\\_sag.py:350: ConvergenceWarning: The max_iter was reached which means the coef_ did not converge\n",
      "  warnings.warn(\n",
      "c:\\Users\\gammer\\AppData\\Local\\anaconda3\\envs\\MLOps-dev\\Lib\\site-packages\\sklearn\\linear_model\\_sag.py:350: ConvergenceWarning: The max_iter was reached which means the coef_ did not converge\n",
      "  warnings.warn(\n",
      "c:\\Users\\gammer\\AppData\\Local\\anaconda3\\envs\\MLOps-dev\\Lib\\site-packages\\sklearn\\linear_model\\_sag.py:350: ConvergenceWarning: The max_iter was reached which means the coef_ did not converge\n",
      "  warnings.warn(\n",
      "c:\\Users\\gammer\\AppData\\Local\\anaconda3\\envs\\MLOps-dev\\Lib\\site-packages\\sklearn\\linear_model\\_sag.py:350: ConvergenceWarning: The max_iter was reached which means the coef_ did not converge\n",
      "  warnings.warn(\n",
      "c:\\Users\\gammer\\AppData\\Local\\anaconda3\\envs\\MLOps-dev\\Lib\\site-packages\\sklearn\\linear_model\\_sag.py:350: ConvergenceWarning: The max_iter was reached which means the coef_ did not converge\n",
      "  warnings.warn(\n",
      "c:\\Users\\gammer\\AppData\\Local\\anaconda3\\envs\\MLOps-dev\\Lib\\site-packages\\sklearn\\linear_model\\_sag.py:350: ConvergenceWarning: The max_iter was reached which means the coef_ did not converge\n",
      "  warnings.warn(\n",
      "c:\\Users\\gammer\\AppData\\Local\\anaconda3\\envs\\MLOps-dev\\Lib\\site-packages\\sklearn\\linear_model\\_sag.py:350: ConvergenceWarning: The max_iter was reached which means the coef_ did not converge\n",
      "  warnings.warn(\n",
      "c:\\Users\\gammer\\AppData\\Local\\anaconda3\\envs\\MLOps-dev\\Lib\\site-packages\\sklearn\\linear_model\\_sag.py:350: ConvergenceWarning: The max_iter was reached which means the coef_ did not converge\n",
      "  warnings.warn(\n",
      "c:\\Users\\gammer\\AppData\\Local\\anaconda3\\envs\\MLOps-dev\\Lib\\site-packages\\sklearn\\linear_model\\_sag.py:350: ConvergenceWarning: The max_iter was reached which means the coef_ did not converge\n",
      "  warnings.warn(\n",
      "c:\\Users\\gammer\\AppData\\Local\\anaconda3\\envs\\MLOps-dev\\Lib\\site-packages\\sklearn\\linear_model\\_sag.py:350: ConvergenceWarning: The max_iter was reached which means the coef_ did not converge\n",
      "  warnings.warn(\n",
      "c:\\Users\\gammer\\AppData\\Local\\anaconda3\\envs\\MLOps-dev\\Lib\\site-packages\\sklearn\\linear_model\\_sag.py:350: ConvergenceWarning: The max_iter was reached which means the coef_ did not converge\n",
      "  warnings.warn(\n",
      "c:\\Users\\gammer\\AppData\\Local\\anaconda3\\envs\\MLOps-dev\\Lib\\site-packages\\sklearn\\linear_model\\_sag.py:350: ConvergenceWarning: The max_iter was reached which means the coef_ did not converge\n",
      "  warnings.warn(\n",
      "c:\\Users\\gammer\\AppData\\Local\\anaconda3\\envs\\MLOps-dev\\Lib\\site-packages\\sklearn\\linear_model\\_sag.py:350: ConvergenceWarning: The max_iter was reached which means the coef_ did not converge\n",
      "  warnings.warn(\n",
      "c:\\Users\\gammer\\AppData\\Local\\anaconda3\\envs\\MLOps-dev\\Lib\\site-packages\\sklearn\\linear_model\\_sag.py:350: ConvergenceWarning: The max_iter was reached which means the coef_ did not converge\n",
      "  warnings.warn(\n",
      "c:\\Users\\gammer\\AppData\\Local\\anaconda3\\envs\\MLOps-dev\\Lib\\site-packages\\sklearn\\linear_model\\_sag.py:350: ConvergenceWarning: The max_iter was reached which means the coef_ did not converge\n",
      "  warnings.warn(\n",
      "c:\\Users\\gammer\\AppData\\Local\\anaconda3\\envs\\MLOps-dev\\Lib\\site-packages\\sklearn\\linear_model\\_sag.py:350: ConvergenceWarning: The max_iter was reached which means the coef_ did not converge\n",
      "  warnings.warn(\n",
      "c:\\Users\\gammer\\AppData\\Local\\anaconda3\\envs\\MLOps-dev\\Lib\\site-packages\\sklearn\\linear_model\\_sag.py:350: ConvergenceWarning: The max_iter was reached which means the coef_ did not converge\n",
      "  warnings.warn(\n",
      "c:\\Users\\gammer\\AppData\\Local\\anaconda3\\envs\\MLOps-dev\\Lib\\site-packages\\sklearn\\linear_model\\_sag.py:350: ConvergenceWarning: The max_iter was reached which means the coef_ did not converge\n",
      "  warnings.warn(\n",
      "c:\\Users\\gammer\\AppData\\Local\\anaconda3\\envs\\MLOps-dev\\Lib\\site-packages\\sklearn\\linear_model\\_sag.py:350: ConvergenceWarning: The max_iter was reached which means the coef_ did not converge\n",
      "  warnings.warn(\n",
      "c:\\Users\\gammer\\AppData\\Local\\anaconda3\\envs\\MLOps-dev\\Lib\\site-packages\\sklearn\\linear_model\\_sag.py:350: ConvergenceWarning: The max_iter was reached which means the coef_ did not converge\n",
      "  warnings.warn(\n",
      "c:\\Users\\gammer\\AppData\\Local\\anaconda3\\envs\\MLOps-dev\\Lib\\site-packages\\sklearn\\linear_model\\_sag.py:350: ConvergenceWarning: The max_iter was reached which means the coef_ did not converge\n",
      "  warnings.warn(\n",
      "c:\\Users\\gammer\\AppData\\Local\\anaconda3\\envs\\MLOps-dev\\Lib\\site-packages\\sklearn\\linear_model\\_sag.py:350: ConvergenceWarning: The max_iter was reached which means the coef_ did not converge\n",
      "  warnings.warn(\n",
      "c:\\Users\\gammer\\AppData\\Local\\anaconda3\\envs\\MLOps-dev\\Lib\\site-packages\\sklearn\\linear_model\\_sag.py:350: ConvergenceWarning: The max_iter was reached which means the coef_ did not converge\n",
      "  warnings.warn(\n",
      "c:\\Users\\gammer\\AppData\\Local\\anaconda3\\envs\\MLOps-dev\\Lib\\site-packages\\sklearn\\linear_model\\_sag.py:350: ConvergenceWarning: The max_iter was reached which means the coef_ did not converge\n",
      "  warnings.warn(\n",
      "c:\\Users\\gammer\\AppData\\Local\\anaconda3\\envs\\MLOps-dev\\Lib\\site-packages\\sklearn\\linear_model\\_sag.py:350: ConvergenceWarning: The max_iter was reached which means the coef_ did not converge\n",
      "  warnings.warn(\n",
      "c:\\Users\\gammer\\AppData\\Local\\anaconda3\\envs\\MLOps-dev\\Lib\\site-packages\\sklearn\\linear_model\\_sag.py:350: ConvergenceWarning: The max_iter was reached which means the coef_ did not converge\n",
      "  warnings.warn(\n",
      "c:\\Users\\gammer\\AppData\\Local\\anaconda3\\envs\\MLOps-dev\\Lib\\site-packages\\sklearn\\linear_model\\_sag.py:350: ConvergenceWarning: The max_iter was reached which means the coef_ did not converge\n",
      "  warnings.warn(\n",
      "c:\\Users\\gammer\\AppData\\Local\\anaconda3\\envs\\MLOps-dev\\Lib\\site-packages\\sklearn\\linear_model\\_sag.py:350: ConvergenceWarning: The max_iter was reached which means the coef_ did not converge\n",
      "  warnings.warn(\n",
      "c:\\Users\\gammer\\AppData\\Local\\anaconda3\\envs\\MLOps-dev\\Lib\\site-packages\\sklearn\\linear_model\\_sag.py:350: ConvergenceWarning: The max_iter was reached which means the coef_ did not converge\n",
      "  warnings.warn(\n",
      "c:\\Users\\gammer\\AppData\\Local\\anaconda3\\envs\\MLOps-dev\\Lib\\site-packages\\sklearn\\linear_model\\_sag.py:350: ConvergenceWarning: The max_iter was reached which means the coef_ did not converge\n",
      "  warnings.warn(\n",
      "c:\\Users\\gammer\\AppData\\Local\\anaconda3\\envs\\MLOps-dev\\Lib\\site-packages\\sklearn\\linear_model\\_sag.py:350: ConvergenceWarning: The max_iter was reached which means the coef_ did not converge\n",
      "  warnings.warn(\n",
      "c:\\Users\\gammer\\AppData\\Local\\anaconda3\\envs\\MLOps-dev\\Lib\\site-packages\\sklearn\\linear_model\\_sag.py:350: ConvergenceWarning: The max_iter was reached which means the coef_ did not converge\n",
      "  warnings.warn(\n",
      "c:\\Users\\gammer\\AppData\\Local\\anaconda3\\envs\\MLOps-dev\\Lib\\site-packages\\sklearn\\linear_model\\_sag.py:350: ConvergenceWarning: The max_iter was reached which means the coef_ did not converge\n",
      "  warnings.warn(\n",
      "c:\\Users\\gammer\\AppData\\Local\\anaconda3\\envs\\MLOps-dev\\Lib\\site-packages\\sklearn\\linear_model\\_sag.py:350: ConvergenceWarning: The max_iter was reached which means the coef_ did not converge\n",
      "  warnings.warn(\n",
      "c:\\Users\\gammer\\AppData\\Local\\anaconda3\\envs\\MLOps-dev\\Lib\\site-packages\\sklearn\\linear_model\\_sag.py:350: ConvergenceWarning: The max_iter was reached which means the coef_ did not converge\n",
      "  warnings.warn(\n",
      "c:\\Users\\gammer\\AppData\\Local\\anaconda3\\envs\\MLOps-dev\\Lib\\site-packages\\sklearn\\linear_model\\_sag.py:350: ConvergenceWarning: The max_iter was reached which means the coef_ did not converge\n",
      "  warnings.warn(\n",
      "c:\\Users\\gammer\\AppData\\Local\\anaconda3\\envs\\MLOps-dev\\Lib\\site-packages\\sklearn\\linear_model\\_sag.py:350: ConvergenceWarning: The max_iter was reached which means the coef_ did not converge\n",
      "  warnings.warn(\n"
     ]
    }
   ],
   "source": [
    "automl_red = AutoML()\n",
    "\n",
    "automl_settings_red = {\n",
    "                    \"time_budget\": 2400, # 40 min. to find best model\n",
    "                    \"metric\": 'macro_f1',\n",
    "                    \"task\": 'classification',\n",
    "                    \"log_file_name\": 'mylog.log',\n",
    "                    \"eval_method\": 'cv',\n",
    "                    \"n_splits\": 5       \n",
    "                    }\n",
    "\n",
    "automl_red.fit(\n",
    "                X_train = X_train_red,\n",
    "                y_train = y_train.values,\n",
    "                **automl_settings_red,\n",
    "                verbose=0\n",
    "                )"
   ]
  },
  {
   "cell_type": "code",
   "execution_count": 53,
   "metadata": {},
   "outputs": [
    {
     "name": "stdout",
     "output_type": "stream",
     "text": [
      "catboost\n",
      "Best F1_macro score: 0.6858188379086645\n"
     ]
    }
   ],
   "source": [
    "print(automl_red.best_estimator)\n",
    "print(automl_red.best_config)\n",
    "best_f1_macro = 1 - automl_red.best_loss\n",
    "print('Best F1_macro score:', best_f1_macro )"
   ]
  },
  {
   "cell_type": "code",
   "execution_count": 57,
   "metadata": {},
   "outputs": [
    {
     "data": {
      "text/plain": [
       "{'early_stopping_rounds': 19,\n",
       " 'learning_rate': 0.029251114134839495,\n",
       " 'n_estimators': 1457}"
      ]
     },
     "execution_count": 57,
     "metadata": {},
     "output_type": "execute_result"
    }
   ],
   "source": [
    "automl_red.best_config"
   ]
  },
  {
   "cell_type": "code",
   "execution_count": 52,
   "metadata": {
    "execution": {
     "iopub.execute_input": "2024-03-13T15:53:35.799125Z",
     "iopub.status.busy": "2024-03-13T15:53:35.798670Z",
     "iopub.status.idle": "2024-03-13T15:53:36.219787Z",
     "shell.execute_reply": "2024-03-13T15:53:36.217716Z",
     "shell.execute_reply.started": "2024-03-13T15:53:35.799093Z"
    }
   },
   "outputs": [
    {
     "name": "stdout",
     "output_type": "stream",
     "text": [
      "              precision    recall  f1-score   support\n",
      "\n",
      "           0       0.85      0.86      0.86      3341\n",
      "           1       0.87      0.87      0.87      3294\n",
      "           2       0.87      0.85      0.86      3365\n",
      "\n",
      "    accuracy                           0.86     10000\n",
      "   macro avg       0.86      0.86      0.86     10000\n",
      "weighted avg       0.86      0.86      0.86     10000\n",
      "\n"
     ]
    },
    {
     "data": {
      "image/png": "[encoded data removed]",
      "text/plain": [
       "<Figure size 300x300 with 2 Axes>"
      ]
     },
     "metadata": {},
     "output_type": "display_data"
    }
   ],
   "source": [
    "pred_automl_red = automl_red.predict(X_train_red)\n",
    "cf = confusion_matrix(y_train, pred_automl_red)\n",
    "print(classification_report(y_train, pred_automl_red))\n",
    "\n",
    "fig, ax = plt.subplots(figsize=(3,3))\n",
    "sns.heatmap(confusion_matrix(y_train, pred_model_Cat), annot=True, vmin=0, ax=ax)\n",
    "plt.show()"
   ]
  },
  {
   "cell_type": "markdown",
   "metadata": {},
   "source": [
    "## Train another CatBoostClassifer with reduced features"
   ]
  },
  {
   "cell_type": "markdown",
   "metadata": {},
   "source": [
    "As the AutoML approach suggests that a high number of estimators is useful, we increase the n_estimator parameter to 5000."
   ]
  },
  {
   "cell_type": "code",
   "execution_count": 74,
   "metadata": {},
   "outputs": [],
   "source": [
    "model_Cat_red = CatBoostClassifier(\n",
    "                                early_stopping_rounds = 20,\n",
    "                                learning_rate = 0.025,\n",
    "                                n_estimators = 5000,\n",
    "                                thread_count = -1,\n",
    "                                verbose = False,\n",
    "                                random_seed = 23\n",
    "                                )"
   ]
  },
  {
   "cell_type": "code",
   "execution_count": 75,
   "metadata": {},
   "outputs": [
    {
     "name": "stdout",
     "output_type": "stream",
     "text": [
      "[0.69907774 0.6805571  0.68546775 0.70873798 0.70417427]\n",
      "0.6956029692728389\n"
     ]
    }
   ],
   "source": [
    "cv_model_Cat_red = cross_val_score(model_Cat_red, X_train_red, y_train, cv = 5, scoring='f1_macro')\n",
    "print(cv_model_Cat_red)\n",
    "print(np.mean(cv_model_Cat_red))"
   ]
  },
  {
   "cell_type": "code",
   "execution_count": 76,
   "metadata": {},
   "outputs": [
    {
     "data": {
      "text/plain": [
       "<catboost.core.CatBoostClassifier at 0x1c444562050>"
      ]
     },
     "execution_count": 76,
     "metadata": {},
     "output_type": "execute_result"
    }
   ],
   "source": [
    "model_Cat_red.fit(X_train_red, y_train)"
   ]
  },
  {
   "cell_type": "code",
   "execution_count": 77,
   "metadata": {},
   "outputs": [
    {
     "name": "stdout",
     "output_type": "stream",
     "text": [
      "              precision    recall  f1-score   support\n",
      "\n",
      "           0       0.95      0.95      0.95      3341\n",
      "           1       0.95      0.96      0.96      3294\n",
      "           2       0.96      0.95      0.95      3365\n",
      "\n",
      "    accuracy                           0.95     10000\n",
      "   macro avg       0.95      0.95      0.95     10000\n",
      "weighted avg       0.95      0.95      0.95     10000\n",
      "\n"
     ]
    },
    {
     "data": {
      "image/png": "[encoded data removed]",
      "text/plain": [
       "<Figure size 300x300 with 2 Axes>"
      ]
     },
     "metadata": {},
     "output_type": "display_data"
    }
   ],
   "source": [
    "pred_model_Cat_red = model_Cat_red.predict(X_train_red)\n",
    "cf = confusion_matrix(y_train, pred_model_Cat_red)\n",
    "print(classification_report(y_train, pred_model_Cat_red))\n",
    "\n",
    "fig, ax = plt.subplots(figsize=(3,3))\n",
    "sns.heatmap(confusion_matrix(y_train, pred_model_Cat_red), annot=True, vmin=0, ax=ax)\n",
    "plt.show()"
   ]
  },
  {
   "cell_type": "code",
   "execution_count": 67,
   "metadata": {},
   "outputs": [
    {
     "data": {
      "text/plain": [
       "(20000, 16)"
      ]
     },
     "execution_count": 67,
     "metadata": {},
     "output_type": "execute_result"
    }
   ],
   "source": [
    "X_test_red = X_test.iloc[:,feats['selected_features']]\n",
    "X_test_red.shape"
   ]
  },
  {
   "cell_type": "code",
   "execution_count": 78,
   "metadata": {},
   "outputs": [],
   "source": [
    "y_pred_Cat_red = model_Cat_red.predict(X_test_red)"
   ]
  },
  {
   "cell_type": "code",
   "execution_count": 82,
   "metadata": {},
   "outputs": [],
   "source": [
    "df_pred_Cat_red = pd.DataFrame()\n",
    "df_pred_Cat_red['Id']=X_test_raw['Id']\n",
    "df_pred_Cat_red.set_index('Id', inplace=True)\n",
    "df_pred_Cat_red['Predicted'] = y_pred_Cat_red2.ravel()\n",
    "\n",
    "df_pred_Cat_red.to_csv('../data/raw/df_pred_Cat_red.csv')"
   ]
  },
  {
   "cell_type": "code",
   "execution_count": 83,
   "metadata": {},
   "outputs": [
    {
     "data": {
      "text/html": [
       "<div>\n",
       "<style scoped>\n",
       "    .dataframe tbody tr th:only-of-type {\n",
       "        vertical-align: middle;\n",
       "    }\n",
       "\n",
       "    .dataframe tbody tr th {\n",
       "        vertical-align: top;\n",
       "    }\n",
       "\n",
       "    .dataframe thead th {\n",
       "        text-align: right;\n",
       "    }\n",
       "</style>\n",
       "<table border=\"1\" class=\"dataframe\">\n",
       "  <thead>\n",
       "    <tr style=\"text-align: right;\">\n",
       "      <th></th>\n",
       "      <th>Predicted</th>\n",
       "    </tr>\n",
       "    <tr>\n",
       "      <th>Id</th>\n",
       "      <th></th>\n",
       "    </tr>\n",
       "  </thead>\n",
       "  <tbody>\n",
       "    <tr>\n",
       "      <th>0</th>\n",
       "      <td>2</td>\n",
       "    </tr>\n",
       "    <tr>\n",
       "      <th>1</th>\n",
       "      <td>0</td>\n",
       "    </tr>\n",
       "    <tr>\n",
       "      <th>2</th>\n",
       "      <td>1</td>\n",
       "    </tr>\n",
       "    <tr>\n",
       "      <th>3</th>\n",
       "      <td>2</td>\n",
       "    </tr>\n",
       "    <tr>\n",
       "      <th>4</th>\n",
       "      <td>1</td>\n",
       "    </tr>\n",
       "    <tr>\n",
       "      <th>...</th>\n",
       "      <td>...</td>\n",
       "    </tr>\n",
       "    <tr>\n",
       "      <th>19995</th>\n",
       "      <td>0</td>\n",
       "    </tr>\n",
       "    <tr>\n",
       "      <th>19996</th>\n",
       "      <td>1</td>\n",
       "    </tr>\n",
       "    <tr>\n",
       "      <th>19997</th>\n",
       "      <td>2</td>\n",
       "    </tr>\n",
       "    <tr>\n",
       "      <th>19998</th>\n",
       "      <td>2</td>\n",
       "    </tr>\n",
       "    <tr>\n",
       "      <th>19999</th>\n",
       "      <td>2</td>\n",
       "    </tr>\n",
       "  </tbody>\n",
       "</table>\n",
       "<p>20000 rows × 1 columns</p>\n",
       "</div>"
      ],
      "text/plain": [
       "       Predicted\n",
       "Id              \n",
       "0              2\n",
       "1              0\n",
       "2              1\n",
       "3              2\n",
       "4              1\n",
       "...          ...\n",
       "19995          0\n",
       "19996          1\n",
       "19997          2\n",
       "19998          2\n",
       "19999          2\n",
       "\n",
       "[20000 rows x 1 columns]"
      ]
     },
     "execution_count": 83,
     "metadata": {},
     "output_type": "execute_result"
    }
   ],
   "source": [
    "df_pred_Cat_red2"
   ]
  },
  {
   "cell_type": "markdown",
   "metadata": {},
   "source": [
    "## Try out if an FLAML AutoML ensemble approach yields even better results"
   ]
  },
  {
   "cell_type": "code",
   "execution_count": 84,
   "metadata": {
    "collapsed": true,
    "execution": {
     "iopub.execute_input": "2024-03-13T14:33:11.615187Z",
     "iopub.status.busy": "2024-03-13T14:33:11.614191Z",
     "iopub.status.idle": "2024-03-13T14:47:38.220726Z",
     "shell.execute_reply": "2024-03-13T14:47:38.219609Z",
     "shell.execute_reply.started": "2024-03-13T14:33:11.615137Z"
    },
    "jupyter": {
     "outputs_hidden": true
    }
   },
   "outputs": [
    {
     "name": "stdout",
     "output_type": "stream",
     "text": [
      "[flaml.automl.logger: 03-14 20:12:31] {1680} INFO - task = classification\n",
      "[flaml.automl.logger: 03-14 20:12:31] {1691} INFO - Evaluation method: cv\n",
      "[flaml.automl.logger: 03-14 20:12:31] {1789} INFO - Minimizing error metric: 1-macro_f1\n",
      "[flaml.automl.logger: 03-14 20:12:31] {1901} INFO - List of ML learners in AutoML Run: ['lgbm', 'rf', 'catboost', 'xgboost', 'extra_tree', 'xgb_limitdepth', 'lrl1']\n",
      "[flaml.automl.logger: 03-14 20:12:31] {2219} INFO - iteration 0, current learner lgbm\n"
     ]
    },
    {
     "name": "stdout",
     "output_type": "stream",
     "text": [
      "[flaml.automl.logger: 03-14 20:12:31] {2345} INFO - Estimated sufficient time budget=3570s. Estimated necessary time budget=88s.\n",
      "[flaml.automl.logger: 03-14 20:12:31] {2392} INFO -  at 0.4s,\testimator lgbm's best error=0.5307,\tbest estimator lgbm's best error=0.5307\n",
      "[flaml.automl.logger: 03-14 20:12:31] {2219} INFO - iteration 1, current learner lgbm\n",
      "[flaml.automl.logger: 03-14 20:12:31] {2392} INFO -  at 0.7s,\testimator lgbm's best error=0.5294,\tbest estimator lgbm's best error=0.5294\n",
      "[flaml.automl.logger: 03-14 20:12:31] {2219} INFO - iteration 2, current learner lgbm\n",
      "[flaml.automl.logger: 03-14 20:12:32] {2392} INFO -  at 1.0s,\testimator lgbm's best error=0.5294,\tbest estimator lgbm's best error=0.5294\n",
      "[flaml.automl.logger: 03-14 20:12:32] {2219} INFO - iteration 3, current learner lgbm\n",
      "[flaml.automl.logger: 03-14 20:12:32] {2392} INFO -  at 1.3s,\testimator lgbm's best error=0.5110,\tbest estimator lgbm's best error=0.5110\n",
      "[flaml.automl.logger: 03-14 20:12:32] {2219} INFO - iteration 4, current learner xgboost\n",
      "[flaml.automl.logger: 03-14 20:12:32] {2392} INFO -  at 1.6s,\testimator xgboost's best error=0.5307,\tbest estimator lgbm's best error=0.5110\n",
      "[flaml.automl.logger: 03-14 20:12:32] {2219} INFO - iteration 5, current learner lgbm\n",
      "[flaml.automl.logger: 03-14 20:12:32] {2392} INFO -  at 1.8s,\testimator lgbm's best error=0.5110,\tbest estimator lgbm's best error=0.5110\n",
      "[flaml.automl.logger: 03-14 20:12:32] {2219} INFO - iteration 6, current learner lgbm\n",
      "[flaml.automl.logger: 03-14 20:12:33] {2392} INFO -  at 2.1s,\testimator lgbm's best error=0.4923,\tbest estimator lgbm's best error=0.4923\n",
      "[flaml.automl.logger: 03-14 20:12:33] {2219} INFO - iteration 7, current learner lgbm\n",
      "[flaml.automl.logger: 03-14 20:12:33] {2392} INFO -  at 2.5s,\testimator lgbm's best error=0.4923,\tbest estimator lgbm's best error=0.4923\n",
      "[flaml.automl.logger: 03-14 20:12:33] {2219} INFO - iteration 8, current learner lgbm\n",
      "[flaml.automl.logger: 03-14 20:12:33] {2392} INFO -  at 2.8s,\testimator lgbm's best error=0.4923,\tbest estimator lgbm's best error=0.4923\n",
      "[flaml.automl.logger: 03-14 20:12:33] {2219} INFO - iteration 9, current learner xgboost\n",
      "[flaml.automl.logger: 03-14 20:12:34] {2392} INFO -  at 3.1s,\testimator xgboost's best error=0.5274,\tbest estimator lgbm's best error=0.4923\n",
      "[flaml.automl.logger: 03-14 20:12:34] {2219} INFO - iteration 10, current learner xgboost\n",
      "[flaml.automl.logger: 03-14 20:12:34] {2392} INFO -  at 3.4s,\testimator xgboost's best error=0.5274,\tbest estimator lgbm's best error=0.4923\n",
      "[flaml.automl.logger: 03-14 20:12:34] {2219} INFO - iteration 11, current learner xgboost\n",
      "[flaml.automl.logger: 03-14 20:12:34] {2392} INFO -  at 3.7s,\testimator xgboost's best error=0.5274,\tbest estimator lgbm's best error=0.4923\n",
      "[flaml.automl.logger: 03-14 20:12:34] {2219} INFO - iteration 12, current learner lgbm\n",
      "[flaml.automl.logger: 03-14 20:12:35] {2392} INFO -  at 4.2s,\testimator lgbm's best error=0.4896,\tbest estimator lgbm's best error=0.4896\n",
      "[flaml.automl.logger: 03-14 20:12:35] {2219} INFO - iteration 13, current learner xgboost\n",
      "[flaml.automl.logger: 03-14 20:12:35] {2392} INFO -  at 4.8s,\testimator xgboost's best error=0.5179,\tbest estimator lgbm's best error=0.4896\n",
      "[flaml.automl.logger: 03-14 20:12:35] {2219} INFO - iteration 14, current learner extra_tree\n",
      "[flaml.automl.logger: 03-14 20:12:36] {2392} INFO -  at 5.2s,\testimator extra_tree's best error=0.5900,\tbest estimator lgbm's best error=0.4896\n",
      "[flaml.automl.logger: 03-14 20:12:36] {2219} INFO - iteration 15, current learner xgboost\n",
      "[flaml.automl.logger: 03-14 20:12:36] {2392} INFO -  at 5.7s,\testimator xgboost's best error=0.5083,\tbest estimator lgbm's best error=0.4896\n",
      "[flaml.automl.logger: 03-14 20:12:36] {2219} INFO - iteration 16, current learner extra_tree\n",
      "[flaml.automl.logger: 03-14 20:12:37] {2392} INFO -  at 5.9s,\testimator extra_tree's best error=0.5672,\tbest estimator lgbm's best error=0.4896\n",
      "[flaml.automl.logger: 03-14 20:12:37] {2219} INFO - iteration 17, current learner lgbm\n",
      "[flaml.automl.logger: 03-14 20:12:37] {2392} INFO -  at 6.4s,\testimator lgbm's best error=0.4896,\tbest estimator lgbm's best error=0.4896\n",
      "[flaml.automl.logger: 03-14 20:12:37] {2219} INFO - iteration 18, current learner extra_tree\n",
      "[flaml.automl.logger: 03-14 20:12:37] {2392} INFO -  at 6.9s,\testimator extra_tree's best error=0.5672,\tbest estimator lgbm's best error=0.4896\n",
      "[flaml.automl.logger: 03-14 20:12:37] {2219} INFO - iteration 19, current learner xgboost\n",
      "[flaml.automl.logger: 03-14 20:12:38] {2392} INFO -  at 7.6s,\testimator xgboost's best error=0.5083,\tbest estimator lgbm's best error=0.4896\n",
      "[flaml.automl.logger: 03-14 20:12:38] {2219} INFO - iteration 20, current learner extra_tree\n",
      "[flaml.automl.logger: 03-14 20:12:39] {2392} INFO -  at 8.1s,\testimator extra_tree's best error=0.5489,\tbest estimator lgbm's best error=0.4896\n",
      "[flaml.automl.logger: 03-14 20:12:39] {2219} INFO - iteration 21, current learner lgbm\n",
      "[flaml.automl.logger: 03-14 20:12:44] {2392} INFO -  at 13.6s,\testimator lgbm's best error=0.4099,\tbest estimator lgbm's best error=0.4099\n",
      "[flaml.automl.logger: 03-14 20:12:44] {2219} INFO - iteration 22, current learner xgboost\n",
      "[flaml.automl.logger: 03-14 20:12:45] {2392} INFO -  at 14.6s,\testimator xgboost's best error=0.5057,\tbest estimator lgbm's best error=0.4099\n",
      "[flaml.automl.logger: 03-14 20:12:45] {2219} INFO - iteration 23, current learner rf\n",
      "[flaml.automl.logger: 03-14 20:12:46] {2392} INFO -  at 15.2s,\testimator rf's best error=0.5732,\tbest estimator lgbm's best error=0.4099\n",
      "[flaml.automl.logger: 03-14 20:12:46] {2219} INFO - iteration 24, current learner extra_tree\n",
      "[flaml.automl.logger: 03-14 20:12:46] {2392} INFO -  at 15.6s,\testimator extra_tree's best error=0.5489,\tbest estimator lgbm's best error=0.4099\n",
      "[flaml.automl.logger: 03-14 20:12:46] {2219} INFO - iteration 25, current learner extra_tree\n",
      "[flaml.automl.logger: 03-14 20:12:47] {2392} INFO -  at 16.2s,\testimator extra_tree's best error=0.5387,\tbest estimator lgbm's best error=0.4099\n",
      "[flaml.automl.logger: 03-14 20:12:47] {2219} INFO - iteration 26, current learner rf\n",
      "[flaml.automl.logger: 03-14 20:12:47] {2392} INFO -  at 16.8s,\testimator rf's best error=0.5303,\tbest estimator lgbm's best error=0.4099\n",
      "[flaml.automl.logger: 03-14 20:12:47] {2219} INFO - iteration 27, current learner xgboost\n",
      "[flaml.automl.logger: 03-14 20:12:48] {2392} INFO -  at 17.8s,\testimator xgboost's best error=0.5020,\tbest estimator lgbm's best error=0.4099\n",
      "[flaml.automl.logger: 03-14 20:12:48] {2219} INFO - iteration 28, current learner extra_tree\n",
      "[flaml.automl.logger: 03-14 20:12:49] {2392} INFO -  at 18.2s,\testimator extra_tree's best error=0.5378,\tbest estimator lgbm's best error=0.4099\n",
      "[flaml.automl.logger: 03-14 20:12:49] {2219} INFO - iteration 29, current learner extra_tree\n",
      "[flaml.automl.logger: 03-14 20:12:49] {2392} INFO -  at 18.6s,\testimator extra_tree's best error=0.5138,\tbest estimator lgbm's best error=0.4099\n",
      "[flaml.automl.logger: 03-14 20:12:49] {2219} INFO - iteration 30, current learner rf\n",
      "[flaml.automl.logger: 03-14 20:12:50] {2392} INFO -  at 19.1s,\testimator rf's best error=0.5303,\tbest estimator lgbm's best error=0.4099\n",
      "[flaml.automl.logger: 03-14 20:12:50] {2219} INFO - iteration 31, current learner rf\n",
      "[flaml.automl.logger: 03-14 20:12:50] {2392} INFO -  at 19.9s,\testimator rf's best error=0.5255,\tbest estimator lgbm's best error=0.4099\n",
      "[flaml.automl.logger: 03-14 20:12:50] {2219} INFO - iteration 32, current learner rf\n",
      "[flaml.automl.logger: 03-14 20:12:51] {2392} INFO -  at 20.6s,\testimator rf's best error=0.5243,\tbest estimator lgbm's best error=0.4099\n",
      "[flaml.automl.logger: 03-14 20:12:51] {2219} INFO - iteration 33, current learner extra_tree\n",
      "[flaml.automl.logger: 03-14 20:12:51] {2392} INFO -  at 20.9s,\testimator extra_tree's best error=0.5138,\tbest estimator lgbm's best error=0.4099\n",
      "[flaml.automl.logger: 03-14 20:12:51] {2219} INFO - iteration 34, current learner rf\n",
      "[flaml.automl.logger: 03-14 20:12:53] {2392} INFO -  at 22.0s,\testimator rf's best error=0.5243,\tbest estimator lgbm's best error=0.4099\n",
      "[flaml.automl.logger: 03-14 20:12:53] {2219} INFO - iteration 35, current learner xgboost\n",
      "[flaml.automl.logger: 03-14 20:12:54] {2392} INFO -  at 23.2s,\testimator xgboost's best error=0.4555,\tbest estimator lgbm's best error=0.4099\n",
      "[flaml.automl.logger: 03-14 20:12:54] {2219} INFO - iteration 36, current learner extra_tree\n",
      "[flaml.automl.logger: 03-14 20:12:54] {2392} INFO -  at 23.8s,\testimator extra_tree's best error=0.5138,\tbest estimator lgbm's best error=0.4099\n",
      "[flaml.automl.logger: 03-14 20:12:54] {2219} INFO - iteration 37, current learner xgboost\n",
      "[flaml.automl.logger: 03-14 20:12:55] {2392} INFO -  at 24.5s,\testimator xgboost's best error=0.4555,\tbest estimator lgbm's best error=0.4099\n",
      "[flaml.automl.logger: 03-14 20:12:55] {2219} INFO - iteration 38, current learner extra_tree\n",
      "[flaml.automl.logger: 03-14 20:12:56] {2392} INFO -  at 25.0s,\testimator extra_tree's best error=0.4972,\tbest estimator lgbm's best error=0.4099\n",
      "[flaml.automl.logger: 03-14 20:12:56] {2219} INFO - iteration 39, current learner rf\n",
      "[flaml.automl.logger: 03-14 20:12:56] {2392} INFO -  at 25.7s,\testimator rf's best error=0.5123,\tbest estimator lgbm's best error=0.4099\n",
      "[flaml.automl.logger: 03-14 20:12:56] {2219} INFO - iteration 40, current learner xgboost\n",
      "[flaml.automl.logger: 03-14 20:12:58] {2392} INFO -  at 27.7s,\testimator xgboost's best error=0.4392,\tbest estimator lgbm's best error=0.4099\n",
      "[flaml.automl.logger: 03-14 20:12:58] {2219} INFO - iteration 41, current learner extra_tree\n",
      "[flaml.automl.logger: 03-14 20:12:59] {2392} INFO -  at 28.2s,\testimator extra_tree's best error=0.4972,\tbest estimator lgbm's best error=0.4099\n",
      "[flaml.automl.logger: 03-14 20:12:59] {2219} INFO - iteration 42, current learner lgbm\n",
      "[flaml.automl.logger: 03-14 20:13:06] {2392} INFO -  at 35.5s,\testimator lgbm's best error=0.3693,\tbest estimator lgbm's best error=0.3693\n",
      "[flaml.automl.logger: 03-14 20:13:06] {2219} INFO - iteration 43, current learner extra_tree\n",
      "[flaml.automl.logger: 03-14 20:13:07] {2392} INFO -  at 36.4s,\testimator extra_tree's best error=0.4580,\tbest estimator lgbm's best error=0.3693\n",
      "[flaml.automl.logger: 03-14 20:13:07] {2219} INFO - iteration 44, current learner extra_tree\n",
      "[flaml.automl.logger: 03-14 20:13:07] {2392} INFO -  at 36.9s,\testimator extra_tree's best error=0.4580,\tbest estimator lgbm's best error=0.3693\n",
      "[flaml.automl.logger: 03-14 20:13:07] {2219} INFO - iteration 45, current learner extra_tree\n",
      "[flaml.automl.logger: 03-14 20:13:09] {2392} INFO -  at 38.5s,\testimator extra_tree's best error=0.4580,\tbest estimator lgbm's best error=0.3693\n",
      "[flaml.automl.logger: 03-14 20:13:09] {2219} INFO - iteration 46, current learner rf\n",
      "[flaml.automl.logger: 03-14 20:13:10] {2392} INFO -  at 39.8s,\testimator rf's best error=0.4685,\tbest estimator lgbm's best error=0.3693\n",
      "[flaml.automl.logger: 03-14 20:13:10] {2219} INFO - iteration 47, current learner extra_tree\n",
      "[flaml.automl.logger: 03-14 20:13:11] {2392} INFO -  at 40.3s,\testimator extra_tree's best error=0.4532,\tbest estimator lgbm's best error=0.3693\n",
      "[flaml.automl.logger: 03-14 20:13:11] {2219} INFO - iteration 48, current learner rf\n",
      "[flaml.automl.logger: 03-14 20:13:12] {2392} INFO -  at 41.0s,\testimator rf's best error=0.4685,\tbest estimator lgbm's best error=0.3693\n",
      "[flaml.automl.logger: 03-14 20:13:12] {2219} INFO - iteration 49, current learner rf\n",
      "[flaml.automl.logger: 03-14 20:13:13] {2392} INFO -  at 42.7s,\testimator rf's best error=0.4685,\tbest estimator lgbm's best error=0.3693\n",
      "[flaml.automl.logger: 03-14 20:13:13] {2219} INFO - iteration 50, current learner extra_tree\n",
      "[flaml.automl.logger: 03-14 20:13:14] {2392} INFO -  at 43.5s,\testimator extra_tree's best error=0.4532,\tbest estimator lgbm's best error=0.3693\n",
      "[flaml.automl.logger: 03-14 20:13:14] {2219} INFO - iteration 51, current learner rf\n",
      "[flaml.automl.logger: 03-14 20:13:16] {2392} INFO -  at 44.9s,\testimator rf's best error=0.4379,\tbest estimator lgbm's best error=0.3693\n",
      "[flaml.automl.logger: 03-14 20:13:16] {2219} INFO - iteration 52, current learner rf\n",
      "[flaml.automl.logger: 03-14 20:13:17] {2392} INFO -  at 46.3s,\testimator rf's best error=0.4379,\tbest estimator lgbm's best error=0.3693\n",
      "[flaml.automl.logger: 03-14 20:13:17] {2219} INFO - iteration 53, current learner rf\n",
      "[flaml.automl.logger: 03-14 20:13:20] {2392} INFO -  at 49.7s,\testimator rf's best error=0.4140,\tbest estimator lgbm's best error=0.3693\n",
      "[flaml.automl.logger: 03-14 20:13:20] {2219} INFO - iteration 54, current learner lgbm\n",
      "[flaml.automl.logger: 03-14 20:13:24] {2392} INFO -  at 53.2s,\testimator lgbm's best error=0.3693,\tbest estimator lgbm's best error=0.3693\n",
      "[flaml.automl.logger: 03-14 20:13:24] {2219} INFO - iteration 55, current learner extra_tree\n",
      "[flaml.automl.logger: 03-14 20:13:24] {2392} INFO -  at 53.8s,\testimator extra_tree's best error=0.4532,\tbest estimator lgbm's best error=0.3693\n",
      "[flaml.automl.logger: 03-14 20:13:24] {2219} INFO - iteration 56, current learner rf\n",
      "[flaml.automl.logger: 03-14 20:13:26] {2392} INFO -  at 55.4s,\testimator rf's best error=0.4140,\tbest estimator lgbm's best error=0.3693\n",
      "[flaml.automl.logger: 03-14 20:13:26] {2219} INFO - iteration 57, current learner rf\n",
      "[flaml.automl.logger: 03-14 20:13:32] {2392} INFO -  at 61.6s,\testimator rf's best error=0.4067,\tbest estimator lgbm's best error=0.3693\n",
      "[flaml.automl.logger: 03-14 20:13:32] {2219} INFO - iteration 58, current learner xgboost\n",
      "[flaml.automl.logger: 03-14 20:13:34] {2392} INFO -  at 63.6s,\testimator xgboost's best error=0.4234,\tbest estimator lgbm's best error=0.3693\n",
      "[flaml.automl.logger: 03-14 20:13:34] {2219} INFO - iteration 59, current learner lgbm\n",
      "[flaml.automl.logger: 03-14 20:13:38] {2392} INFO -  at 67.8s,\testimator lgbm's best error=0.3693,\tbest estimator lgbm's best error=0.3693\n",
      "[flaml.automl.logger: 03-14 20:13:38] {2219} INFO - iteration 60, current learner xgboost\n",
      "[flaml.automl.logger: 03-14 20:13:41] {2392} INFO -  at 70.0s,\testimator xgboost's best error=0.4234,\tbest estimator lgbm's best error=0.3693\n",
      "[flaml.automl.logger: 03-14 20:13:41] {2219} INFO - iteration 61, current learner rf\n",
      "[flaml.automl.logger: 03-14 20:13:47] {2392} INFO -  at 76.2s,\testimator rf's best error=0.3928,\tbest estimator lgbm's best error=0.3693\n",
      "[flaml.automl.logger: 03-14 20:13:47] {2219} INFO - iteration 62, current learner xgboost\n",
      "[flaml.automl.logger: 03-14 20:13:48] {2392} INFO -  at 77.3s,\testimator xgboost's best error=0.4234,\tbest estimator lgbm's best error=0.3693\n",
      "[flaml.automl.logger: 03-14 20:13:48] {2219} INFO - iteration 63, current learner extra_tree\n",
      "[flaml.automl.logger: 03-14 20:13:49] {2392} INFO -  at 78.5s,\testimator extra_tree's best error=0.4272,\tbest estimator lgbm's best error=0.3693\n",
      "[flaml.automl.logger: 03-14 20:13:49] {2219} INFO - iteration 64, current learner lgbm\n",
      "[flaml.automl.logger: 03-14 20:13:58] {2392} INFO -  at 87.8s,\testimator lgbm's best error=0.3693,\tbest estimator lgbm's best error=0.3693\n",
      "[flaml.automl.logger: 03-14 20:13:58] {2219} INFO - iteration 65, current learner xgboost\n",
      "[flaml.automl.logger: 03-14 20:14:03] {2392} INFO -  at 92.4s,\testimator xgboost's best error=0.4055,\tbest estimator lgbm's best error=0.3693\n",
      "[flaml.automl.logger: 03-14 20:14:03] {2219} INFO - iteration 66, current learner extra_tree\n",
      "[flaml.automl.logger: 03-14 20:14:04] {2392} INFO -  at 93.8s,\testimator extra_tree's best error=0.4108,\tbest estimator lgbm's best error=0.3693\n",
      "[flaml.automl.logger: 03-14 20:14:04] {2219} INFO - iteration 67, current learner extra_tree\n",
      "[flaml.automl.logger: 03-14 20:14:05] {2392} INFO -  at 94.7s,\testimator extra_tree's best error=0.4108,\tbest estimator lgbm's best error=0.3693\n",
      "[flaml.automl.logger: 03-14 20:14:05] {2219} INFO - iteration 68, current learner lgbm\n",
      "[flaml.automl.logger: 03-14 20:14:24] {2392} INFO -  at 113.6s,\testimator lgbm's best error=0.3561,\tbest estimator lgbm's best error=0.3561\n",
      "[flaml.automl.logger: 03-14 20:14:24] {2219} INFO - iteration 69, current learner extra_tree\n",
      "[flaml.automl.logger: 03-14 20:14:25] {2392} INFO -  at 114.8s,\testimator extra_tree's best error=0.4081,\tbest estimator lgbm's best error=0.3561\n",
      "[flaml.automl.logger: 03-14 20:14:25] {2219} INFO - iteration 70, current learner extra_tree\n",
      "[flaml.automl.logger: 03-14 20:14:27] {2392} INFO -  at 116.0s,\testimator extra_tree's best error=0.4081,\tbest estimator lgbm's best error=0.3561\n",
      "[flaml.automl.logger: 03-14 20:14:27] {2219} INFO - iteration 71, current learner extra_tree\n",
      "[flaml.automl.logger: 03-14 20:14:29] {2392} INFO -  at 118.0s,\testimator extra_tree's best error=0.4081,\tbest estimator lgbm's best error=0.3561\n",
      "[flaml.automl.logger: 03-14 20:14:29] {2219} INFO - iteration 72, current learner extra_tree\n",
      "[flaml.automl.logger: 03-14 20:14:29] {2392} INFO -  at 118.9s,\testimator extra_tree's best error=0.4081,\tbest estimator lgbm's best error=0.3561\n",
      "[flaml.automl.logger: 03-14 20:14:29] {2219} INFO - iteration 73, current learner extra_tree\n",
      "[flaml.automl.logger: 03-14 20:14:31] {2392} INFO -  at 120.3s,\testimator extra_tree's best error=0.4081,\tbest estimator lgbm's best error=0.3561\n",
      "[flaml.automl.logger: 03-14 20:14:31] {2219} INFO - iteration 74, current learner catboost\n",
      "[flaml.automl.logger: 03-14 20:14:53] {2392} INFO -  at 142.5s,\testimator catboost's best error=0.3246,\tbest estimator catboost's best error=0.3246\n",
      "[flaml.automl.logger: 03-14 20:14:53] {2219} INFO - iteration 75, current learner extra_tree\n",
      "[flaml.automl.logger: 03-14 20:14:54] {2392} INFO -  at 143.5s,\testimator extra_tree's best error=0.4013,\tbest estimator catboost's best error=0.3246\n",
      "[flaml.automl.logger: 03-14 20:14:54] {2219} INFO - iteration 76, current learner rf\n",
      "[flaml.automl.logger: 03-14 20:14:59] {2392} INFO -  at 148.1s,\testimator rf's best error=0.3928,\tbest estimator catboost's best error=0.3246\n",
      "[flaml.automl.logger: 03-14 20:14:59] {2219} INFO - iteration 77, current learner rf\n",
      "[flaml.automl.logger: 03-14 20:15:01] {2392} INFO -  at 150.5s,\testimator rf's best error=0.3928,\tbest estimator catboost's best error=0.3246\n",
      "[flaml.automl.logger: 03-14 20:15:01] {2219} INFO - iteration 78, current learner extra_tree\n",
      "[flaml.automl.logger: 03-14 20:15:02] {2392} INFO -  at 151.9s,\testimator extra_tree's best error=0.4013,\tbest estimator catboost's best error=0.3246\n",
      "[flaml.automl.logger: 03-14 20:15:02] {2219} INFO - iteration 79, current learner catboost\n",
      "[flaml.automl.logger: 03-14 20:15:37] {2392} INFO -  at 186.4s,\testimator catboost's best error=0.3211,\tbest estimator catboost's best error=0.3211\n",
      "[flaml.automl.logger: 03-14 20:15:37] {2219} INFO - iteration 80, current learner rf\n",
      "[flaml.automl.logger: 03-14 20:15:47] {2392} INFO -  at 196.3s,\testimator rf's best error=0.3830,\tbest estimator catboost's best error=0.3211\n",
      "[flaml.automl.logger: 03-14 20:15:47] {2219} INFO - iteration 81, current learner extra_tree\n",
      "[flaml.automl.logger: 03-14 20:15:48] {2392} INFO -  at 197.5s,\testimator extra_tree's best error=0.4013,\tbest estimator catboost's best error=0.3211\n",
      "[flaml.automl.logger: 03-14 20:15:48] {2219} INFO - iteration 82, current learner xgboost\n",
      "[flaml.automl.logger: 03-14 20:15:49] {2392} INFO -  at 198.8s,\testimator xgboost's best error=0.4055,\tbest estimator catboost's best error=0.3211\n",
      "[flaml.automl.logger: 03-14 20:15:49] {2219} INFO - iteration 83, current learner extra_tree\n",
      "[flaml.automl.logger: 03-14 20:15:50] {2392} INFO -  at 199.9s,\testimator extra_tree's best error=0.4013,\tbest estimator catboost's best error=0.3211\n",
      "[flaml.automl.logger: 03-14 20:15:50] {2219} INFO - iteration 84, current learner extra_tree\n",
      "[flaml.automl.logger: 03-14 20:15:52] {2392} INFO -  at 201.1s,\testimator extra_tree's best error=0.4013,\tbest estimator catboost's best error=0.3211\n",
      "[flaml.automl.logger: 03-14 20:15:52] {2219} INFO - iteration 85, current learner extra_tree\n",
      "[flaml.automl.logger: 03-14 20:15:54] {2392} INFO -  at 203.0s,\testimator extra_tree's best error=0.4013,\tbest estimator catboost's best error=0.3211\n",
      "[flaml.automl.logger: 03-14 20:15:54] {2219} INFO - iteration 86, current learner extra_tree\n",
      "[flaml.automl.logger: 03-14 20:15:54] {2392} INFO -  at 203.8s,\testimator extra_tree's best error=0.4013,\tbest estimator catboost's best error=0.3211\n",
      "[flaml.automl.logger: 03-14 20:15:54] {2219} INFO - iteration 87, current learner extra_tree\n",
      "[flaml.automl.logger: 03-14 20:15:55] {2392} INFO -  at 204.9s,\testimator extra_tree's best error=0.4013,\tbest estimator catboost's best error=0.3211\n",
      "[flaml.automl.logger: 03-14 20:15:55] {2219} INFO - iteration 88, current learner xgboost\n",
      "[flaml.automl.logger: 03-14 20:16:10] {2392} INFO -  at 219.6s,\testimator xgboost's best error=0.3840,\tbest estimator catboost's best error=0.3211\n",
      "[flaml.automl.logger: 03-14 20:16:10] {2219} INFO - iteration 89, current learner rf\n",
      "[flaml.automl.logger: 03-14 20:16:26] {2392} INFO -  at 235.1s,\testimator rf's best error=0.3812,\tbest estimator catboost's best error=0.3211\n",
      "[flaml.automl.logger: 03-14 20:16:26] {2219} INFO - iteration 90, current learner extra_tree\n",
      "[flaml.automl.logger: 03-14 20:16:27] {2392} INFO -  at 236.5s,\testimator extra_tree's best error=0.3931,\tbest estimator catboost's best error=0.3211\n",
      "[flaml.automl.logger: 03-14 20:16:27] {2219} INFO - iteration 91, current learner catboost\n",
      "[flaml.automl.logger: 03-14 20:16:52] {2392} INFO -  at 261.5s,\testimator catboost's best error=0.3211,\tbest estimator catboost's best error=0.3211\n",
      "[flaml.automl.logger: 03-14 20:16:52] {2219} INFO - iteration 92, current learner extra_tree\n",
      "[flaml.automl.logger: 03-14 20:16:56] {2392} INFO -  at 265.3s,\testimator extra_tree's best error=0.3931,\tbest estimator catboost's best error=0.3211\n",
      "[flaml.automl.logger: 03-14 20:16:56] {2219} INFO - iteration 93, current learner extra_tree\n",
      "[flaml.automl.logger: 03-14 20:16:57] {2392} INFO -  at 266.2s,\testimator extra_tree's best error=0.3931,\tbest estimator catboost's best error=0.3211\n",
      "[flaml.automl.logger: 03-14 20:16:57] {2219} INFO - iteration 94, current learner xgboost\n",
      "[flaml.automl.logger: 03-14 20:16:58] {2392} INFO -  at 267.8s,\testimator xgboost's best error=0.3840,\tbest estimator catboost's best error=0.3211\n",
      "[flaml.automl.logger: 03-14 20:16:58] {2219} INFO - iteration 95, current learner rf\n",
      "[flaml.automl.logger: 03-14 20:17:12] {2392} INFO -  at 281.3s,\testimator rf's best error=0.3812,\tbest estimator catboost's best error=0.3211\n",
      "[flaml.automl.logger: 03-14 20:17:12] {2219} INFO - iteration 96, current learner extra_tree\n",
      "[flaml.automl.logger: 03-14 20:17:13] {2392} INFO -  at 282.1s,\testimator extra_tree's best error=0.3931,\tbest estimator catboost's best error=0.3211\n",
      "[flaml.automl.logger: 03-14 20:17:13] {2219} INFO - iteration 97, current learner xgboost\n",
      "[flaml.automl.logger: 03-14 20:21:26] {2392} INFO -  at 535.3s,\testimator xgboost's best error=0.3596,\tbest estimator catboost's best error=0.3211\n",
      "[flaml.automl.logger: 03-14 20:21:26] {2219} INFO - iteration 98, current learner extra_tree\n",
      "[flaml.automl.logger: 03-14 20:21:28] {2392} INFO -  at 537.6s,\testimator extra_tree's best error=0.3931,\tbest estimator catboost's best error=0.3211\n",
      "[flaml.automl.logger: 03-14 20:21:28] {2219} INFO - iteration 99, current learner rf\n",
      "[flaml.automl.logger: 03-14 20:21:47] {2392} INFO -  at 556.1s,\testimator rf's best error=0.3812,\tbest estimator catboost's best error=0.3211\n",
      "[flaml.automl.logger: 03-14 20:21:47] {2219} INFO - iteration 100, current learner rf\n",
      "[flaml.automl.logger: 03-14 20:22:02] {2392} INFO -  at 571.5s,\testimator rf's best error=0.3759,\tbest estimator catboost's best error=0.3211\n",
      "[flaml.automl.logger: 03-14 20:22:02] {2219} INFO - iteration 101, current learner extra_tree\n",
      "[flaml.automl.logger: 03-14 20:22:06] {2392} INFO -  at 575.1s,\testimator extra_tree's best error=0.3904,\tbest estimator catboost's best error=0.3211\n",
      "[flaml.automl.logger: 03-14 20:22:06] {2219} INFO - iteration 102, current learner extra_tree\n",
      "[flaml.automl.logger: 03-14 20:22:07] {2392} INFO -  at 576.8s,\testimator extra_tree's best error=0.3904,\tbest estimator catboost's best error=0.3211\n",
      "[flaml.automl.logger: 03-14 20:22:07] {2219} INFO - iteration 103, current learner lgbm\n",
      "[flaml.automl.logger: 03-14 20:22:12] {2392} INFO -  at 581.4s,\testimator lgbm's best error=0.3561,\tbest estimator catboost's best error=0.3211\n",
      "[flaml.automl.logger: 03-14 20:22:12] {2219} INFO - iteration 104, current learner extra_tree\n",
      "[flaml.automl.logger: 03-14 20:22:15] {2392} INFO -  at 584.8s,\testimator extra_tree's best error=0.3904,\tbest estimator catboost's best error=0.3211\n",
      "[flaml.automl.logger: 03-14 20:22:15] {2219} INFO - iteration 105, current learner catboost\n",
      "[flaml.automl.logger: 03-14 20:23:09] {2392} INFO -  at 638.1s,\testimator catboost's best error=0.3169,\tbest estimator catboost's best error=0.3169\n",
      "[flaml.automl.logger: 03-14 20:23:09] {2219} INFO - iteration 106, current learner extra_tree\n",
      "[flaml.automl.logger: 03-14 20:23:13] {2392} INFO -  at 642.5s,\testimator extra_tree's best error=0.3738,\tbest estimator catboost's best error=0.3169\n",
      "[flaml.automl.logger: 03-14 20:23:13] {2219} INFO - iteration 107, current learner extra_tree\n",
      "[flaml.automl.logger: 03-14 20:23:23] {2392} INFO -  at 652.8s,\testimator extra_tree's best error=0.3605,\tbest estimator catboost's best error=0.3169\n",
      "[flaml.automl.logger: 03-14 20:23:23] {2219} INFO - iteration 108, current learner catboost\n",
      "[flaml.automl.logger: 03-14 20:23:58] {2392} INFO -  at 687.8s,\testimator catboost's best error=0.3169,\tbest estimator catboost's best error=0.3169\n",
      "[flaml.automl.logger: 03-14 20:23:58] {2219} INFO - iteration 109, current learner extra_tree\n",
      "[flaml.automl.logger: 03-14 20:24:03] {2392} INFO -  at 692.8s,\testimator extra_tree's best error=0.3605,\tbest estimator catboost's best error=0.3169\n",
      "[flaml.automl.logger: 03-14 20:24:03] {2219} INFO - iteration 110, current learner extra_tree\n",
      "[flaml.automl.logger: 03-14 20:24:17] {2392} INFO -  at 706.7s,\testimator extra_tree's best error=0.3558,\tbest estimator catboost's best error=0.3169\n",
      "[flaml.automl.logger: 03-14 20:24:17] {2219} INFO - iteration 111, current learner lgbm\n",
      "[flaml.automl.logger: 03-14 20:24:57] {2392} INFO -  at 746.2s,\testimator lgbm's best error=0.3400,\tbest estimator catboost's best error=0.3169\n",
      "[flaml.automl.logger: 03-14 20:24:57] {2219} INFO - iteration 112, current learner extra_tree\n",
      "[flaml.automl.logger: 03-14 20:25:09] {2392} INFO -  at 758.0s,\testimator extra_tree's best error=0.3558,\tbest estimator catboost's best error=0.3169\n",
      "[flaml.automl.logger: 03-14 20:25:09] {2219} INFO - iteration 113, current learner extra_tree\n",
      "[flaml.automl.logger: 03-14 20:25:22] {2392} INFO -  at 771.1s,\testimator extra_tree's best error=0.3558,\tbest estimator catboost's best error=0.3169\n",
      "[flaml.automl.logger: 03-14 20:25:22] {2219} INFO - iteration 114, current learner xgb_limitdepth\n",
      "[flaml.automl.logger: 03-14 20:25:23] {2392} INFO -  at 772.3s,\testimator xgb_limitdepth's best error=0.4066,\tbest estimator catboost's best error=0.3169\n",
      "[flaml.automl.logger: 03-14 20:25:23] {2219} INFO - iteration 115, current learner xgb_limitdepth\n",
      "[flaml.automl.logger: 03-14 20:25:24] {2392} INFO -  at 773.4s,\testimator xgb_limitdepth's best error=0.4066,\tbest estimator catboost's best error=0.3169\n",
      "[flaml.automl.logger: 03-14 20:25:24] {2219} INFO - iteration 116, current learner xgb_limitdepth\n",
      "[flaml.automl.logger: 03-14 20:25:25] {2392} INFO -  at 774.5s,\testimator xgb_limitdepth's best error=0.3991,\tbest estimator catboost's best error=0.3169\n",
      "[flaml.automl.logger: 03-14 20:25:25] {2219} INFO - iteration 117, current learner extra_tree\n",
      "[flaml.automl.logger: 03-14 20:25:37] {2392} INFO -  at 786.2s,\testimator extra_tree's best error=0.3558,\tbest estimator catboost's best error=0.3169\n",
      "[flaml.automl.logger: 03-14 20:25:37] {2219} INFO - iteration 118, current learner xgb_limitdepth\n",
      "[flaml.automl.logger: 03-14 20:25:38] {2392} INFO -  at 787.1s,\testimator xgb_limitdepth's best error=0.3991,\tbest estimator catboost's best error=0.3169\n",
      "[flaml.automl.logger: 03-14 20:25:38] {2219} INFO - iteration 119, current learner xgb_limitdepth\n",
      "[flaml.automl.logger: 03-14 20:25:39] {2392} INFO -  at 788.9s,\testimator xgb_limitdepth's best error=0.3991,\tbest estimator catboost's best error=0.3169\n",
      "[flaml.automl.logger: 03-14 20:25:39] {2219} INFO - iteration 120, current learner rf\n",
      "[flaml.automl.logger: 03-14 20:26:01] {2392} INFO -  at 810.3s,\testimator rf's best error=0.3747,\tbest estimator catboost's best error=0.3169\n",
      "[flaml.automl.logger: 03-14 20:26:01] {2219} INFO - iteration 121, current learner xgb_limitdepth\n",
      "[flaml.automl.logger: 03-14 20:26:02] {2392} INFO -  at 811.0s,\testimator xgb_limitdepth's best error=0.3991,\tbest estimator catboost's best error=0.3169\n",
      "[flaml.automl.logger: 03-14 20:26:02] {2219} INFO - iteration 122, current learner xgb_limitdepth\n",
      "[flaml.automl.logger: 03-14 20:26:04] {2392} INFO -  at 813.4s,\testimator xgb_limitdepth's best error=0.3773,\tbest estimator catboost's best error=0.3169\n",
      "[flaml.automl.logger: 03-14 20:26:04] {2219} INFO - iteration 123, current learner xgb_limitdepth\n",
      "[flaml.automl.logger: 03-14 20:26:07] {2392} INFO -  at 816.7s,\testimator xgb_limitdepth's best error=0.3720,\tbest estimator catboost's best error=0.3169\n",
      "[flaml.automl.logger: 03-14 20:26:07] {2219} INFO - iteration 124, current learner xgb_limitdepth\n",
      "[flaml.automl.logger: 03-14 20:26:10] {2392} INFO -  at 819.2s,\testimator xgb_limitdepth's best error=0.3720,\tbest estimator catboost's best error=0.3169\n",
      "[flaml.automl.logger: 03-14 20:26:10] {2219} INFO - iteration 125, current learner rf\n",
      "[flaml.automl.logger: 03-14 20:26:24] {2392} INFO -  at 833.3s,\testimator rf's best error=0.3747,\tbest estimator catboost's best error=0.3169\n",
      "[flaml.automl.logger: 03-14 20:26:24] {2219} INFO - iteration 126, current learner lgbm\n",
      "[flaml.automl.logger: 03-14 20:26:34] {2392} INFO -  at 843.0s,\testimator lgbm's best error=0.3400,\tbest estimator catboost's best error=0.3169\n",
      "[flaml.automl.logger: 03-14 20:26:34] {2219} INFO - iteration 127, current learner lgbm\n",
      "[flaml.automl.logger: 03-14 20:26:47] {2392} INFO -  at 856.9s,\testimator lgbm's best error=0.3400,\tbest estimator catboost's best error=0.3169\n",
      "[flaml.automl.logger: 03-14 20:26:47] {2219} INFO - iteration 128, current learner lgbm\n",
      "[flaml.automl.logger: 03-14 20:28:13] {2392} INFO -  at 941.9s,\testimator lgbm's best error=0.3400,\tbest estimator catboost's best error=0.3169\n",
      "[flaml.automl.logger: 03-14 20:28:13] {2219} INFO - iteration 129, current learner extra_tree\n",
      "[flaml.automl.logger: 03-14 20:28:21] {2392} INFO -  at 950.6s,\testimator extra_tree's best error=0.3558,\tbest estimator catboost's best error=0.3169\n",
      "[flaml.automl.logger: 03-14 20:28:21] {2219} INFO - iteration 130, current learner xgb_limitdepth\n",
      "[flaml.automl.logger: 03-14 20:28:25] {2392} INFO -  at 954.4s,\testimator xgb_limitdepth's best error=0.3655,\tbest estimator catboost's best error=0.3169\n",
      "[flaml.automl.logger: 03-14 20:28:25] {2219} INFO - iteration 131, current learner xgb_limitdepth\n",
      "[flaml.automl.logger: 03-14 20:28:28] {2392} INFO -  at 957.8s,\testimator xgb_limitdepth's best error=0.3655,\tbest estimator catboost's best error=0.3169\n",
      "[flaml.automl.logger: 03-14 20:28:28] {2219} INFO - iteration 132, current learner xgb_limitdepth\n",
      "[flaml.automl.logger: 03-14 20:28:32] {2392} INFO -  at 960.9s,\testimator xgb_limitdepth's best error=0.3629,\tbest estimator catboost's best error=0.3169\n",
      "[flaml.automl.logger: 03-14 20:28:32] {2219} INFO - iteration 133, current learner xgb_limitdepth\n",
      "[flaml.automl.logger: 03-14 20:28:35] {2392} INFO -  at 964.9s,\testimator xgb_limitdepth's best error=0.3565,\tbest estimator catboost's best error=0.3169\n",
      "[flaml.automl.logger: 03-14 20:28:35] {2219} INFO - iteration 134, current learner rf\n",
      "[flaml.automl.logger: 03-14 20:28:55] {2392} INFO -  at 984.0s,\testimator rf's best error=0.3747,\tbest estimator catboost's best error=0.3169\n",
      "[flaml.automl.logger: 03-14 20:28:55] {2219} INFO - iteration 135, current learner xgb_limitdepth\n",
      "[flaml.automl.logger: 03-14 20:28:57] {2392} INFO -  at 986.5s,\testimator xgb_limitdepth's best error=0.3565,\tbest estimator catboost's best error=0.3169\n",
      "[flaml.automl.logger: 03-14 20:28:57] {2219} INFO - iteration 136, current learner xgb_limitdepth\n",
      "[flaml.automl.logger: 03-14 20:29:04] {2392} INFO -  at 993.1s,\testimator xgb_limitdepth's best error=0.3405,\tbest estimator catboost's best error=0.3169\n",
      "[flaml.automl.logger: 03-14 20:29:04] {2219} INFO - iteration 137, current learner xgb_limitdepth\n",
      "[flaml.automl.logger: 03-14 20:29:07] {2392} INFO -  at 996.5s,\testimator xgb_limitdepth's best error=0.3405,\tbest estimator catboost's best error=0.3169\n",
      "[flaml.automl.logger: 03-14 20:29:07] {2219} INFO - iteration 138, current learner xgb_limitdepth\n",
      "[flaml.automl.logger: 03-14 20:29:22] {2392} INFO -  at 1011.4s,\testimator xgb_limitdepth's best error=0.3354,\tbest estimator catboost's best error=0.3169\n",
      "[flaml.automl.logger: 03-14 20:29:22] {2219} INFO - iteration 139, current learner lgbm\n",
      "[flaml.automl.logger: 03-14 20:29:55] {2392} INFO -  at 1044.9s,\testimator lgbm's best error=0.3390,\tbest estimator catboost's best error=0.3169\n",
      "[flaml.automl.logger: 03-14 20:29:55] {2219} INFO - iteration 140, current learner xgb_limitdepth\n",
      "[flaml.automl.logger: 03-14 20:30:02] {2392} INFO -  at 1051.1s,\testimator xgb_limitdepth's best error=0.3354,\tbest estimator catboost's best error=0.3169\n",
      "[flaml.automl.logger: 03-14 20:30:02] {2219} INFO - iteration 141, current learner rf\n",
      "[flaml.automl.logger: 03-14 20:30:30] {2392} INFO -  at 1079.2s,\testimator rf's best error=0.3719,\tbest estimator catboost's best error=0.3169\n",
      "[flaml.automl.logger: 03-14 20:30:30] {2219} INFO - iteration 142, current learner xgb_limitdepth\n",
      "[flaml.automl.logger: 03-14 20:31:11] {2392} INFO -  at 1120.8s,\testimator xgb_limitdepth's best error=0.3269,\tbest estimator catboost's best error=0.3169\n",
      "[flaml.automl.logger: 03-14 20:31:11] {2219} INFO - iteration 143, current learner catboost\n",
      "[flaml.automl.logger: 03-14 20:33:08] {2392} INFO -  at 1237.2s,\testimator catboost's best error=0.3169,\tbest estimator catboost's best error=0.3169\n",
      "[flaml.automl.logger: 03-14 20:33:08] {2219} INFO - iteration 144, current learner xgb_limitdepth\n",
      "[flaml.automl.logger: 03-14 20:33:21] {2392} INFO -  at 1250.5s,\testimator xgb_limitdepth's best error=0.3269,\tbest estimator catboost's best error=0.3169\n",
      "[flaml.automl.logger: 03-14 20:33:21] {2219} INFO - iteration 145, current learner xgb_limitdepth\n",
      "[flaml.automl.logger: 03-14 20:35:27] {2392} INFO -  at 1376.0s,\testimator xgb_limitdepth's best error=0.3235,\tbest estimator catboost's best error=0.3169\n",
      "[flaml.automl.logger: 03-14 20:35:27] {2219} INFO - iteration 146, current learner extra_tree\n",
      "[flaml.automl.logger: 03-14 20:35:41] {2392} INFO -  at 1390.8s,\testimator extra_tree's best error=0.3550,\tbest estimator catboost's best error=0.3169\n",
      "[flaml.automl.logger: 03-14 20:35:41] {2219} INFO - iteration 147, current learner lrl1\n"
     ]
    },
    {
     "name": "stderr",
     "output_type": "stream",
     "text": [
      "c:\\Users\\gammer\\AppData\\Local\\anaconda3\\envs\\MLOps-dev\\Lib\\site-packages\\sklearn\\linear_model\\_sag.py:350: ConvergenceWarning: The max_iter was reached which means the coef_ did not converge\n",
      "  warnings.warn(\n",
      "c:\\Users\\gammer\\AppData\\Local\\anaconda3\\envs\\MLOps-dev\\Lib\\site-packages\\sklearn\\linear_model\\_sag.py:350: ConvergenceWarning: The max_iter was reached which means the coef_ did not converge\n",
      "  warnings.warn(\n",
      "c:\\Users\\gammer\\AppData\\Local\\anaconda3\\envs\\MLOps-dev\\Lib\\site-packages\\sklearn\\linear_model\\_sag.py:350: ConvergenceWarning: The max_iter was reached which means the coef_ did not converge\n",
      "  warnings.warn(\n",
      "c:\\Users\\gammer\\AppData\\Local\\anaconda3\\envs\\MLOps-dev\\Lib\\site-packages\\sklearn\\linear_model\\_sag.py:350: ConvergenceWarning: The max_iter was reached which means the coef_ did not converge\n",
      "  warnings.warn(\n"
     ]
    },
    {
     "name": "stdout",
     "output_type": "stream",
     "text": [
      "[flaml.automl.logger: 03-14 20:35:45] {2392} INFO -  at 1394.5s,\testimator lrl1's best error=0.5290,\tbest estimator catboost's best error=0.3169\n",
      "[flaml.automl.logger: 03-14 20:35:45] {2219} INFO - iteration 148, current learner extra_tree\n"
     ]
    },
    {
     "name": "stderr",
     "output_type": "stream",
     "text": [
      "c:\\Users\\gammer\\AppData\\Local\\anaconda3\\envs\\MLOps-dev\\Lib\\site-packages\\sklearn\\linear_model\\_sag.py:350: ConvergenceWarning: The max_iter was reached which means the coef_ did not converge\n",
      "  warnings.warn(\n"
     ]
    },
    {
     "name": "stdout",
     "output_type": "stream",
     "text": [
      "[flaml.automl.logger: 03-14 20:36:05] {2392} INFO -  at 1414.7s,\testimator extra_tree's best error=0.3550,\tbest estimator catboost's best error=0.3169\n",
      "[flaml.automl.logger: 03-14 20:36:05] {2219} INFO - iteration 149, current learner rf\n",
      "[flaml.automl.logger: 03-14 20:36:51] {2392} INFO -  at 1460.7s,\testimator rf's best error=0.3719,\tbest estimator catboost's best error=0.3169\n",
      "[flaml.automl.logger: 03-14 20:36:51] {2219} INFO - iteration 150, current learner extra_tree\n",
      "[flaml.automl.logger: 03-14 20:36:58] {2392} INFO -  at 1467.4s,\testimator extra_tree's best error=0.3550,\tbest estimator catboost's best error=0.3169\n",
      "[flaml.automl.logger: 03-14 20:36:58] {2219} INFO - iteration 151, current learner rf\n",
      "[flaml.automl.logger: 03-14 20:37:14] {2392} INFO -  at 1483.2s,\testimator rf's best error=0.3719,\tbest estimator catboost's best error=0.3169\n",
      "[flaml.automl.logger: 03-14 20:37:14] {2219} INFO - iteration 152, current learner extra_tree\n",
      "[flaml.automl.logger: 03-14 20:37:35] {2392} INFO -  at 1504.3s,\testimator extra_tree's best error=0.3550,\tbest estimator catboost's best error=0.3169\n",
      "[flaml.automl.logger: 03-14 20:37:35] {2219} INFO - iteration 153, current learner lrl1\n"
     ]
    },
    {
     "name": "stderr",
     "output_type": "stream",
     "text": [
      "c:\\Users\\gammer\\AppData\\Local\\anaconda3\\envs\\MLOps-dev\\Lib\\site-packages\\sklearn\\linear_model\\_sag.py:350: ConvergenceWarning: The max_iter was reached which means the coef_ did not converge\n",
      "  warnings.warn(\n",
      "c:\\Users\\gammer\\AppData\\Local\\anaconda3\\envs\\MLOps-dev\\Lib\\site-packages\\sklearn\\linear_model\\_sag.py:350: ConvergenceWarning: The max_iter was reached which means the coef_ did not converge\n",
      "  warnings.warn(\n",
      "c:\\Users\\gammer\\AppData\\Local\\anaconda3\\envs\\MLOps-dev\\Lib\\site-packages\\sklearn\\linear_model\\_sag.py:350: ConvergenceWarning: The max_iter was reached which means the coef_ did not converge\n",
      "  warnings.warn(\n",
      "c:\\Users\\gammer\\AppData\\Local\\anaconda3\\envs\\MLOps-dev\\Lib\\site-packages\\sklearn\\linear_model\\_sag.py:350: ConvergenceWarning: The max_iter was reached which means the coef_ did not converge\n",
      "  warnings.warn(\n"
     ]
    },
    {
     "name": "stdout",
     "output_type": "stream",
     "text": [
      "[flaml.automl.logger: 03-14 20:37:38] {2392} INFO -  at 1507.6s,\testimator lrl1's best error=0.5290,\tbest estimator catboost's best error=0.3169\n",
      "[flaml.automl.logger: 03-14 20:37:38] {2219} INFO - iteration 154, current learner lrl1\n"
     ]
    },
    {
     "name": "stderr",
     "output_type": "stream",
     "text": [
      "c:\\Users\\gammer\\AppData\\Local\\anaconda3\\envs\\MLOps-dev\\Lib\\site-packages\\sklearn\\linear_model\\_sag.py:350: ConvergenceWarning: The max_iter was reached which means the coef_ did not converge\n",
      "  warnings.warn(\n",
      "c:\\Users\\gammer\\AppData\\Local\\anaconda3\\envs\\MLOps-dev\\Lib\\site-packages\\sklearn\\linear_model\\_sag.py:350: ConvergenceWarning: The max_iter was reached which means the coef_ did not converge\n",
      "  warnings.warn(\n",
      "c:\\Users\\gammer\\AppData\\Local\\anaconda3\\envs\\MLOps-dev\\Lib\\site-packages\\sklearn\\linear_model\\_sag.py:350: ConvergenceWarning: The max_iter was reached which means the coef_ did not converge\n",
      "  warnings.warn(\n",
      "c:\\Users\\gammer\\AppData\\Local\\anaconda3\\envs\\MLOps-dev\\Lib\\site-packages\\sklearn\\linear_model\\_sag.py:350: ConvergenceWarning: The max_iter was reached which means the coef_ did not converge\n",
      "  warnings.warn(\n",
      "c:\\Users\\gammer\\AppData\\Local\\anaconda3\\envs\\MLOps-dev\\Lib\\site-packages\\sklearn\\linear_model\\_sag.py:350: ConvergenceWarning: The max_iter was reached which means the coef_ did not converge\n",
      "  warnings.warn(\n"
     ]
    },
    {
     "name": "stdout",
     "output_type": "stream",
     "text": [
      "[flaml.automl.logger: 03-14 20:37:42] {2392} INFO -  at 1511.1s,\testimator lrl1's best error=0.5290,\tbest estimator catboost's best error=0.3169\n",
      "[flaml.automl.logger: 03-14 20:37:42] {2219} INFO - iteration 155, current learner lrl1\n"
     ]
    },
    {
     "name": "stderr",
     "output_type": "stream",
     "text": [
      "c:\\Users\\gammer\\AppData\\Local\\anaconda3\\envs\\MLOps-dev\\Lib\\site-packages\\sklearn\\linear_model\\_sag.py:350: ConvergenceWarning: The max_iter was reached which means the coef_ did not converge\n",
      "  warnings.warn(\n",
      "c:\\Users\\gammer\\AppData\\Local\\anaconda3\\envs\\MLOps-dev\\Lib\\site-packages\\sklearn\\linear_model\\_sag.py:350: ConvergenceWarning: The max_iter was reached which means the coef_ did not converge\n",
      "  warnings.warn(\n",
      "c:\\Users\\gammer\\AppData\\Local\\anaconda3\\envs\\MLOps-dev\\Lib\\site-packages\\sklearn\\linear_model\\_sag.py:350: ConvergenceWarning: The max_iter was reached which means the coef_ did not converge\n",
      "  warnings.warn(\n",
      "c:\\Users\\gammer\\AppData\\Local\\anaconda3\\envs\\MLOps-dev\\Lib\\site-packages\\sklearn\\linear_model\\_sag.py:350: ConvergenceWarning: The max_iter was reached which means the coef_ did not converge\n",
      "  warnings.warn(\n",
      "c:\\Users\\gammer\\AppData\\Local\\anaconda3\\envs\\MLOps-dev\\Lib\\site-packages\\sklearn\\linear_model\\_sag.py:350: ConvergenceWarning: The max_iter was reached which means the coef_ did not converge\n",
      "  warnings.warn(\n"
     ]
    },
    {
     "name": "stdout",
     "output_type": "stream",
     "text": [
      "[flaml.automl.logger: 03-14 20:37:45] {2392} INFO -  at 1514.5s,\testimator lrl1's best error=0.5289,\tbest estimator catboost's best error=0.3169\n",
      "[flaml.automl.logger: 03-14 20:37:45] {2219} INFO - iteration 156, current learner lgbm\n"
     ]
    },
    {
     "name": "stderr",
     "output_type": "stream",
     "text": [
      "c:\\Users\\gammer\\AppData\\Local\\anaconda3\\envs\\MLOps-dev\\Lib\\site-packages\\sklearn\\linear_model\\_sag.py:350: ConvergenceWarning: The max_iter was reached which means the coef_ did not converge\n",
      "  warnings.warn(\n"
     ]
    },
    {
     "name": "stdout",
     "output_type": "stream",
     "text": [
      "[flaml.automl.logger: 03-14 20:38:07] {2392} INFO -  at 1536.2s,\testimator lgbm's best error=0.3390,\tbest estimator catboost's best error=0.3169\n",
      "[flaml.automl.logger: 03-14 20:38:07] {2219} INFO - iteration 157, current learner rf\n",
      "[flaml.automl.logger: 03-14 20:38:40] {2392} INFO -  at 1569.6s,\testimator rf's best error=0.3719,\tbest estimator catboost's best error=0.3169\n",
      "[flaml.automl.logger: 03-14 20:38:40] {2219} INFO - iteration 158, current learner lrl1\n"
     ]
    },
    {
     "name": "stderr",
     "output_type": "stream",
     "text": [
      "c:\\Users\\gammer\\AppData\\Local\\anaconda3\\envs\\MLOps-dev\\Lib\\site-packages\\sklearn\\linear_model\\_sag.py:350: ConvergenceWarning: The max_iter was reached which means the coef_ did not converge\n",
      "  warnings.warn(\n",
      "c:\\Users\\gammer\\AppData\\Local\\anaconda3\\envs\\MLOps-dev\\Lib\\site-packages\\sklearn\\linear_model\\_sag.py:350: ConvergenceWarning: The max_iter was reached which means the coef_ did not converge\n",
      "  warnings.warn(\n",
      "c:\\Users\\gammer\\AppData\\Local\\anaconda3\\envs\\MLOps-dev\\Lib\\site-packages\\sklearn\\linear_model\\_sag.py:350: ConvergenceWarning: The max_iter was reached which means the coef_ did not converge\n",
      "  warnings.warn(\n",
      "c:\\Users\\gammer\\AppData\\Local\\anaconda3\\envs\\MLOps-dev\\Lib\\site-packages\\sklearn\\linear_model\\_sag.py:350: ConvergenceWarning: The max_iter was reached which means the coef_ did not converge\n",
      "  warnings.warn(\n"
     ]
    },
    {
     "name": "stdout",
     "output_type": "stream",
     "text": [
      "[flaml.automl.logger: 03-14 20:38:43] {2392} INFO -  at 1572.8s,\testimator lrl1's best error=0.5289,\tbest estimator catboost's best error=0.3169\n",
      "[flaml.automl.logger: 03-14 20:38:43] {2219} INFO - iteration 159, current learner lrl1\n"
     ]
    },
    {
     "name": "stderr",
     "output_type": "stream",
     "text": [
      "c:\\Users\\gammer\\AppData\\Local\\anaconda3\\envs\\MLOps-dev\\Lib\\site-packages\\sklearn\\linear_model\\_sag.py:350: ConvergenceWarning: The max_iter was reached which means the coef_ did not converge\n",
      "  warnings.warn(\n",
      "c:\\Users\\gammer\\AppData\\Local\\anaconda3\\envs\\MLOps-dev\\Lib\\site-packages\\sklearn\\linear_model\\_sag.py:350: ConvergenceWarning: The max_iter was reached which means the coef_ did not converge\n",
      "  warnings.warn(\n",
      "c:\\Users\\gammer\\AppData\\Local\\anaconda3\\envs\\MLOps-dev\\Lib\\site-packages\\sklearn\\linear_model\\_sag.py:350: ConvergenceWarning: The max_iter was reached which means the coef_ did not converge\n",
      "  warnings.warn(\n",
      "c:\\Users\\gammer\\AppData\\Local\\anaconda3\\envs\\MLOps-dev\\Lib\\site-packages\\sklearn\\linear_model\\_sag.py:350: ConvergenceWarning: The max_iter was reached which means the coef_ did not converge\n",
      "  warnings.warn(\n",
      "c:\\Users\\gammer\\AppData\\Local\\anaconda3\\envs\\MLOps-dev\\Lib\\site-packages\\sklearn\\linear_model\\_sag.py:350: ConvergenceWarning: The max_iter was reached which means the coef_ did not converge\n",
      "  warnings.warn(\n"
     ]
    },
    {
     "name": "stdout",
     "output_type": "stream",
     "text": [
      "[flaml.automl.logger: 03-14 20:38:47] {2392} INFO -  at 1576.6s,\testimator lrl1's best error=0.5289,\tbest estimator catboost's best error=0.3169\n",
      "[flaml.automl.logger: 03-14 20:38:47] {2219} INFO - iteration 160, current learner extra_tree\n"
     ]
    },
    {
     "name": "stderr",
     "output_type": "stream",
     "text": [
      "c:\\Users\\gammer\\AppData\\Local\\anaconda3\\envs\\MLOps-dev\\Lib\\site-packages\\sklearn\\linear_model\\_sag.py:350: ConvergenceWarning: The max_iter was reached which means the coef_ did not converge\n",
      "  warnings.warn(\n"
     ]
    },
    {
     "name": "stdout",
     "output_type": "stream",
     "text": [
      "[flaml.automl.logger: 03-14 20:38:54] {2392} INFO -  at 1583.4s,\testimator extra_tree's best error=0.3550,\tbest estimator catboost's best error=0.3169\n",
      "[flaml.automl.logger: 03-14 20:38:54] {2219} INFO - iteration 161, current learner xgb_limitdepth\n",
      "[flaml.automl.logger: 03-14 20:39:52] {2392} INFO -  at 1641.6s,\testimator xgb_limitdepth's best error=0.3235,\tbest estimator catboost's best error=0.3169\n",
      "[flaml.automl.logger: 03-14 20:39:52] {2219} INFO - iteration 162, current learner lrl1\n"
     ]
    },
    {
     "name": "stderr",
     "output_type": "stream",
     "text": [
      "c:\\Users\\gammer\\AppData\\Local\\anaconda3\\envs\\MLOps-dev\\Lib\\site-packages\\sklearn\\linear_model\\_sag.py:350: ConvergenceWarning: The max_iter was reached which means the coef_ did not converge\n",
      "  warnings.warn(\n",
      "c:\\Users\\gammer\\AppData\\Local\\anaconda3\\envs\\MLOps-dev\\Lib\\site-packages\\sklearn\\linear_model\\_sag.py:350: ConvergenceWarning: The max_iter was reached which means the coef_ did not converge\n",
      "  warnings.warn(\n",
      "c:\\Users\\gammer\\AppData\\Local\\anaconda3\\envs\\MLOps-dev\\Lib\\site-packages\\sklearn\\linear_model\\_sag.py:350: ConvergenceWarning: The max_iter was reached which means the coef_ did not converge\n",
      "  warnings.warn(\n",
      "c:\\Users\\gammer\\AppData\\Local\\anaconda3\\envs\\MLOps-dev\\Lib\\site-packages\\sklearn\\linear_model\\_sag.py:350: ConvergenceWarning: The max_iter was reached which means the coef_ did not converge\n",
      "  warnings.warn(\n"
     ]
    },
    {
     "name": "stdout",
     "output_type": "stream",
     "text": [
      "[flaml.automl.logger: 03-14 20:39:56] {2392} INFO -  at 1645.3s,\testimator lrl1's best error=0.5286,\tbest estimator catboost's best error=0.3169\n",
      "[flaml.automl.logger: 03-14 20:39:56] {2219} INFO - iteration 163, current learner extra_tree\n"
     ]
    },
    {
     "name": "stderr",
     "output_type": "stream",
     "text": [
      "c:\\Users\\gammer\\AppData\\Local\\anaconda3\\envs\\MLOps-dev\\Lib\\site-packages\\sklearn\\linear_model\\_sag.py:350: ConvergenceWarning: The max_iter was reached which means the coef_ did not converge\n",
      "  warnings.warn(\n"
     ]
    },
    {
     "name": "stdout",
     "output_type": "stream",
     "text": [
      "[flaml.automl.logger: 03-14 20:40:00] {2392} INFO -  at 1649.5s,\testimator extra_tree's best error=0.3550,\tbest estimator catboost's best error=0.3169\n",
      "[flaml.automl.logger: 03-14 20:40:00] {2219} INFO - iteration 164, current learner lrl1\n"
     ]
    },
    {
     "name": "stderr",
     "output_type": "stream",
     "text": [
      "c:\\Users\\gammer\\AppData\\Local\\anaconda3\\envs\\MLOps-dev\\Lib\\site-packages\\sklearn\\linear_model\\_sag.py:350: ConvergenceWarning: The max_iter was reached which means the coef_ did not converge\n",
      "  warnings.warn(\n",
      "c:\\Users\\gammer\\AppData\\Local\\anaconda3\\envs\\MLOps-dev\\Lib\\site-packages\\sklearn\\linear_model\\_sag.py:350: ConvergenceWarning: The max_iter was reached which means the coef_ did not converge\n",
      "  warnings.warn(\n",
      "c:\\Users\\gammer\\AppData\\Local\\anaconda3\\envs\\MLOps-dev\\Lib\\site-packages\\sklearn\\linear_model\\_sag.py:350: ConvergenceWarning: The max_iter was reached which means the coef_ did not converge\n",
      "  warnings.warn(\n",
      "c:\\Users\\gammer\\AppData\\Local\\anaconda3\\envs\\MLOps-dev\\Lib\\site-packages\\sklearn\\linear_model\\_sag.py:350: ConvergenceWarning: The max_iter was reached which means the coef_ did not converge\n",
      "  warnings.warn(\n"
     ]
    },
    {
     "name": "stdout",
     "output_type": "stream",
     "text": [
      "[flaml.automl.logger: 03-14 20:40:04] {2392} INFO -  at 1653.1s,\testimator lrl1's best error=0.5286,\tbest estimator catboost's best error=0.3169\n",
      "[flaml.automl.logger: 03-14 20:40:04] {2219} INFO - iteration 165, current learner lrl1\n"
     ]
    },
    {
     "name": "stderr",
     "output_type": "stream",
     "text": [
      "c:\\Users\\gammer\\AppData\\Local\\anaconda3\\envs\\MLOps-dev\\Lib\\site-packages\\sklearn\\linear_model\\_sag.py:350: ConvergenceWarning: The max_iter was reached which means the coef_ did not converge\n",
      "  warnings.warn(\n",
      "c:\\Users\\gammer\\AppData\\Local\\anaconda3\\envs\\MLOps-dev\\Lib\\site-packages\\sklearn\\linear_model\\_sag.py:350: ConvergenceWarning: The max_iter was reached which means the coef_ did not converge\n",
      "  warnings.warn(\n",
      "c:\\Users\\gammer\\AppData\\Local\\anaconda3\\envs\\MLOps-dev\\Lib\\site-packages\\sklearn\\linear_model\\_sag.py:350: ConvergenceWarning: The max_iter was reached which means the coef_ did not converge\n",
      "  warnings.warn(\n",
      "c:\\Users\\gammer\\AppData\\Local\\anaconda3\\envs\\MLOps-dev\\Lib\\site-packages\\sklearn\\linear_model\\_sag.py:350: ConvergenceWarning: The max_iter was reached which means the coef_ did not converge\n",
      "  warnings.warn(\n",
      "c:\\Users\\gammer\\AppData\\Local\\anaconda3\\envs\\MLOps-dev\\Lib\\site-packages\\sklearn\\linear_model\\_sag.py:350: ConvergenceWarning: The max_iter was reached which means the coef_ did not converge\n",
      "  warnings.warn(\n"
     ]
    },
    {
     "name": "stdout",
     "output_type": "stream",
     "text": [
      "[flaml.automl.logger: 03-14 20:40:07] {2392} INFO -  at 1656.8s,\testimator lrl1's best error=0.5286,\tbest estimator catboost's best error=0.3169\n",
      "[flaml.automl.logger: 03-14 20:40:07] {2219} INFO - iteration 166, current learner lrl1\n"
     ]
    },
    {
     "name": "stderr",
     "output_type": "stream",
     "text": [
      "c:\\Users\\gammer\\AppData\\Local\\anaconda3\\envs\\MLOps-dev\\Lib\\site-packages\\sklearn\\linear_model\\_sag.py:350: ConvergenceWarning: The max_iter was reached which means the coef_ did not converge\n",
      "  warnings.warn(\n",
      "c:\\Users\\gammer\\AppData\\Local\\anaconda3\\envs\\MLOps-dev\\Lib\\site-packages\\sklearn\\linear_model\\_sag.py:350: ConvergenceWarning: The max_iter was reached which means the coef_ did not converge\n",
      "  warnings.warn(\n",
      "c:\\Users\\gammer\\AppData\\Local\\anaconda3\\envs\\MLOps-dev\\Lib\\site-packages\\sklearn\\linear_model\\_sag.py:350: ConvergenceWarning: The max_iter was reached which means the coef_ did not converge\n",
      "  warnings.warn(\n",
      "c:\\Users\\gammer\\AppData\\Local\\anaconda3\\envs\\MLOps-dev\\Lib\\site-packages\\sklearn\\linear_model\\_sag.py:350: ConvergenceWarning: The max_iter was reached which means the coef_ did not converge\n",
      "  warnings.warn(\n",
      "c:\\Users\\gammer\\AppData\\Local\\anaconda3\\envs\\MLOps-dev\\Lib\\site-packages\\sklearn\\linear_model\\_sag.py:350: ConvergenceWarning: The max_iter was reached which means the coef_ did not converge\n",
      "  warnings.warn(\n"
     ]
    },
    {
     "name": "stdout",
     "output_type": "stream",
     "text": [
      "[flaml.automl.logger: 03-14 20:40:11] {2392} INFO -  at 1660.4s,\testimator lrl1's best error=0.5286,\tbest estimator catboost's best error=0.3169\n",
      "[flaml.automl.logger: 03-14 20:40:11] {2219} INFO - iteration 167, current learner extra_tree\n"
     ]
    },
    {
     "name": "stderr",
     "output_type": "stream",
     "text": [
      "c:\\Users\\gammer\\AppData\\Local\\anaconda3\\envs\\MLOps-dev\\Lib\\site-packages\\sklearn\\linear_model\\_sag.py:350: ConvergenceWarning: The max_iter was reached which means the coef_ did not converge\n",
      "  warnings.warn(\n"
     ]
    },
    {
     "name": "stdout",
     "output_type": "stream",
     "text": [
      "[flaml.automl.logger: 03-14 20:40:44] {2392} INFO -  at 1693.7s,\testimator extra_tree's best error=0.3550,\tbest estimator catboost's best error=0.3169\n",
      "[flaml.automl.logger: 03-14 20:40:44] {2219} INFO - iteration 168, current learner lrl1\n"
     ]
    },
    {
     "name": "stderr",
     "output_type": "stream",
     "text": [
      "c:\\Users\\gammer\\AppData\\Local\\anaconda3\\envs\\MLOps-dev\\Lib\\site-packages\\sklearn\\linear_model\\_sag.py:350: ConvergenceWarning: The max_iter was reached which means the coef_ did not converge\n",
      "  warnings.warn(\n",
      "c:\\Users\\gammer\\AppData\\Local\\anaconda3\\envs\\MLOps-dev\\Lib\\site-packages\\sklearn\\linear_model\\_sag.py:350: ConvergenceWarning: The max_iter was reached which means the coef_ did not converge\n",
      "  warnings.warn(\n",
      "c:\\Users\\gammer\\AppData\\Local\\anaconda3\\envs\\MLOps-dev\\Lib\\site-packages\\sklearn\\linear_model\\_sag.py:350: ConvergenceWarning: The max_iter was reached which means the coef_ did not converge\n",
      "  warnings.warn(\n",
      "c:\\Users\\gammer\\AppData\\Local\\anaconda3\\envs\\MLOps-dev\\Lib\\site-packages\\sklearn\\linear_model\\_sag.py:350: ConvergenceWarning: The max_iter was reached which means the coef_ did not converge\n",
      "  warnings.warn(\n"
     ]
    },
    {
     "name": "stdout",
     "output_type": "stream",
     "text": [
      "[flaml.automl.logger: 03-14 20:40:48] {2392} INFO -  at 1697.5s,\testimator lrl1's best error=0.5286,\tbest estimator catboost's best error=0.3169\n",
      "[flaml.automl.logger: 03-14 20:40:48] {2219} INFO - iteration 169, current learner lrl1\n"
     ]
    },
    {
     "name": "stderr",
     "output_type": "stream",
     "text": [
      "c:\\Users\\gammer\\AppData\\Local\\anaconda3\\envs\\MLOps-dev\\Lib\\site-packages\\sklearn\\linear_model\\_sag.py:350: ConvergenceWarning: The max_iter was reached which means the coef_ did not converge\n",
      "  warnings.warn(\n",
      "c:\\Users\\gammer\\AppData\\Local\\anaconda3\\envs\\MLOps-dev\\Lib\\site-packages\\sklearn\\linear_model\\_sag.py:350: ConvergenceWarning: The max_iter was reached which means the coef_ did not converge\n",
      "  warnings.warn(\n",
      "c:\\Users\\gammer\\AppData\\Local\\anaconda3\\envs\\MLOps-dev\\Lib\\site-packages\\sklearn\\linear_model\\_sag.py:350: ConvergenceWarning: The max_iter was reached which means the coef_ did not converge\n",
      "  warnings.warn(\n",
      "c:\\Users\\gammer\\AppData\\Local\\anaconda3\\envs\\MLOps-dev\\Lib\\site-packages\\sklearn\\linear_model\\_sag.py:350: ConvergenceWarning: The max_iter was reached which means the coef_ did not converge\n",
      "  warnings.warn(\n",
      "c:\\Users\\gammer\\AppData\\Local\\anaconda3\\envs\\MLOps-dev\\Lib\\site-packages\\sklearn\\linear_model\\_sag.py:350: ConvergenceWarning: The max_iter was reached which means the coef_ did not converge\n",
      "  warnings.warn(\n"
     ]
    },
    {
     "name": "stdout",
     "output_type": "stream",
     "text": [
      "[flaml.automl.logger: 03-14 20:40:52] {2392} INFO -  at 1701.3s,\testimator lrl1's best error=0.5286,\tbest estimator catboost's best error=0.3169\n",
      "[flaml.automl.logger: 03-14 20:40:52] {2219} INFO - iteration 170, current learner lrl1\n"
     ]
    },
    {
     "name": "stderr",
     "output_type": "stream",
     "text": [
      "c:\\Users\\gammer\\AppData\\Local\\anaconda3\\envs\\MLOps-dev\\Lib\\site-packages\\sklearn\\linear_model\\_sag.py:350: ConvergenceWarning: The max_iter was reached which means the coef_ did not converge\n",
      "  warnings.warn(\n",
      "c:\\Users\\gammer\\AppData\\Local\\anaconda3\\envs\\MLOps-dev\\Lib\\site-packages\\sklearn\\linear_model\\_sag.py:350: ConvergenceWarning: The max_iter was reached which means the coef_ did not converge\n",
      "  warnings.warn(\n",
      "c:\\Users\\gammer\\AppData\\Local\\anaconda3\\envs\\MLOps-dev\\Lib\\site-packages\\sklearn\\linear_model\\_sag.py:350: ConvergenceWarning: The max_iter was reached which means the coef_ did not converge\n",
      "  warnings.warn(\n",
      "c:\\Users\\gammer\\AppData\\Local\\anaconda3\\envs\\MLOps-dev\\Lib\\site-packages\\sklearn\\linear_model\\_sag.py:350: ConvergenceWarning: The max_iter was reached which means the coef_ did not converge\n",
      "  warnings.warn(\n",
      "c:\\Users\\gammer\\AppData\\Local\\anaconda3\\envs\\MLOps-dev\\Lib\\site-packages\\sklearn\\linear_model\\_sag.py:350: ConvergenceWarning: The max_iter was reached which means the coef_ did not converge\n",
      "  warnings.warn(\n"
     ]
    },
    {
     "name": "stdout",
     "output_type": "stream",
     "text": [
      "[flaml.automl.logger: 03-14 20:40:56] {2392} INFO -  at 1705.3s,\testimator lrl1's best error=0.5286,\tbest estimator catboost's best error=0.3169\n",
      "[flaml.automl.logger: 03-14 20:40:56] {2219} INFO - iteration 171, current learner rf\n"
     ]
    },
    {
     "name": "stderr",
     "output_type": "stream",
     "text": [
      "c:\\Users\\gammer\\AppData\\Local\\anaconda3\\envs\\MLOps-dev\\Lib\\site-packages\\sklearn\\linear_model\\_sag.py:350: ConvergenceWarning: The max_iter was reached which means the coef_ did not converge\n",
      "  warnings.warn(\n"
     ]
    },
    {
     "name": "stdout",
     "output_type": "stream",
     "text": [
      "[flaml.automl.logger: 03-14 20:41:17] {2392} INFO -  at 1726.2s,\testimator rf's best error=0.3657,\tbest estimator catboost's best error=0.3169\n",
      "[flaml.automl.logger: 03-14 20:41:17] {2219} INFO - iteration 172, current learner lgbm\n",
      "[flaml.automl.logger: 03-14 20:41:44] {2392} INFO -  at 1753.3s,\testimator lgbm's best error=0.3370,\tbest estimator catboost's best error=0.3169\n",
      "[flaml.automl.logger: 03-14 20:41:44] {2219} INFO - iteration 173, current learner lgbm\n",
      "[flaml.automl.logger: 03-14 20:42:22] {2392} INFO -  at 1791.1s,\testimator lgbm's best error=0.3370,\tbest estimator catboost's best error=0.3169\n",
      "[flaml.automl.logger: 03-14 20:42:22] {2219} INFO - iteration 174, current learner extra_tree\n",
      "[flaml.automl.logger: 03-14 20:42:31] {2392} INFO -  at 1799.9s,\testimator extra_tree's best error=0.3550,\tbest estimator catboost's best error=0.3169\n",
      "[flaml.automl.logger: 03-14 20:42:31] {2219} INFO - iteration 175, current learner lrl1\n"
     ]
    },
    {
     "name": "stderr",
     "output_type": "stream",
     "text": [
      "c:\\Users\\gammer\\AppData\\Local\\anaconda3\\envs\\MLOps-dev\\Lib\\site-packages\\sklearn\\linear_model\\_sag.py:350: ConvergenceWarning: The max_iter was reached which means the coef_ did not converge\n",
      "  warnings.warn(\n",
      "c:\\Users\\gammer\\AppData\\Local\\anaconda3\\envs\\MLOps-dev\\Lib\\site-packages\\sklearn\\linear_model\\_sag.py:350: ConvergenceWarning: The max_iter was reached which means the coef_ did not converge\n",
      "  warnings.warn(\n",
      "c:\\Users\\gammer\\AppData\\Local\\anaconda3\\envs\\MLOps-dev\\Lib\\site-packages\\sklearn\\linear_model\\_sag.py:350: ConvergenceWarning: The max_iter was reached which means the coef_ did not converge\n",
      "  warnings.warn(\n",
      "c:\\Users\\gammer\\AppData\\Local\\anaconda3\\envs\\MLOps-dev\\Lib\\site-packages\\sklearn\\linear_model\\_sag.py:350: ConvergenceWarning: The max_iter was reached which means the coef_ did not converge\n",
      "  warnings.warn(\n"
     ]
    },
    {
     "name": "stdout",
     "output_type": "stream",
     "text": [
      "[flaml.automl.logger: 03-14 20:42:34] {2392} INFO -  at 1803.5s,\testimator lrl1's best error=0.5286,\tbest estimator catboost's best error=0.3169\n",
      "[flaml.automl.logger: 03-14 20:42:34] {2219} INFO - iteration 176, current learner xgb_limitdepth\n"
     ]
    },
    {
     "name": "stderr",
     "output_type": "stream",
     "text": [
      "c:\\Users\\gammer\\AppData\\Local\\anaconda3\\envs\\MLOps-dev\\Lib\\site-packages\\sklearn\\linear_model\\_sag.py:350: ConvergenceWarning: The max_iter was reached which means the coef_ did not converge\n",
      "  warnings.warn(\n"
     ]
    },
    {
     "name": "stdout",
     "output_type": "stream",
     "text": [
      "[flaml.automl.logger: 03-14 20:45:44] {2392} INFO -  at 1993.9s,\testimator xgb_limitdepth's best error=0.3235,\tbest estimator catboost's best error=0.3169\n",
      "[flaml.automl.logger: 03-14 20:45:44] {2219} INFO - iteration 177, current learner catboost\n",
      "[flaml.automl.logger: 03-14 20:46:22] {2392} INFO -  at 2031.8s,\testimator catboost's best error=0.3169,\tbest estimator catboost's best error=0.3169\n",
      "[flaml.automl.logger: 03-14 20:46:22] {2219} INFO - iteration 178, current learner lrl1\n"
     ]
    },
    {
     "name": "stderr",
     "output_type": "stream",
     "text": [
      "c:\\Users\\gammer\\AppData\\Local\\anaconda3\\envs\\MLOps-dev\\Lib\\site-packages\\sklearn\\linear_model\\_sag.py:350: ConvergenceWarning: The max_iter was reached which means the coef_ did not converge\n",
      "  warnings.warn(\n",
      "c:\\Users\\gammer\\AppData\\Local\\anaconda3\\envs\\MLOps-dev\\Lib\\site-packages\\sklearn\\linear_model\\_sag.py:350: ConvergenceWarning: The max_iter was reached which means the coef_ did not converge\n",
      "  warnings.warn(\n",
      "c:\\Users\\gammer\\AppData\\Local\\anaconda3\\envs\\MLOps-dev\\Lib\\site-packages\\sklearn\\linear_model\\_sag.py:350: ConvergenceWarning: The max_iter was reached which means the coef_ did not converge\n",
      "  warnings.warn(\n",
      "c:\\Users\\gammer\\AppData\\Local\\anaconda3\\envs\\MLOps-dev\\Lib\\site-packages\\sklearn\\linear_model\\_sag.py:350: ConvergenceWarning: The max_iter was reached which means the coef_ did not converge\n",
      "  warnings.warn(\n"
     ]
    },
    {
     "name": "stdout",
     "output_type": "stream",
     "text": [
      "[flaml.automl.logger: 03-14 20:46:27] {2392} INFO -  at 2036.0s,\testimator lrl1's best error=0.5286,\tbest estimator catboost's best error=0.3169\n",
      "[flaml.automl.logger: 03-14 20:46:27] {2219} INFO - iteration 179, current learner xgb_limitdepth\n"
     ]
    },
    {
     "name": "stderr",
     "output_type": "stream",
     "text": [
      "c:\\Users\\gammer\\AppData\\Local\\anaconda3\\envs\\MLOps-dev\\Lib\\site-packages\\sklearn\\linear_model\\_sag.py:350: ConvergenceWarning: The max_iter was reached which means the coef_ did not converge\n",
      "  warnings.warn(\n"
     ]
    },
    {
     "name": "stdout",
     "output_type": "stream",
     "text": [
      "[flaml.automl.logger: 03-14 20:47:52] {2392} INFO -  at 2121.2s,\testimator xgb_limitdepth's best error=0.3235,\tbest estimator catboost's best error=0.3169\n",
      "[flaml.automl.logger: 03-14 20:47:52] {2219} INFO - iteration 180, current learner catboost\n",
      "[flaml.automl.logger: 03-14 20:49:13] {2392} INFO -  at 2202.5s,\testimator catboost's best error=0.3169,\tbest estimator catboost's best error=0.3169\n",
      "[flaml.automl.logger: 03-14 20:49:13] {2219} INFO - iteration 181, current learner xgb_limitdepth\n",
      "[flaml.automl.logger: 03-14 20:51:31] {2392} INFO -  at 2340.1s,\testimator xgb_limitdepth's best error=0.3235,\tbest estimator catboost's best error=0.3169\n",
      "[flaml.automl.logger: 03-14 20:51:31] {2219} INFO - iteration 182, current learner lrl1\n"
     ]
    },
    {
     "name": "stderr",
     "output_type": "stream",
     "text": [
      "c:\\Users\\gammer\\AppData\\Local\\anaconda3\\envs\\MLOps-dev\\Lib\\site-packages\\sklearn\\linear_model\\_sag.py:350: ConvergenceWarning: The max_iter was reached which means the coef_ did not converge\n",
      "  warnings.warn(\n",
      "c:\\Users\\gammer\\AppData\\Local\\anaconda3\\envs\\MLOps-dev\\Lib\\site-packages\\sklearn\\linear_model\\_sag.py:350: ConvergenceWarning: The max_iter was reached which means the coef_ did not converge\n",
      "  warnings.warn(\n",
      "c:\\Users\\gammer\\AppData\\Local\\anaconda3\\envs\\MLOps-dev\\Lib\\site-packages\\sklearn\\linear_model\\_sag.py:350: ConvergenceWarning: The max_iter was reached which means the coef_ did not converge\n",
      "  warnings.warn(\n",
      "c:\\Users\\gammer\\AppData\\Local\\anaconda3\\envs\\MLOps-dev\\Lib\\site-packages\\sklearn\\linear_model\\_sag.py:350: ConvergenceWarning: The max_iter was reached which means the coef_ did not converge\n",
      "  warnings.warn(\n"
     ]
    },
    {
     "name": "stdout",
     "output_type": "stream",
     "text": [
      "[flaml.automl.logger: 03-14 20:51:34] {2392} INFO -  at 2343.5s,\testimator lrl1's best error=0.5286,\tbest estimator catboost's best error=0.3169\n",
      "[flaml.automl.logger: 03-14 20:51:34] {2219} INFO - iteration 183, current learner lrl1\n"
     ]
    },
    {
     "name": "stderr",
     "output_type": "stream",
     "text": [
      "c:\\Users\\gammer\\AppData\\Local\\anaconda3\\envs\\MLOps-dev\\Lib\\site-packages\\sklearn\\linear_model\\_sag.py:350: ConvergenceWarning: The max_iter was reached which means the coef_ did not converge\n",
      "  warnings.warn(\n",
      "c:\\Users\\gammer\\AppData\\Local\\anaconda3\\envs\\MLOps-dev\\Lib\\site-packages\\sklearn\\linear_model\\_sag.py:350: ConvergenceWarning: The max_iter was reached which means the coef_ did not converge\n",
      "  warnings.warn(\n",
      "c:\\Users\\gammer\\AppData\\Local\\anaconda3\\envs\\MLOps-dev\\Lib\\site-packages\\sklearn\\linear_model\\_sag.py:350: ConvergenceWarning: The max_iter was reached which means the coef_ did not converge\n",
      "  warnings.warn(\n",
      "c:\\Users\\gammer\\AppData\\Local\\anaconda3\\envs\\MLOps-dev\\Lib\\site-packages\\sklearn\\linear_model\\_sag.py:350: ConvergenceWarning: The max_iter was reached which means the coef_ did not converge\n",
      "  warnings.warn(\n",
      "c:\\Users\\gammer\\AppData\\Local\\anaconda3\\envs\\MLOps-dev\\Lib\\site-packages\\sklearn\\linear_model\\_sag.py:350: ConvergenceWarning: The max_iter was reached which means the coef_ did not converge\n",
      "  warnings.warn(\n"
     ]
    },
    {
     "name": "stdout",
     "output_type": "stream",
     "text": [
      "[flaml.automl.logger: 03-14 20:51:38] {2392} INFO -  at 2347.0s,\testimator lrl1's best error=0.5286,\tbest estimator catboost's best error=0.3169\n",
      "[flaml.automl.logger: 03-14 20:51:38] {2526} INFO - [('catboost', {'early_stopping_rounds': 13, 'learning_rate': 0.04171721859304757, 'n_estimators': 860, 'thread_count': -1, 'verbose': False, 'random_seed': 10242048}), ('xgb_limitdepth', {'n_jobs': -1, 'n_estimators': 832, 'max_depth': 10, 'min_child_weight': 0.20868344379243448, 'learning_rate': 0.07093075883678267, 'subsample': 0.8413048297641477, 'colsample_bylevel': 0.26735884807331084, 'colsample_bytree': 0.5755451734871456, 'reg_alpha': 0.027208245582538794, 'reg_lambda': 2.07727869274457, 'verbosity': 0}), ('lgbm', {'n_jobs': -1, 'n_estimators': 185, 'num_leaves': 49, 'min_child_samples': 2, 'learning_rate': 0.18465941718556778, 'colsample_bytree': 0.8366461584896899, 'reg_alpha': 0.006311706639004055, 'reg_lambda': 0.006993008315649459, 'max_bin': 1023, 'verbose': -1}), ('extra_tree', {'n_jobs': -1, 'n_estimators': 236, 'max_features': 0.3894776971128438, 'criterion': 'entropy', 'max_leaf_nodes': 4999, 'random_state': 12032022, 'verbose': 0}), ('xgboost', {'n_jobs': -1, 'n_estimators': 47, 'max_leaves': 855, 'min_child_weight': 0.2398603022665435, 'learning_rate': 0.0063940196206999506, 'subsample': 0.831342393682173, 'colsample_bylevel': 0.5253875252572752, 'colsample_bytree': 0.7167899499420056, 'reg_alpha': 0.05407258627291316, 'reg_lambda': 2.2146541410045106, 'max_depth': 0, 'grow_policy': 'lossguide', 'tree_method': 'hist', 'verbosity': 0}), ('rf', {'n_jobs': -1, 'n_estimators': 78, 'max_features': 0.46397904914546206, 'criterion': 'gini', 'max_leaf_nodes': 510, 'random_state': 12032022, 'verbose': 0}), ('lrl1', {'n_jobs': -1, 'C': 1.6953392764553163, 'tol': 0.0001, 'solver': 'saga', 'penalty': 'l1'})]\n",
      "[flaml.automl.logger: 03-14 20:51:38] {2569} INFO - Building ensemble with tuned estimators\n"
     ]
    },
    {
     "name": "stderr",
     "output_type": "stream",
     "text": [
      "c:\\Users\\gammer\\AppData\\Local\\anaconda3\\envs\\MLOps-dev\\Lib\\site-packages\\sklearn\\linear_model\\_sag.py:350: ConvergenceWarning: The max_iter was reached which means the coef_ did not converge\n",
      "  warnings.warn(\n"
     ]
    },
    {
     "name": "stdout",
     "output_type": "stream",
     "text": [
      "[flaml.automl.logger: 03-14 21:01:46] {2575} INFO - ensemble: StackingClassifier(estimators=[('catboost',\n",
      "                                <flaml.automl.model.CatBoostEstimator object at 0x000001C454420CD0>),\n",
      "                               ('xgb_limitdepth',\n",
      "                                <flaml.automl.model.XGBoostLimitDepthEstimator object at 0x000001C45B5D47D0>),\n",
      "                               ('lgbm',\n",
      "                                <flaml.automl.model.LGBMEstimator object at 0x000001C45B5D6950>),\n",
      "                               ('extra_tree',\n",
      "                                <flaml.automl.model.ExtraTreesEstimator object at 0x000001C45B5D7090>),\n",
      "                               ('xgboost',\n",
      "                                <flaml.automl.model.XGBoostSklearnEstimator object at 0x000001C45B5D7C90>),\n",
      "                               ('rf',\n",
      "                                <flaml.automl.model.RandomForestEstimator object at 0x000001C450711590>),\n",
      "                               ('lrl1',\n",
      "                                <flaml.automl.model.LRL1Classifier object at 0x000001C4507111D0>)],\n",
      "                   n_jobs=1, passthrough=True)\n",
      "[flaml.automl.logger: 03-14 21:01:46] {1931} INFO - fit succeeded\n",
      "[flaml.automl.logger: 03-14 21:01:46] {1932} INFO - Time taken to find the best model: 638.0799150466919\n"
     ]
    },
    {
     "name": "stderr",
     "output_type": "stream",
     "text": [
      "c:\\Users\\gammer\\AppData\\Local\\anaconda3\\envs\\MLOps-dev\\Lib\\site-packages\\sklearn\\linear_model\\_logistic.py:460: ConvergenceWarning: lbfgs failed to converge (status=1):\n",
      "STOP: TOTAL NO. of ITERATIONS REACHED LIMIT.\n",
      "\n",
      "Increase the number of iterations (max_iter) or scale the data as shown in:\n",
      "    https://scikit-learn.org/stable/modules/preprocessing.html\n",
      "Please also refer to the documentation for alternative solver options:\n",
      "    https://scikit-learn.org/stable/modules/linear_model.html#logistic-regression\n",
      "  n_iter_i = _check_optimize_result(\n"
     ]
    }
   ],
   "source": [
    "automl_ens = AutoML()\n",
    "\n",
    "automl_settings_ens = {\n",
    "                    \"time_budget\": 3600, # 40 min. to find best model\n",
    "                    \"metric\": 'macro_f1',\n",
    "                    \"task\": 'classification',\n",
    "                    \"log_file_name\": 'mylog.log',\n",
    "                    \"eval_method\": 'cv',\n",
    "                    \"n_splits\": 5       \n",
    "                    }\n",
    "\n",
    "automl_ens.fit(\n",
    "                X_train = X_train_red,\n",
    "                y_train = y_train.values,\n",
    "                ensemble = True,\n",
    "                **automl_settings_red,\n",
    "                verbose = 0,\n",
    "                )"
   ]
  },
  {
   "cell_type": "code",
   "execution_count": 85,
   "metadata": {
    "execution": {
     "iopub.execute_input": "2024-03-13T14:50:43.538087Z",
     "iopub.status.busy": "2024-03-13T14:50:43.537619Z",
     "iopub.status.idle": "2024-03-13T14:50:43.547182Z",
     "shell.execute_reply": "2024-03-13T14:50:43.545881Z",
     "shell.execute_reply.started": "2024-03-13T14:50:43.538057Z"
    }
   },
   "outputs": [
    {
     "data": {
      "text/plain": [
       "'catboost'"
      ]
     },
     "execution_count": 85,
     "metadata": {},
     "output_type": "execute_result"
    }
   ],
   "source": [
    "automl_ens.best_estimator"
   ]
  },
  {
   "cell_type": "code",
   "execution_count": 87,
   "metadata": {},
   "outputs": [
    {
     "name": "stdout",
     "output_type": "stream",
     "text": [
      "Best F1_macro score: 0.6831346047057363\n"
     ]
    }
   ],
   "source": [
    "best_f1_macro = 1 - automl_ens.best_loss\n",
    "print('Best F1_macro score:', best_f1_macro )"
   ]
  },
  {
   "cell_type": "code",
   "execution_count": 88,
   "metadata": {
    "execution": {
     "iopub.execute_input": "2024-03-13T14:50:44.834101Z",
     "iopub.status.busy": "2024-03-13T14:50:44.833655Z",
     "iopub.status.idle": "2024-03-13T14:50:44.845403Z",
     "shell.execute_reply": "2024-03-13T14:50:44.843586Z",
     "shell.execute_reply.started": "2024-03-13T14:50:44.834070Z"
    }
   },
   "outputs": [
    {
     "data": {
      "text/html": [
       "<style>#sk-container-id-2 {color: black;}#sk-container-id-2 pre{padding: 0;}#sk-container-id-2 div.sk-toggleable {background-color: white;}#sk-container-id-2 label.sk-toggleable__label {cursor: pointer;display: block;width: 100%;margin-bottom: 0;padding: 0.3em;box-sizing: border-box;text-align: center;}#sk-container-id-2 label.sk-toggleable__label-arrow:before {content: \"▸\";float: left;margin-right: 0.25em;color: #696969;}#sk-container-id-2 label.sk-toggleable__label-arrow:hover:before {color: black;}#sk-container-id-2 div.sk-estimator:hover label.sk-toggleable__label-arrow:before {color: black;}#sk-container-id-2 div.sk-toggleable__content {max-height: 0;max-width: 0;overflow: hidden;text-align: left;background-color: #f0f8ff;}#sk-container-id-2 div.sk-toggleable__content pre {margin: 0.2em;color: black;border-radius: 0.25em;background-color: #f0f8ff;}#sk-container-id-2 input.sk-toggleable__control:checked~div.sk-toggleable__content {max-height: 200px;max-width: 100%;overflow: auto;}#sk-container-id-2 input.sk-toggleable__control:checked~label.sk-toggleable__label-arrow:before {content: \"▾\";}#sk-container-id-2 div.sk-estimator input.sk-toggleable__control:checked~label.sk-toggleable__label {background-color: #d4ebff;}#sk-container-id-2 div.sk-label input.sk-toggleable__control:checked~label.sk-toggleable__label {background-color: #d4ebff;}#sk-container-id-2 input.sk-hidden--visually {border: 0;clip: rect(1px 1px 1px 1px);clip: rect(1px, 1px, 1px, 1px);height: 1px;margin: -1px;overflow: hidden;padding: 0;position: absolute;width: 1px;}#sk-container-id-2 div.sk-estimator {font-family: monospace;background-color: #f0f8ff;border: 1px dotted black;border-radius: 0.25em;box-sizing: border-box;margin-bottom: 0.5em;}#sk-container-id-2 div.sk-estimator:hover {background-color: #d4ebff;}#sk-container-id-2 div.sk-parallel-item::after {content: \"\";width: 100%;border-bottom: 1px solid gray;flex-grow: 1;}#sk-container-id-2 div.sk-label:hover label.sk-toggleable__label {background-color: #d4ebff;}#sk-container-id-2 div.sk-serial::before {content: \"\";position: absolute;border-left: 1px solid gray;box-sizing: border-box;top: 0;bottom: 0;left: 50%;z-index: 0;}#sk-container-id-2 div.sk-serial {display: flex;flex-direction: column;align-items: center;background-color: white;padding-right: 0.2em;padding-left: 0.2em;position: relative;}#sk-container-id-2 div.sk-item {position: relative;z-index: 1;}#sk-container-id-2 div.sk-parallel {display: flex;align-items: stretch;justify-content: center;background-color: white;position: relative;}#sk-container-id-2 div.sk-item::before, #sk-container-id-2 div.sk-parallel-item::before {content: \"\";position: absolute;border-left: 1px solid gray;box-sizing: border-box;top: 0;bottom: 0;left: 50%;z-index: -1;}#sk-container-id-2 div.sk-parallel-item {display: flex;flex-direction: column;z-index: 1;position: relative;background-color: white;}#sk-container-id-2 div.sk-parallel-item:first-child::after {align-self: flex-end;width: 50%;}#sk-container-id-2 div.sk-parallel-item:last-child::after {align-self: flex-start;width: 50%;}#sk-container-id-2 div.sk-parallel-item:only-child::after {width: 0;}#sk-container-id-2 div.sk-dashed-wrapped {border: 1px dashed gray;margin: 0 0.4em 0.5em 0.4em;box-sizing: border-box;padding-bottom: 0.4em;background-color: white;}#sk-container-id-2 div.sk-label label {font-family: monospace;font-weight: bold;display: inline-block;line-height: 1.2em;}#sk-container-id-2 div.sk-label-container {text-align: center;}#sk-container-id-2 div.sk-container {/* jupyter's `normalize.less` sets `[hidden] { display: none; }` but bootstrap.min.css set `[hidden] { display: none !important; }` so we also need the `!important` here to be able to override the default hidden behavior on the sphinx rendered scikit-learn.org. See: https://github.com/scikit-learn/scikit-learn/issues/21755 */display: inline-block !important;position: relative;}#sk-container-id-2 div.sk-text-repr-fallback {display: none;}</style><div id=\"sk-container-id-2\" class=\"sk-top-container\"><div class=\"sk-text-repr-fallback\"><pre>StackingClassifier(estimators=[(&#x27;catboost&#x27;,\n",
       "                                &lt;flaml.automl.model.CatBoostEstimator object at 0x000001C454420CD0&gt;),\n",
       "                               (&#x27;xgb_limitdepth&#x27;,\n",
       "                                &lt;flaml.automl.model.XGBoostLimitDepthEstimator object at 0x000001C45B5D47D0&gt;),\n",
       "                               (&#x27;lgbm&#x27;,\n",
       "                                &lt;flaml.automl.model.LGBMEstimator object at 0x000001C45B5D6950&gt;),\n",
       "                               (&#x27;extra_tree&#x27;,\n",
       "                                &lt;flaml.automl.model.ExtraTreesEstimator object at 0x000001C45B5D7090&gt;),\n",
       "                               (&#x27;xgboost&#x27;,\n",
       "                                &lt;flaml.automl.model.XGBoostSklearnEstimator object at 0x000001C45B5D7C90&gt;),\n",
       "                               (&#x27;rf&#x27;,\n",
       "                                &lt;flaml.automl.model.RandomForestEstimator object at 0x000001C450711590&gt;),\n",
       "                               (&#x27;lrl1&#x27;,\n",
       "                                &lt;flaml.automl.model.LRL1Classifier object at 0x000001C4507111D0&gt;)],\n",
       "                   n_jobs=1, passthrough=True)</pre><b>In a Jupyter environment, please rerun this cell to show the HTML representation or trust the notebook. <br />On GitHub, the HTML representation is unable to render, please try loading this page with nbviewer.org.</b></div><div class=\"sk-container\" hidden><div class=\"sk-item sk-dashed-wrapped\"><div class=\"sk-label-container\"><div class=\"sk-label sk-toggleable\"><input class=\"sk-toggleable__control sk-hidden--visually\" id=\"sk-estimator-id-10\" type=\"checkbox\" ><label for=\"sk-estimator-id-10\" class=\"sk-toggleable__label sk-toggleable__label-arrow\">StackingClassifier</label><div class=\"sk-toggleable__content\"><pre>StackingClassifier(estimators=[(&#x27;catboost&#x27;,\n",
       "                                &lt;flaml.automl.model.CatBoostEstimator object at 0x000001C454420CD0&gt;),\n",
       "                               (&#x27;xgb_limitdepth&#x27;,\n",
       "                                &lt;flaml.automl.model.XGBoostLimitDepthEstimator object at 0x000001C45B5D47D0&gt;),\n",
       "                               (&#x27;lgbm&#x27;,\n",
       "                                &lt;flaml.automl.model.LGBMEstimator object at 0x000001C45B5D6950&gt;),\n",
       "                               (&#x27;extra_tree&#x27;,\n",
       "                                &lt;flaml.automl.model.ExtraTreesEstimator object at 0x000001C45B5D7090&gt;),\n",
       "                               (&#x27;xgboost&#x27;,\n",
       "                                &lt;flaml.automl.model.XGBoostSklearnEstimator object at 0x000001C45B5D7C90&gt;),\n",
       "                               (&#x27;rf&#x27;,\n",
       "                                &lt;flaml.automl.model.RandomForestEstimator object at 0x000001C450711590&gt;),\n",
       "                               (&#x27;lrl1&#x27;,\n",
       "                                &lt;flaml.automl.model.LRL1Classifier object at 0x000001C4507111D0&gt;)],\n",
       "                   n_jobs=1, passthrough=True)</pre></div></div></div><div class=\"sk-serial\"><div class=\"sk-item\"><div class=\"sk-parallel\"><div class=\"sk-parallel-item\"><div class=\"sk-item\"><div class=\"sk-label-container\"><div class=\"sk-label sk-toggleable\"><label>catboost</label></div></div><div class=\"sk-serial\"><div class=\"sk-item\"><div class=\"sk-estimator sk-toggleable\"><input class=\"sk-toggleable__control sk-hidden--visually\" id=\"sk-estimator-id-11\" type=\"checkbox\" ><label for=\"sk-estimator-id-11\" class=\"sk-toggleable__label sk-toggleable__label-arrow\">CatBoostEstimator</label><div class=\"sk-toggleable__content\"><pre>&lt;flaml.automl.model.CatBoostEstimator object at 0x000001C454420CD0&gt;</pre></div></div></div></div></div></div><div class=\"sk-parallel-item\"><div class=\"sk-item\"><div class=\"sk-label-container\"><div class=\"sk-label sk-toggleable\"><label>xgb_limitdepth</label></div></div><div class=\"sk-serial\"><div class=\"sk-item\"><div class=\"sk-estimator sk-toggleable\"><input class=\"sk-toggleable__control sk-hidden--visually\" id=\"sk-estimator-id-12\" type=\"checkbox\" ><label for=\"sk-estimator-id-12\" class=\"sk-toggleable__label sk-toggleable__label-arrow\">XGBoostLimitDepthEstimator</label><div class=\"sk-toggleable__content\"><pre>&lt;flaml.automl.model.XGBoostLimitDepthEstimator object at 0x000001C45B5D47D0&gt;</pre></div></div></div></div></div></div><div class=\"sk-parallel-item\"><div class=\"sk-item\"><div class=\"sk-label-container\"><div class=\"sk-label sk-toggleable\"><label>lgbm</label></div></div><div class=\"sk-serial\"><div class=\"sk-item\"><div class=\"sk-estimator sk-toggleable\"><input class=\"sk-toggleable__control sk-hidden--visually\" id=\"sk-estimator-id-13\" type=\"checkbox\" ><label for=\"sk-estimator-id-13\" class=\"sk-toggleable__label sk-toggleable__label-arrow\">LGBMEstimator</label><div class=\"sk-toggleable__content\"><pre>&lt;flaml.automl.model.LGBMEstimator object at 0x000001C45B5D6950&gt;</pre></div></div></div></div></div></div><div class=\"sk-parallel-item\"><div class=\"sk-item\"><div class=\"sk-label-container\"><div class=\"sk-label sk-toggleable\"><label>extra_tree</label></div></div><div class=\"sk-serial\"><div class=\"sk-item\"><div class=\"sk-estimator sk-toggleable\"><input class=\"sk-toggleable__control sk-hidden--visually\" id=\"sk-estimator-id-14\" type=\"checkbox\" ><label for=\"sk-estimator-id-14\" class=\"sk-toggleable__label sk-toggleable__label-arrow\">ExtraTreesEstimator</label><div class=\"sk-toggleable__content\"><pre>&lt;flaml.automl.model.ExtraTreesEstimator object at 0x000001C45B5D7090&gt;</pre></div></div></div></div></div></div><div class=\"sk-parallel-item\"><div class=\"sk-item\"><div class=\"sk-label-container\"><div class=\"sk-label sk-toggleable\"><label>xgboost</label></div></div><div class=\"sk-serial\"><div class=\"sk-item\"><div class=\"sk-estimator sk-toggleable\"><input class=\"sk-toggleable__control sk-hidden--visually\" id=\"sk-estimator-id-15\" type=\"checkbox\" ><label for=\"sk-estimator-id-15\" class=\"sk-toggleable__label sk-toggleable__label-arrow\">XGBoostSklearnEstimator</label><div class=\"sk-toggleable__content\"><pre>&lt;flaml.automl.model.XGBoostSklearnEstimator object at 0x000001C45B5D7C90&gt;</pre></div></div></div></div></div></div><div class=\"sk-parallel-item\"><div class=\"sk-item\"><div class=\"sk-label-container\"><div class=\"sk-label sk-toggleable\"><label>rf</label></div></div><div class=\"sk-serial\"><div class=\"sk-item\"><div class=\"sk-estimator sk-toggleable\"><input class=\"sk-toggleable__control sk-hidden--visually\" id=\"sk-estimator-id-16\" type=\"checkbox\" ><label for=\"sk-estimator-id-16\" class=\"sk-toggleable__label sk-toggleable__label-arrow\">RandomForestEstimator</label><div class=\"sk-toggleable__content\"><pre>&lt;flaml.automl.model.RandomForestEstimator object at 0x000001C450711590&gt;</pre></div></div></div></div></div></div><div class=\"sk-parallel-item\"><div class=\"sk-item\"><div class=\"sk-label-container\"><div class=\"sk-label sk-toggleable\"><label>lrl1</label></div></div><div class=\"sk-serial\"><div class=\"sk-item\"><div class=\"sk-estimator sk-toggleable\"><input class=\"sk-toggleable__control sk-hidden--visually\" id=\"sk-estimator-id-17\" type=\"checkbox\" ><label for=\"sk-estimator-id-17\" class=\"sk-toggleable__label sk-toggleable__label-arrow\">LRL1Classifier</label><div class=\"sk-toggleable__content\"><pre>&lt;flaml.automl.model.LRL1Classifier object at 0x000001C4507111D0&gt;</pre></div></div></div></div></div></div></div></div><div class=\"sk-item\"><div class=\"sk-parallel\"><div class=\"sk-parallel-item\"><div class=\"sk-item\"><div class=\"sk-label-container\"><div class=\"sk-label sk-toggleable\"><label>final_estimator</label></div></div><div class=\"sk-serial\"><div class=\"sk-item\"><div class=\"sk-estimator sk-toggleable\"><input class=\"sk-toggleable__control sk-hidden--visually\" id=\"sk-estimator-id-18\" type=\"checkbox\" ><label for=\"sk-estimator-id-18\" class=\"sk-toggleable__label sk-toggleable__label-arrow\">LogisticRegression</label><div class=\"sk-toggleable__content\"><pre>LogisticRegression()</pre></div></div></div></div></div></div></div></div></div></div></div></div>"
      ],
      "text/plain": [
       "StackingClassifier(estimators=[('catboost',\n",
       "                                <flaml.automl.model.CatBoostEstimator object at 0x000001C454420CD0>),\n",
       "                               ('xgb_limitdepth',\n",
       "                                <flaml.automl.model.XGBoostLimitDepthEstimator object at 0x000001C45B5D47D0>),\n",
       "                               ('lgbm',\n",
       "                                <flaml.automl.model.LGBMEstimator object at 0x000001C45B5D6950>),\n",
       "                               ('extra_tree',\n",
       "                                <flaml.automl.model.ExtraTreesEstimator object at 0x000001C45B5D7090>),\n",
       "                               ('xgboost',\n",
       "                                <flaml.automl.model.XGBoostSklearnEstimator object at 0x000001C45B5D7C90>),\n",
       "                               ('rf',\n",
       "                                <flaml.automl.model.RandomForestEstimator object at 0x000001C450711590>),\n",
       "                               ('lrl1',\n",
       "                                <flaml.automl.model.LRL1Classifier object at 0x000001C4507111D0>)],\n",
       "                   n_jobs=1, passthrough=True)"
      ]
     },
     "execution_count": 88,
     "metadata": {},
     "output_type": "execute_result"
    }
   ],
   "source": [
    "automl_ens.model"
   ]
  },
  {
   "cell_type": "code",
   "execution_count": 91,
   "metadata": {
    "execution": {
     "iopub.execute_input": "2024-03-13T14:50:52.113676Z",
     "iopub.status.busy": "2024-03-13T14:50:52.113158Z",
     "iopub.status.idle": "2024-03-13T14:50:53.765676Z",
     "shell.execute_reply": "2024-03-13T14:50:53.764226Z",
     "shell.execute_reply.started": "2024-03-13T14:50:52.113637Z"
    }
   },
   "outputs": [
    {
     "name": "stdout",
     "output_type": "stream",
     "text": [
      "              precision    recall  f1-score   support\n",
      "\n",
      "           0       0.58      0.47      0.52      3341\n",
      "           1       0.54      0.63      0.58      3294\n",
      "           2       0.53      0.55      0.54      3365\n",
      "\n",
      "    accuracy                           0.55     10000\n",
      "   macro avg       0.55      0.55      0.55     10000\n",
      "weighted avg       0.55      0.55      0.55     10000\n",
      "\n"
     ]
    },
    {
     "data": {
      "image/png": "[encoded data removed]",
      "text/plain": [
       "<Figure size 300x300 with 2 Axes>"
      ]
     },
     "metadata": {},
     "output_type": "display_data"
    }
   ],
   "source": [
    "pred_automl_ens = automl_ens.model.predict(X_train_red)\n",
    "cf = confusion_matrix(y_train, pred_automl_ens)\n",
    "print(classification_report(y_train, pred_automl_ens))\n",
    "\n",
    "fig, ax = plt.subplots(figsize=(3,3))\n",
    "sns.heatmap(confusion_matrix(y_train, pred_automl_ens), annot=True, vmin=0, ax=ax)\n",
    "plt.show()"
   ]
  },
  {
   "cell_type": "markdown",
   "metadata": {},
   "source": [
    "The ensemble model is much worse than the previous Catboost model"
   ]
  },
  {
   "cell_type": "markdown",
   "metadata": {},
   "source": [
    "## Finetune CatBoost using GridSearchCV"
   ]
  },
  {
   "cell_type": "code",
   "execution_count": 98,
   "metadata": {
    "execution": {
     "iopub.execute_input": "2024-03-11T17:44:13.014887Z",
     "iopub.status.busy": "2024-03-11T17:44:13.014498Z",
     "iopub.status.idle": "2024-03-11T17:44:13.023832Z",
     "shell.execute_reply": "2024-03-11T17:44:13.022235Z",
     "shell.execute_reply.started": "2024-03-11T17:44:13.014857Z"
    }
   },
   "outputs": [],
   "source": [
    "from sklearn.model_selection import GridSearchCV\n",
    "\n",
    "catboost_tune = CatBoostClassifier(random_seed = 23,\n",
    "                                   verbose = False,\n",
    "                                   thread_count = -1)\n",
    "                                  \n",
    "grid_search = {\n",
    "            #'early_stopping_rounds': [10, 20],\n",
    "            #'min_data_in_leaf': [50, 100],\n",
    "            'learning_rate': [0.01, 0.02],\n",
    "            'n_estimators': [5000, 7500]\n",
    "            }\n",
    "\n",
    "grid_search_obj = GridSearchCV(\n",
    "                                estimator = catboost_tune,\n",
    "                                param_grid = grid_search,\n",
    "                                scoring = 'f1_macro',\n",
    "                                cv = 3,\n",
    "                                verbose = 2,\n",
    "                                n_jobs = -1\n",
    "                                )"
   ]
  },
  {
   "cell_type": "code",
   "execution_count": 99,
   "metadata": {
    "execution": {
     "iopub.execute_input": "2024-03-11T17:44:15.016619Z",
     "iopub.status.busy": "2024-03-11T17:44:15.016129Z",
     "iopub.status.idle": "2024-03-11T17:44:22.251419Z",
     "shell.execute_reply": "2024-03-11T17:44:22.250284Z",
     "shell.execute_reply.started": "2024-03-11T17:44:15.016587Z"
    }
   },
   "outputs": [
    {
     "name": "stdout",
     "output_type": "stream",
     "text": [
      "Fitting 3 folds for each of 4 candidates, totalling 12 fits\n"
     ]
    },
    {
     "data": {
      "text/html": [
       "<style>#sk-container-id-4 {color: black;}#sk-container-id-4 pre{padding: 0;}#sk-container-id-4 div.sk-toggleable {background-color: white;}#sk-container-id-4 label.sk-toggleable__label {cursor: pointer;display: block;width: 100%;margin-bottom: 0;padding: 0.3em;box-sizing: border-box;text-align: center;}#sk-container-id-4 label.sk-toggleable__label-arrow:before {content: \"▸\";float: left;margin-right: 0.25em;color: #696969;}#sk-container-id-4 label.sk-toggleable__label-arrow:hover:before {color: black;}#sk-container-id-4 div.sk-estimator:hover label.sk-toggleable__label-arrow:before {color: black;}#sk-container-id-4 div.sk-toggleable__content {max-height: 0;max-width: 0;overflow: hidden;text-align: left;background-color: #f0f8ff;}#sk-container-id-4 div.sk-toggleable__content pre {margin: 0.2em;color: black;border-radius: 0.25em;background-color: #f0f8ff;}#sk-container-id-4 input.sk-toggleable__control:checked~div.sk-toggleable__content {max-height: 200px;max-width: 100%;overflow: auto;}#sk-container-id-4 input.sk-toggleable__control:checked~label.sk-toggleable__label-arrow:before {content: \"▾\";}#sk-container-id-4 div.sk-estimator input.sk-toggleable__control:checked~label.sk-toggleable__label {background-color: #d4ebff;}#sk-container-id-4 div.sk-label input.sk-toggleable__control:checked~label.sk-toggleable__label {background-color: #d4ebff;}#sk-container-id-4 input.sk-hidden--visually {border: 0;clip: rect(1px 1px 1px 1px);clip: rect(1px, 1px, 1px, 1px);height: 1px;margin: -1px;overflow: hidden;padding: 0;position: absolute;width: 1px;}#sk-container-id-4 div.sk-estimator {font-family: monospace;background-color: #f0f8ff;border: 1px dotted black;border-radius: 0.25em;box-sizing: border-box;margin-bottom: 0.5em;}#sk-container-id-4 div.sk-estimator:hover {background-color: #d4ebff;}#sk-container-id-4 div.sk-parallel-item::after {content: \"\";width: 100%;border-bottom: 1px solid gray;flex-grow: 1;}#sk-container-id-4 div.sk-label:hover label.sk-toggleable__label {background-color: #d4ebff;}#sk-container-id-4 div.sk-serial::before {content: \"\";position: absolute;border-left: 1px solid gray;box-sizing: border-box;top: 0;bottom: 0;left: 50%;z-index: 0;}#sk-container-id-4 div.sk-serial {display: flex;flex-direction: column;align-items: center;background-color: white;padding-right: 0.2em;padding-left: 0.2em;position: relative;}#sk-container-id-4 div.sk-item {position: relative;z-index: 1;}#sk-container-id-4 div.sk-parallel {display: flex;align-items: stretch;justify-content: center;background-color: white;position: relative;}#sk-container-id-4 div.sk-item::before, #sk-container-id-4 div.sk-parallel-item::before {content: \"\";position: absolute;border-left: 1px solid gray;box-sizing: border-box;top: 0;bottom: 0;left: 50%;z-index: -1;}#sk-container-id-4 div.sk-parallel-item {display: flex;flex-direction: column;z-index: 1;position: relative;background-color: white;}#sk-container-id-4 div.sk-parallel-item:first-child::after {align-self: flex-end;width: 50%;}#sk-container-id-4 div.sk-parallel-item:last-child::after {align-self: flex-start;width: 50%;}#sk-container-id-4 div.sk-parallel-item:only-child::after {width: 0;}#sk-container-id-4 div.sk-dashed-wrapped {border: 1px dashed gray;margin: 0 0.4em 0.5em 0.4em;box-sizing: border-box;padding-bottom: 0.4em;background-color: white;}#sk-container-id-4 div.sk-label label {font-family: monospace;font-weight: bold;display: inline-block;line-height: 1.2em;}#sk-container-id-4 div.sk-label-container {text-align: center;}#sk-container-id-4 div.sk-container {/* jupyter's `normalize.less` sets `[hidden] { display: none; }` but bootstrap.min.css set `[hidden] { display: none !important; }` so we also need the `!important` here to be able to override the default hidden behavior on the sphinx rendered scikit-learn.org. See: https://github.com/scikit-learn/scikit-learn/issues/21755 */display: inline-block !important;position: relative;}#sk-container-id-4 div.sk-text-repr-fallback {display: none;}</style><div id=\"sk-container-id-4\" class=\"sk-top-container\"><div class=\"sk-text-repr-fallback\"><pre>GridSearchCV(cv=3,\n",
       "             estimator=&lt;catboost.core.CatBoostClassifier object at 0x000001C4031D0390&gt;,\n",
       "             n_jobs=-1,\n",
       "             param_grid={&#x27;learning_rate&#x27;: [0.01, 0.02],\n",
       "                         &#x27;n_estimators&#x27;: [5000, 7500]},\n",
       "             scoring=&#x27;f1_macro&#x27;, verbose=2)</pre><b>In a Jupyter environment, please rerun this cell to show the HTML representation or trust the notebook. <br />On GitHub, the HTML representation is unable to render, please try loading this page with nbviewer.org.</b></div><div class=\"sk-container\" hidden><div class=\"sk-item sk-dashed-wrapped\"><div class=\"sk-label-container\"><div class=\"sk-label sk-toggleable\"><input class=\"sk-toggleable__control sk-hidden--visually\" id=\"sk-estimator-id-22\" type=\"checkbox\" ><label for=\"sk-estimator-id-22\" class=\"sk-toggleable__label sk-toggleable__label-arrow\">GridSearchCV</label><div class=\"sk-toggleable__content\"><pre>GridSearchCV(cv=3,\n",
       "             estimator=&lt;catboost.core.CatBoostClassifier object at 0x000001C4031D0390&gt;,\n",
       "             n_jobs=-1,\n",
       "             param_grid={&#x27;learning_rate&#x27;: [0.01, 0.02],\n",
       "                         &#x27;n_estimators&#x27;: [5000, 7500]},\n",
       "             scoring=&#x27;f1_macro&#x27;, verbose=2)</pre></div></div></div><div class=\"sk-parallel\"><div class=\"sk-parallel-item\"><div class=\"sk-item\"><div class=\"sk-label-container\"><div class=\"sk-label sk-toggleable\"><input class=\"sk-toggleable__control sk-hidden--visually\" id=\"sk-estimator-id-23\" type=\"checkbox\" ><label for=\"sk-estimator-id-23\" class=\"sk-toggleable__label sk-toggleable__label-arrow\">estimator: CatBoostClassifier</label><div class=\"sk-toggleable__content\"><pre>&lt;catboost.core.CatBoostClassifier object at 0x000001C4031D0390&gt;</pre></div></div></div><div class=\"sk-serial\"><div class=\"sk-item\"><div class=\"sk-estimator sk-toggleable\"><input class=\"sk-toggleable__control sk-hidden--visually\" id=\"sk-estimator-id-24\" type=\"checkbox\" ><label for=\"sk-estimator-id-24\" class=\"sk-toggleable__label sk-toggleable__label-arrow\">CatBoostClassifier</label><div class=\"sk-toggleable__content\"><pre>&lt;catboost.core.CatBoostClassifier object at 0x000001C4031D0390&gt;</pre></div></div></div></div></div></div></div></div></div></div>"
      ],
      "text/plain": [
       "GridSearchCV(cv=3,\n",
       "             estimator=<catboost.core.CatBoostClassifier object at 0x000001C4031D0390>,\n",
       "             n_jobs=-1,\n",
       "             param_grid={'learning_rate': [0.01, 0.02],\n",
       "                         'n_estimators': [5000, 7500]},\n",
       "             scoring='f1_macro', verbose=2)"
      ]
     },
     "execution_count": 99,
     "metadata": {},
     "output_type": "execute_result"
    }
   ],
   "source": [
    "grid_search_obj.fit(X_train_red, y_train)"
   ]
  },
  {
   "cell_type": "code",
   "execution_count": 102,
   "metadata": {
    "execution": {
     "iopub.execute_input": "2024-03-11T17:44:26.352920Z",
     "iopub.status.busy": "2024-03-11T17:44:26.352509Z",
     "iopub.status.idle": "2024-03-11T17:44:26.400550Z",
     "shell.execute_reply": "2024-03-11T17:44:26.399436Z",
     "shell.execute_reply.started": "2024-03-11T17:44:26.352881Z"
    }
   },
   "outputs": [
    {
     "name": "stdout",
     "output_type": "stream",
     "text": [
      "[[3129  111  101]\n",
      " [  96 3106   92]\n",
      " [ 144  101 3120]]\n",
      "              precision    recall  f1-score   support\n",
      "\n",
      "           0       0.93      0.94      0.93      3341\n",
      "           1       0.94      0.94      0.94      3294\n",
      "           2       0.94      0.93      0.93      3365\n",
      "\n",
      "    accuracy                           0.94     10000\n",
      "   macro avg       0.94      0.94      0.94     10000\n",
      "weighted avg       0.94      0.94      0.94     10000\n",
      "\n"
     ]
    },
    {
     "data": {
      "image/png": "[encoded data removed]",
      "text/plain": [
       "<Figure size 300x300 with 2 Axes>"
      ]
     },
     "metadata": {},
     "output_type": "display_data"
    }
   ],
   "source": [
    "pred_cat_grid = grid_search_obj.best_estimator_.predict(X_train_red)\n",
    "print(classification_report(y_train, pred_cat_grid))\n",
    "\n",
    "fig, ax = plt.subplots(figsize=(3,3))\n",
    "sns.heatmap(confusion_matrix(y_train, pred_cat_grid), annot=True, vmin=0, ax=ax)\n",
    "plt.show()"
   ]
  },
  {
   "cell_type": "code",
   "execution_count": 101,
   "metadata": {
    "execution": {
     "iopub.execute_input": "2024-03-11T17:44:26.751536Z",
     "iopub.status.busy": "2024-03-11T17:44:26.751119Z",
     "iopub.status.idle": "2024-03-11T17:44:26.772940Z",
     "shell.execute_reply": "2024-03-11T17:44:26.771457Z",
     "shell.execute_reply.started": "2024-03-11T17:44:26.751504Z"
    }
   },
   "outputs": [
    {
     "data": {
      "text/html": [
       "<div>\n",
       "<style scoped>\n",
       "    .dataframe tbody tr th:only-of-type {\n",
       "        vertical-align: middle;\n",
       "    }\n",
       "\n",
       "    .dataframe tbody tr th {\n",
       "        vertical-align: top;\n",
       "    }\n",
       "\n",
       "    .dataframe thead th {\n",
       "        text-align: right;\n",
       "    }\n",
       "</style>\n",
       "<table border=\"1\" class=\"dataframe\">\n",
       "  <thead>\n",
       "    <tr style=\"text-align: right;\">\n",
       "      <th></th>\n",
       "      <th>Model Rank</th>\n",
       "      <th>Model Hyperparams</th>\n",
       "      <th>Avg CV F1-macro</th>\n",
       "      <th>Std Dev CV F1-macro</th>\n",
       "      <th>CV Fold 1 F1-macro</th>\n",
       "      <th>CV Fold 2 F1-macro</th>\n",
       "      <th>CV Fold 3 F1-macro</th>\n",
       "    </tr>\n",
       "  </thead>\n",
       "  <tbody>\n",
       "    <tr>\n",
       "      <th>1</th>\n",
       "      <td>1</td>\n",
       "      <td>{'learning_rate': 0.01, 'n_estimators': 7500}</td>\n",
       "      <td>0.694275</td>\n",
       "      <td>0.008199</td>\n",
       "      <td>0.684151</td>\n",
       "      <td>0.694442</td>\n",
       "      <td>0.704232</td>\n",
       "    </tr>\n",
       "    <tr>\n",
       "      <th>3</th>\n",
       "      <td>2</td>\n",
       "      <td>{'learning_rate': 0.02, 'n_estimators': 7500}</td>\n",
       "      <td>0.691162</td>\n",
       "      <td>0.008216</td>\n",
       "      <td>0.679963</td>\n",
       "      <td>0.694082</td>\n",
       "      <td>0.699442</td>\n",
       "    </tr>\n",
       "    <tr>\n",
       "      <th>0</th>\n",
       "      <td>3</td>\n",
       "      <td>{'learning_rate': 0.01, 'n_estimators': 5000}</td>\n",
       "      <td>0.690981</td>\n",
       "      <td>0.008110</td>\n",
       "      <td>0.682370</td>\n",
       "      <td>0.688725</td>\n",
       "      <td>0.701848</td>\n",
       "    </tr>\n",
       "    <tr>\n",
       "      <th>2</th>\n",
       "      <td>4</td>\n",
       "      <td>{'learning_rate': 0.02, 'n_estimators': 5000}</td>\n",
       "      <td>0.689705</td>\n",
       "      <td>0.006011</td>\n",
       "      <td>0.681720</td>\n",
       "      <td>0.691172</td>\n",
       "      <td>0.696222</td>\n",
       "    </tr>\n",
       "  </tbody>\n",
       "</table>\n",
       "</div>"
      ],
      "text/plain": [
       "   Model Rank                              Model Hyperparams  Avg CV F1-macro  \\\n",
       "1           1  {'learning_rate': 0.01, 'n_estimators': 7500}         0.694275   \n",
       "3           2  {'learning_rate': 0.02, 'n_estimators': 7500}         0.691162   \n",
       "0           3  {'learning_rate': 0.01, 'n_estimators': 5000}         0.690981   \n",
       "2           4  {'learning_rate': 0.02, 'n_estimators': 5000}         0.689705   \n",
       "\n",
       "   Std Dev CV F1-macro  CV Fold 1 F1-macro  CV Fold 2 F1-macro  \\\n",
       "1             0.008199            0.684151            0.694442   \n",
       "3             0.008216            0.679963            0.694082   \n",
       "0             0.008110            0.682370            0.688725   \n",
       "2             0.006011            0.681720            0.691172   \n",
       "\n",
       "   CV Fold 3 F1-macro  \n",
       "1            0.704232  \n",
       "3            0.699442  \n",
       "0            0.701848  \n",
       "2            0.696222  "
      ]
     },
     "execution_count": 101,
     "metadata": {},
     "output_type": "execute_result"
    }
   ],
   "source": [
    "pd.set_option('display.max_colwidth', None)\n",
    "\n",
    "cv_result_df = pd.DataFrame({\n",
    "    'Model Rank': grid_search_obj.cv_results_['rank_test_score'],\n",
    "    'Model Hyperparams': grid_search_obj.cv_results_['params'],\n",
    "    'Avg CV F1-macro': grid_search_obj.cv_results_['mean_test_score'],\n",
    "    'Std Dev CV F1-macro': grid_search_obj.cv_results_['std_test_score'],\n",
    "    'CV Fold 1 F1-macro': grid_search_obj.cv_results_['split0_test_score'],\n",
    "    'CV Fold 2 F1-macro': grid_search_obj.cv_results_['split1_test_score'],\n",
    "    'CV Fold 3 F1-macro': grid_search_obj.cv_results_['split2_test_score']\n",
    "})\n",
    "\n",
    "cv_result_df.sort_values(by=['Model Rank'], ascending=True)"
   ]
  },
  {
   "cell_type": "markdown",
   "metadata": {},
   "source": [
    "No performance improvement to model_Cat_red"
   ]
  },
  {
   "cell_type": "markdown",
   "metadata": {},
   "source": [
    "## Finetune CatBoost via Bayesian hyperparameter tuning using hyperopt"
   ]
  },
  {
   "cell_type": "code",
   "execution_count": 103,
   "metadata": {
    "execution": {
     "iopub.execute_input": "2024-03-13T15:03:23.720674Z",
     "iopub.status.busy": "2024-03-13T15:03:23.720062Z",
     "iopub.status.idle": "2024-03-13T15:03:24.314048Z",
     "shell.execute_reply": "2024-03-13T15:03:24.312868Z",
     "shell.execute_reply.started": "2024-03-13T15:03:23.720633Z"
    }
   },
   "outputs": [],
   "source": [
    "from hyperopt import hp, fmin, tpe, STATUS_OK, Trials"
   ]
  },
  {
   "cell_type": "code",
   "execution_count": 105,
   "metadata": {
    "execution": {
     "iopub.execute_input": "2024-03-13T15:12:04.163229Z",
     "iopub.status.busy": "2024-03-13T15:12:04.162751Z",
     "iopub.status.idle": "2024-03-13T15:19:34.385855Z",
     "shell.execute_reply": "2024-03-13T15:19:34.384381Z",
     "shell.execute_reply.started": "2024-03-13T15:12:04.163197Z"
    }
   },
   "outputs": [
    {
     "name": "stdout",
     "output_type": "stream",
     "text": [
      "100%|██████████| 5/5 [21:22<00:00, 256.42s/trial, best loss: -0.693890739048095]\n"
     ]
    },
    {
     "data": {
      "text/plain": [
       "{'learning_rate': 1, 'n_estimators': 2}"
      ]
     },
     "execution_count": 105,
     "metadata": {},
     "output_type": "execute_result"
    }
   ],
   "source": [
    "space = {\n",
    "        'learning_rate':  hp.choice('learning_rate', [0.0075, 0.01, 0.015]),\n",
    "        'n_estimators': hp.choice('n_estimators', [5000, 7500, 10000]),\n",
    "        }\n",
    "\n",
    "def objective(space):\n",
    "    cat_model_opt = CatBoostClassifier(\n",
    "                                        learning_rate = space['learning_rate'],\n",
    "                                        n_estimators = space['n_estimators'],\n",
    "                                        min_data_in_leaf = 50,\n",
    "                                        early_stopping_rounds = 20,\n",
    "                                        random_seed = 23,\n",
    "                                        verbose = False,\n",
    "                                        thread_count = -1\n",
    "                                        )\n",
    "    \n",
    "   \n",
    "       \n",
    "    f1 = cross_val_score(cat_model_opt, X_train_red, y_train, cv=3, scoring='f1_macro').mean()\n",
    "\n",
    "    # We aim to maximize accuracy, therefore we return it as a negative value\n",
    "    return {'loss': -f1, 'status': STATUS_OK }\n",
    "\n",
    "trials = Trials()\n",
    "\n",
    "best = fmin(fn=objective,\n",
    "            space=space,\n",
    "            algo=tpe.suggest, # Tree parzen estimator\n",
    "            max_evals=5,\n",
    "            trials=trials)\n",
    "best"
   ]
  },
  {
   "cell_type": "code",
   "execution_count": 108,
   "metadata": {
    "execution": {
     "iopub.execute_input": "2024-03-13T15:21:10.245179Z",
     "iopub.status.busy": "2024-03-13T15:21:10.244708Z",
     "iopub.status.idle": "2024-03-13T15:21:17.034410Z",
     "shell.execute_reply": "2024-03-13T15:21:17.033185Z",
     "shell.execute_reply.started": "2024-03-13T15:21:10.245147Z"
    }
   },
   "outputs": [],
   "source": [
    "#depth = {0: 6}\n",
    "lrate = {0: 0.0075, 1: 0.01, 2:0.015}\n",
    "n_est = {0: 5000, 1:7500, 2:10000}\n",
    "#l2_reg = {0: 10, 1: 30, 2: 100}\n",
    "\n",
    "optimal_cat = CatBoostClassifier(\n",
    "                                  learning_rate = lrate[best['learning_rate']],\n",
    "                                  #l2_leaf_reg = l2_reg[best['l2_leaf_reg']],\n",
    "                                  n_estimators = n_est[best['n_estimators']],\n",
    "                                  #min_data_in_leaf = 50,\n",
    "                                  #early_stopping_rounds = 20,\n",
    "                                  random_seed = 23,\n",
    "                                  verbose = False,\n",
    "                                  thread_count = -1,\n",
    "                                  ).fit(X_train_red,y_train)"
   ]
  },
  {
   "cell_type": "code",
   "execution_count": 109,
   "metadata": {
    "execution": {
     "iopub.execute_input": "2024-03-13T15:21:19.360075Z",
     "iopub.status.busy": "2024-03-13T15:21:19.359562Z",
     "iopub.status.idle": "2024-03-13T15:21:19.430333Z",
     "shell.execute_reply": "2024-03-13T15:21:19.428867Z",
     "shell.execute_reply.started": "2024-03-13T15:21:19.360034Z"
    }
   },
   "outputs": [
    {
     "name": "stdout",
     "output_type": "stream",
     "text": [
      "              precision    recall  f1-score   support\n",
      "\n",
      "           0       0.96      0.97      0.96      3341\n",
      "           1       0.97      0.97      0.97      3294\n",
      "           2       0.97      0.96      0.96      3365\n",
      "\n",
      "    accuracy                           0.97     10000\n",
      "   macro avg       0.97      0.97      0.97     10000\n",
      "weighted avg       0.97      0.97      0.97     10000\n",
      "\n"
     ]
    },
    {
     "data": {
      "image/png": "[encoded data removed]",
      "text/plain": [
       "<Figure size 300x300 with 2 Axes>"
      ]
     },
     "metadata": {},
     "output_type": "display_data"
    }
   ],
   "source": [
    "pred_best_cat = optimal_cat.predict(X_train_red)\n",
    "print(classification_report(y_train, pred_best_cat))\n",
    "\n",
    "fig, ax = plt.subplots(figsize=(3,3))\n",
    "sns.heatmap(confusion_matrix(y_train, pred_best_cat), annot=True, vmin=0, ax=ax)\n",
    "plt.show()"
   ]
  },
  {
   "cell_type": "code",
   "execution_count": 110,
   "metadata": {},
   "outputs": [],
   "source": [
    "y_pred_Cat_opt = optimal_cat.predict(X_test_red)"
   ]
  },
  {
   "cell_type": "code",
   "execution_count": 111,
   "metadata": {},
   "outputs": [],
   "source": [
    "df_pred_Cat_opt = pd.DataFrame()\n",
    "df_pred_Cat_opt['Id']=X_test_raw['Id']\n",
    "df_pred_Cat_opt.set_index('Id', inplace=True)\n",
    "df_pred_Cat_opt['Predicted'] = y_pred_Cat_opt.ravel()\n",
    "\n",
    "df_pred_Cat_opt.to_csv('../data/raw/df_pred_Cat_opt.csv')"
   ]
  },
  {
   "cell_type": "markdown",
   "metadata": {},
   "source": [
    "No performance improvement to model_Cat_red"
   ]
  },
  {
   "cell_type": "markdown",
   "metadata": {},
   "source": []
  }
 ],
 "metadata": {
  "kaggle": {
   "accelerator": "none",
   "dataSources": [
    {
     "databundleVersionId": 4294648,
     "sourceId": 39157,
     "sourceType": "competition"
    }
   ],
   "dockerImageVersionId": 30664,
   "isGpuEnabled": false,
   "isInternetEnabled": true,
   "language": "python",
   "sourceType": "notebook"
  },
  "kernelspec": {
   "display_name": "Python 3 (ipykernel)",
   "language": "python",
   "name": "python3"
  },
  "language_info": {
   "codemirror_mode": {
    "name": "ipython",
    "version": 3
   },
   "file_extension": ".py",
   "mimetype": "text/x-python",
   "name": "python",
   "nbconvert_exporter": "python",
   "pygments_lexer": "ipython3",
   "version": "3.11.8"
  }
 },
 "nbformat": 4,
 "nbformat_minor": 4
}
